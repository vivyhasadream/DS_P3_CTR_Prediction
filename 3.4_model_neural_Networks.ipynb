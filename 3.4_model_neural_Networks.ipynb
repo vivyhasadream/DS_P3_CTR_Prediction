{
 "cells": [
  {
   "cell_type": "code",
   "execution_count": 32,
   "metadata": {},
   "outputs": [],
   "source": [
    "from sklearn.model_selection import train_test_split, cross_val_score\n",
    "from sklearn.preprocessing import OneHotEncoder\n",
    "from sklearn.metrics import accuracy_score, confusion_matrix, ConfusionMatrixDisplay, classification_report, plot_confusion_matrix\n",
    "import numpy as np\n",
    "import pandas as pd\n",
    "import matplotlib.pyplot as plt\n",
    "import seaborn as sns\n",
    "\n",
    "import tensorflow as tf \n",
    "from tensorflow.keras.models import Sequential\n",
    "from tensorflow.keras.layers import Dense, Dropout\n",
    "from tensorflow.keras.callbacks import EarlyStopping\n",
    "from tensorflow.keras.utils import to_categorical\n",
    "from tensorflow.keras.optimizers import Adam\n",
    "\n"
   ]
  },
  {
   "cell_type": "markdown",
   "metadata": {},
   "source": [
    "# import and select data"
   ]
  },
  {
   "cell_type": "code",
   "execution_count": 6,
   "metadata": {},
   "outputs": [
    {
     "data": {
      "text/html": [
       "<div>\n",
       "<style scoped>\n",
       "    .dataframe tbody tr th:only-of-type {\n",
       "        vertical-align: middle;\n",
       "    }\n",
       "\n",
       "    .dataframe tbody tr th {\n",
       "        vertical-align: top;\n",
       "    }\n",
       "\n",
       "    .dataframe thead th {\n",
       "        text-align: right;\n",
       "    }\n",
       "</style>\n",
       "<table border=\"1\" class=\"dataframe\">\n",
       "  <thead>\n",
       "    <tr style=\"text-align: right;\">\n",
       "      <th></th>\n",
       "      <th>log_id</th>\n",
       "      <th>label</th>\n",
       "      <th>user_id</th>\n",
       "      <th>age</th>\n",
       "      <th>gender</th>\n",
       "      <th>residence</th>\n",
       "      <th>city</th>\n",
       "      <th>city_rank</th>\n",
       "      <th>series_dev</th>\n",
       "      <th>series_group</th>\n",
       "      <th>...</th>\n",
       "      <th>i_dtype</th>\n",
       "      <th>e_ch</th>\n",
       "      <th>e_m</th>\n",
       "      <th>e_po</th>\n",
       "      <th>e_pl</th>\n",
       "      <th>e_rn</th>\n",
       "      <th>e_section</th>\n",
       "      <th>label_y</th>\n",
       "      <th>cillabel</th>\n",
       "      <th>pro</th>\n",
       "    </tr>\n",
       "  </thead>\n",
       "  <tbody>\n",
       "    <tr>\n",
       "      <th>0</th>\n",
       "      <td>758591</td>\n",
       "      <td>0</td>\n",
       "      <td>152172</td>\n",
       "      <td>3</td>\n",
       "      <td>2</td>\n",
       "      <td>46</td>\n",
       "      <td>138</td>\n",
       "      <td>2</td>\n",
       "      <td>24</td>\n",
       "      <td>2</td>\n",
       "      <td>...</td>\n",
       "      <td>11</td>\n",
       "      <td>19</td>\n",
       "      <td>1217</td>\n",
       "      <td>4</td>\n",
       "      <td>1116</td>\n",
       "      <td>2</td>\n",
       "      <td>0</td>\n",
       "      <td>-1</td>\n",
       "      <td>-1</td>\n",
       "      <td>0</td>\n",
       "    </tr>\n",
       "    <tr>\n",
       "      <th>1</th>\n",
       "      <td>758591</td>\n",
       "      <td>0</td>\n",
       "      <td>152172</td>\n",
       "      <td>3</td>\n",
       "      <td>2</td>\n",
       "      <td>46</td>\n",
       "      <td>138</td>\n",
       "      <td>2</td>\n",
       "      <td>24</td>\n",
       "      <td>2</td>\n",
       "      <td>...</td>\n",
       "      <td>11</td>\n",
       "      <td>19</td>\n",
       "      <td>1217</td>\n",
       "      <td>6</td>\n",
       "      <td>1431</td>\n",
       "      <td>1</td>\n",
       "      <td>1</td>\n",
       "      <td>-1</td>\n",
       "      <td>-1</td>\n",
       "      <td>0</td>\n",
       "    </tr>\n",
       "    <tr>\n",
       "      <th>2</th>\n",
       "      <td>758562</td>\n",
       "      <td>0</td>\n",
       "      <td>152172</td>\n",
       "      <td>3</td>\n",
       "      <td>2</td>\n",
       "      <td>46</td>\n",
       "      <td>138</td>\n",
       "      <td>2</td>\n",
       "      <td>24</td>\n",
       "      <td>2</td>\n",
       "      <td>...</td>\n",
       "      <td>11</td>\n",
       "      <td>19</td>\n",
       "      <td>1217</td>\n",
       "      <td>4</td>\n",
       "      <td>1116</td>\n",
       "      <td>2</td>\n",
       "      <td>0</td>\n",
       "      <td>-1</td>\n",
       "      <td>-1</td>\n",
       "      <td>0</td>\n",
       "    </tr>\n",
       "    <tr>\n",
       "      <th>3</th>\n",
       "      <td>758562</td>\n",
       "      <td>0</td>\n",
       "      <td>152172</td>\n",
       "      <td>3</td>\n",
       "      <td>2</td>\n",
       "      <td>46</td>\n",
       "      <td>138</td>\n",
       "      <td>2</td>\n",
       "      <td>24</td>\n",
       "      <td>2</td>\n",
       "      <td>...</td>\n",
       "      <td>11</td>\n",
       "      <td>19</td>\n",
       "      <td>1217</td>\n",
       "      <td>6</td>\n",
       "      <td>1431</td>\n",
       "      <td>1</td>\n",
       "      <td>1</td>\n",
       "      <td>-1</td>\n",
       "      <td>-1</td>\n",
       "      <td>0</td>\n",
       "    </tr>\n",
       "    <tr>\n",
       "      <th>4</th>\n",
       "      <td>766198</td>\n",
       "      <td>0</td>\n",
       "      <td>152172</td>\n",
       "      <td>3</td>\n",
       "      <td>2</td>\n",
       "      <td>46</td>\n",
       "      <td>138</td>\n",
       "      <td>2</td>\n",
       "      <td>24</td>\n",
       "      <td>2</td>\n",
       "      <td>...</td>\n",
       "      <td>11</td>\n",
       "      <td>19</td>\n",
       "      <td>1217</td>\n",
       "      <td>4</td>\n",
       "      <td>1116</td>\n",
       "      <td>2</td>\n",
       "      <td>0</td>\n",
       "      <td>-1</td>\n",
       "      <td>-1</td>\n",
       "      <td>0</td>\n",
       "    </tr>\n",
       "  </tbody>\n",
       "</table>\n",
       "<p>5 rows × 45 columns</p>\n",
       "</div>"
      ],
      "text/plain": [
       "   log_id  label  user_id  age  gender  residence  city  city_rank  \\\n",
       "0  758591      0   152172    3       2         46   138          2   \n",
       "1  758591      0   152172    3       2         46   138          2   \n",
       "2  758562      0   152172    3       2         46   138          2   \n",
       "3  758562      0   152172    3       2         46   138          2   \n",
       "4  766198      0   152172    3       2         46   138          2   \n",
       "\n",
       "   series_dev  series_group  ...  i_dtype  e_ch   e_m  e_po  e_pl  e_rn  \\\n",
       "0          24             2  ...       11    19  1217     4  1116     2   \n",
       "1          24             2  ...       11    19  1217     6  1431     1   \n",
       "2          24             2  ...       11    19  1217     4  1116     2   \n",
       "3          24             2  ...       11    19  1217     6  1431     1   \n",
       "4          24             2  ...       11    19  1217     4  1116     2   \n",
       "\n",
       "   e_section  label_y  cillabel  pro  \n",
       "0          0       -1        -1    0  \n",
       "1          1       -1        -1    0  \n",
       "2          0       -1        -1    0  \n",
       "3          1       -1        -1    0  \n",
       "4          0       -1        -1    0  \n",
       "\n",
       "[5 rows x 45 columns]"
      ]
     },
     "execution_count": 6,
     "metadata": {},
     "output_type": "execute_result"
    }
   ],
   "source": [
    "df = pd.read_csv('Output_Data\\subset_300k_baseline.csv')\n",
    "df.head()"
   ]
  },
  {
   "cell_type": "code",
   "execution_count": 7,
   "metadata": {},
   "outputs": [
    {
     "name": "stdout",
     "output_type": "stream",
     "text": [
      "<class 'pandas.core.frame.DataFrame'>\n",
      "RangeIndex: 294393 entries, 0 to 294392\n",
      "Data columns (total 45 columns):\n",
      " #   Column              Non-Null Count   Dtype  \n",
      "---  ------              --------------   -----  \n",
      " 0   log_id              294393 non-null  int64  \n",
      " 1   label               294393 non-null  int64  \n",
      " 2   user_id             294393 non-null  int64  \n",
      " 3   age                 294393 non-null  int64  \n",
      " 4   gender              294393 non-null  int64  \n",
      " 5   residence           294393 non-null  int64  \n",
      " 6   city                294393 non-null  int64  \n",
      " 7   city_rank           294393 non-null  int64  \n",
      " 8   series_dev          294393 non-null  int64  \n",
      " 9   series_group        294393 non-null  int64  \n",
      " 10  emui_dev            294393 non-null  int64  \n",
      " 11  device_name         294393 non-null  int64  \n",
      " 12  device_size         294393 non-null  int64  \n",
      " 13  net_type            294393 non-null  int64  \n",
      " 14  task_id             294393 non-null  int64  \n",
      " 15  adv_id              294393 non-null  int64  \n",
      " 16  creat_type_cd       294393 non-null  int64  \n",
      " 17  adv_prim_id         294393 non-null  int64  \n",
      " 18  inter_type_cd       294393 non-null  int64  \n",
      " 19  slot_id             294393 non-null  int64  \n",
      " 20  spread_app_id       294393 non-null  int64  \n",
      " 21  hispace_app_tags    294393 non-null  int64  \n",
      " 22  app_second_class    294393 non-null  int64  \n",
      " 23  app_score           294393 non-null  float64\n",
      " 24  u_refreshTimes_x    294393 non-null  int64  \n",
      " 25  u_feedLifeCycle_x   294393 non-null  int64  \n",
      " 26  u_phonePrice        294393 non-null  int64  \n",
      " 27  u_browserLifeCycle  294393 non-null  int64  \n",
      " 28  u_browserMode       294393 non-null  int64  \n",
      " 29  u_feedLifeCycle_y   294393 non-null  int64  \n",
      " 30  u_refreshTimes_y    294393 non-null  int64  \n",
      " 31  i_regionEntity      294393 non-null  int64  \n",
      " 32  i_cat               294393 non-null  int64  \n",
      " 33  i_dislikeTimes      294393 non-null  int64  \n",
      " 34  i_upTimes           294393 non-null  int64  \n",
      " 35  i_dtype             294393 non-null  int64  \n",
      " 36  e_ch                294393 non-null  int64  \n",
      " 37  e_m                 294393 non-null  int64  \n",
      " 38  e_po                294393 non-null  int64  \n",
      " 39  e_pl                294393 non-null  int64  \n",
      " 40  e_rn                294393 non-null  int64  \n",
      " 41  e_section           294393 non-null  int64  \n",
      " 42  label_y             294393 non-null  int64  \n",
      " 43  cillabel            294393 non-null  int64  \n",
      " 44  pro                 294393 non-null  int64  \n",
      "dtypes: float64(1), int64(44)\n",
      "memory usage: 101.1 MB\n"
     ]
    }
   ],
   "source": [
    "df.info()"
   ]
  },
  {
   "cell_type": "code",
   "execution_count": 8,
   "metadata": {},
   "outputs": [
    {
     "data": {
      "text/plain": [
       "['log_id: 75888',\n",
       " 'label: 2',\n",
       " 'user_id: 21312',\n",
       " 'age: 8',\n",
       " 'gender: 3',\n",
       " 'residence: 35',\n",
       " 'city: 338',\n",
       " 'city_rank: 4',\n",
       " 'series_dev: 25',\n",
       " 'series_group: 7',\n",
       " 'emui_dev: 24',\n",
       " 'device_name: 226',\n",
       " 'device_size: 649',\n",
       " 'net_type: 6',\n",
       " 'task_id: 5327',\n",
       " 'adv_id: 5879',\n",
       " 'creat_type_cd: 9',\n",
       " 'adv_prim_id: 503',\n",
       " 'inter_type_cd: 4',\n",
       " 'slot_id: 57',\n",
       " 'spread_app_id: 107',\n",
       " 'hispace_app_tags: 41',\n",
       " 'app_second_class: 20',\n",
       " 'app_score: 3',\n",
       " 'u_refreshTimes_x: 10',\n",
       " 'u_feedLifeCycle_x: 8',\n",
       " 'u_phonePrice: 7',\n",
       " 'u_browserLifeCycle: 8',\n",
       " 'u_browserMode: 8',\n",
       " 'u_feedLifeCycle_y: 8',\n",
       " 'u_refreshTimes_y: 10',\n",
       " 'i_regionEntity: 314',\n",
       " 'i_cat: 202',\n",
       " 'i_dislikeTimes: 10',\n",
       " 'i_upTimes: 10',\n",
       " 'i_dtype: 5',\n",
       " 'e_ch: 19',\n",
       " 'e_m: 226',\n",
       " 'e_po: 23',\n",
       " 'e_pl: 2640',\n",
       " 'e_rn: 86',\n",
       " 'e_section: 2',\n",
       " 'label_y: 2',\n",
       " 'cillabel: 2',\n",
       " 'pro: 8']"
      ]
     },
     "execution_count": 8,
     "metadata": {},
     "output_type": "execute_result"
    }
   ],
   "source": [
    "[f'{col}: {len(df[col].unique())}' for col in df.columns]"
   ]
  },
  {
   "cell_type": "code",
   "execution_count": 9,
   "metadata": {},
   "outputs": [
    {
     "data": {
      "text/plain": [
       "Index(['log_id', 'label', 'user_id', 'age', 'gender', 'residence', 'city',\n",
       "       'city_rank', 'series_dev', 'series_group', 'emui_dev', 'device_name',\n",
       "       'device_size', 'net_type', 'task_id', 'adv_id', 'creat_type_cd',\n",
       "       'adv_prim_id', 'inter_type_cd', 'slot_id', 'spread_app_id',\n",
       "       'hispace_app_tags', 'app_second_class', 'app_score', 'u_refreshTimes_x',\n",
       "       'u_feedLifeCycle_x', 'u_phonePrice', 'u_browserLifeCycle',\n",
       "       'u_browserMode', 'u_feedLifeCycle_y', 'u_refreshTimes_y',\n",
       "       'i_regionEntity', 'i_cat', 'i_dislikeTimes', 'i_upTimes', 'i_dtype',\n",
       "       'e_ch', 'e_m', 'e_po', 'e_pl', 'e_rn', 'e_section', 'label_y',\n",
       "       'cillabel', 'pro'],\n",
       "      dtype='object')"
      ]
     },
     "execution_count": 9,
     "metadata": {},
     "output_type": "execute_result"
    }
   ],
   "source": [
    "df.columns"
   ]
  },
  {
   "cell_type": "code",
   "execution_count": 10,
   "metadata": {},
   "outputs": [],
   "source": [
    "# select the cols with uniques less than 1k\n",
    "\n",
    "col_sel = ['age', 'gender', 'residence', \n",
    "       'city_rank', 'series_dev', 'series_group', 'emui_dev', 'device_name',\n",
    "       'device_size', 'net_type', 'creat_type_cd',\n",
    "       'adv_prim_id', 'inter_type_cd', 'slot_id', \n",
    "       'hispace_app_tags', 'app_second_class', 'app_score', 'u_refreshTimes_x',\n",
    "       'u_feedLifeCycle_x', 'u_phonePrice', 'u_browserLifeCycle',\n",
    "       'u_browserMode', 'u_feedLifeCycle_y', 'u_refreshTimes_y',\n",
    "       'i_regionEntity', 'i_cat', 'i_dislikeTimes', 'i_upTimes', 'i_dtype',\n",
    "       'e_ch', 'e_m', 'e_po', 'e_rn', 'e_section', 'label_y',\n",
    "       'cillabel', 'pro']\n",
    "\n",
    "df_nn = df[col_sel]"
   ]
  },
  {
   "cell_type": "code",
   "execution_count": 11,
   "metadata": {},
   "outputs": [
    {
     "data": {
      "text/plain": [
       "((206075, 2555), (88318, 2555), (206075,), (88318,))"
      ]
     },
     "execution_count": 11,
     "metadata": {},
     "output_type": "execute_result"
    }
   ],
   "source": [
    "X = df_nn\n",
    "y = df.label\n",
    "\n",
    "ohe = OneHotEncoder(sparse = False, drop = 'first')\n",
    "X = ohe.fit_transform(X)\n",
    "\n",
    "X_train, X_test, y_train, y_test = train_test_split(X, y, test_size=0.3, random_state=2333)\n",
    "X_train.shape, X_test.shape, y_train.shape, y_test.shape"
   ]
  },
  {
   "cell_type": "markdown",
   "metadata": {},
   "source": [
    "# define functions"
   ]
  },
  {
   "cell_type": "code",
   "execution_count": 12,
   "metadata": {},
   "outputs": [],
   "source": [
    "def visualize_training_results(results):\n",
    "    history = results.history\n",
    "    plt.figure()\n",
    "    plt.plot(history['val_loss'])\n",
    "    plt.plot(history['loss'])\n",
    "    plt.legend(['val_loss', 'loss'])\n",
    "    plt.title('Loss')\n",
    "    plt.xlabel('Epochs')\n",
    "    plt.ylabel('Loss')\n",
    "    plt.show()\n",
    "    \n",
    "    plt.figure()\n",
    "    plt.plot(history['val_accuracy'])\n",
    "    plt.plot(history['accuracy'])\n",
    "    plt.legend(['val_accuracy', 'accuracy'])\n",
    "    plt.title('Accuracy')\n",
    "    plt.xlabel('Epochs')\n",
    "    plt.ylabel('Accuracy')\n",
    "    plt.show()"
   ]
  },
  {
   "cell_type": "code",
   "execution_count": 13,
   "metadata": {},
   "outputs": [],
   "source": [
    "def heatmap_predicted_results(X_test, y_test, model):\n",
    "    y_predicted = model.predict(X_test) > 0.5\n",
    "    mat = confusion_matrix(y_test, y_predicted)\n",
    "\n",
    "    sns.heatmap(mat, square=True, annot=True, fmt='d', cbar=False)"
   ]
  },
  {
   "cell_type": "markdown",
   "metadata": {},
   "source": [
    "# baseline"
   ]
  },
  {
   "cell_type": "markdown",
   "metadata": {},
   "source": [
    "### no tuning baseline, 300k"
   ]
  },
  {
   "cell_type": "code",
   "execution_count": 24,
   "metadata": {},
   "outputs": [],
   "source": [
    "model_1 = Sequential()\n",
    "model_1.add(Dense(32, activation='relu', input_shape=(2555,)))\n",
    "model_1.add(Dense(16, activation='relu'))\n",
    "model_1.add(Dense(1, activation='sigmoid'))\n",
    "\n",
    "\n",
    "from tensorflow.keras.optimizers import Adam\n",
    "opt = Adam(learning_rate=0.003, beta_1=0.9, beta_2=0.999, epsilon=1e-07)\n",
    "\n",
    "model_1.compile(loss='binary_crossentropy', optimizer=opt, metrics=['accuracy'])"
   ]
  },
  {
   "cell_type": "code",
   "execution_count": 25,
   "metadata": {},
   "outputs": [
    {
     "name": "stdout",
     "output_type": "stream",
     "text": [
      "Epoch 1/25\n",
      "644/644 [==============================] - 4s 5ms/step - loss: 0.0484 - accuracy: 0.9915 - val_loss: 0.0459 - val_accuracy: 0.9909\n",
      "Epoch 2/25\n",
      "644/644 [==============================] - 3s 5ms/step - loss: 0.0387 - accuracy: 0.9918 - val_loss: 0.0435 - val_accuracy: 0.9909\n",
      "Epoch 3/25\n",
      "644/644 [==============================] - 3s 5ms/step - loss: 0.0335 - accuracy: 0.9918 - val_loss: 0.0410 - val_accuracy: 0.9909\n",
      "Epoch 4/25\n",
      "644/644 [==============================] - 3s 4ms/step - loss: 0.0278 - accuracy: 0.9922 - val_loss: 0.0456 - val_accuracy: 0.9911\n",
      "Epoch 5/25\n",
      "644/644 [==============================] - 3s 4ms/step - loss: 0.0224 - accuracy: 0.9935 - val_loss: 0.0409 - val_accuracy: 0.9915\n",
      "Epoch 6/25\n",
      "644/644 [==============================] - 3s 4ms/step - loss: 0.0186 - accuracy: 0.9945 - val_loss: 0.0415 - val_accuracy: 0.9915\n",
      "Epoch 7/25\n",
      "644/644 [==============================] - 3s 4ms/step - loss: 0.0148 - accuracy: 0.9956 - val_loss: 0.0495 - val_accuracy: 0.9920\n",
      "Epoch 8/25\n",
      "644/644 [==============================] - 3s 4ms/step - loss: 0.0125 - accuracy: 0.9962 - val_loss: 0.0502 - val_accuracy: 0.9916\n",
      "Epoch 9/25\n",
      "644/644 [==============================] - 3s 4ms/step - loss: 0.0102 - accuracy: 0.9969 - val_loss: 0.0526 - val_accuracy: 0.9911\n",
      "Epoch 10/25\n",
      "644/644 [==============================] - 3s 4ms/step - loss: 0.0088 - accuracy: 0.9973 - val_loss: 0.0584 - val_accuracy: 0.9916\n",
      "Epoch 11/25\n",
      "644/644 [==============================] - 3s 4ms/step - loss: 0.0072 - accuracy: 0.9977 - val_loss: 0.0632 - val_accuracy: 0.9904\n",
      "Epoch 12/25\n",
      "644/644 [==============================] - 3s 4ms/step - loss: 0.0061 - accuracy: 0.9981 - val_loss: 0.0701 - val_accuracy: 0.9920\n",
      "Epoch 13/25\n",
      "644/644 [==============================] - 3s 4ms/step - loss: 0.0059 - accuracy: 0.9981 - val_loss: 0.0710 - val_accuracy: 0.9915\n",
      "Epoch 14/25\n",
      "644/644 [==============================] - 3s 5ms/step - loss: 0.0053 - accuracy: 0.9983 - val_loss: 0.0755 - val_accuracy: 0.9914\n",
      "Epoch 15/25\n",
      "644/644 [==============================] - 3s 4ms/step - loss: 0.0045 - accuracy: 0.9985 - val_loss: 0.0762 - val_accuracy: 0.9910\n",
      "Epoch 16/25\n",
      "644/644 [==============================] - 3s 4ms/step - loss: 0.0042 - accuracy: 0.9985 - val_loss: 0.0803 - val_accuracy: 0.9913\n",
      "Epoch 17/25\n",
      "644/644 [==============================] - 3s 4ms/step - loss: 0.0036 - accuracy: 0.9988 - val_loss: 0.0881 - val_accuracy: 0.9915\n",
      "Epoch 18/25\n",
      "644/644 [==============================] - 3s 4ms/step - loss: 0.0036 - accuracy: 0.9987 - val_loss: 0.0908 - val_accuracy: 0.9920\n",
      "Epoch 19/25\n",
      "644/644 [==============================] - 3s 4ms/step - loss: 0.0038 - accuracy: 0.9987 - val_loss: 0.0869 - val_accuracy: 0.9916\n",
      "Epoch 20/25\n",
      "644/644 [==============================] - 3s 4ms/step - loss: 0.0033 - accuracy: 0.9989 - val_loss: 0.0824 - val_accuracy: 0.9908\n",
      "Epoch 21/25\n",
      "644/644 [==============================] - 3s 4ms/step - loss: 0.0031 - accuracy: 0.9990 - val_loss: 0.0858 - val_accuracy: 0.9916\n",
      "Epoch 22/25\n",
      "644/644 [==============================] - 3s 4ms/step - loss: 0.0026 - accuracy: 0.9991 - val_loss: 0.0923 - val_accuracy: 0.9910\n",
      "Epoch 23/25\n",
      "644/644 [==============================] - 3s 4ms/step - loss: 0.0028 - accuracy: 0.9989 - val_loss: 0.0859 - val_accuracy: 0.9919\n",
      "Epoch 24/25\n",
      "644/644 [==============================] - 3s 4ms/step - loss: 0.0025 - accuracy: 0.9991 - val_loss: 0.0897 - val_accuracy: 0.9908\n",
      "Epoch 25/25\n",
      "644/644 [==============================] - 3s 4ms/step - loss: 0.0026 - accuracy: 0.9990 - val_loss: 0.0855 - val_accuracy: 0.9912\n"
     ]
    }
   ],
   "source": [
    "results_1 = model_1.fit(X_train, y_train, epochs=25, batch_size=256, validation_split=0.2)"
   ]
  },
  {
   "cell_type": "code",
   "execution_count": 26,
   "metadata": {},
   "outputs": [
    {
     "name": "stdout",
     "output_type": "stream",
     "text": [
      "2760/2760 [==============================] - 6s 2ms/step - loss: 0.0711 - accuracy: 0.9919\n"
     ]
    },
    {
     "data": {
      "text/plain": [
       "[0.07110632210969925, 0.9919382333755493]"
      ]
     },
     "execution_count": 26,
     "metadata": {},
     "output_type": "execute_result"
    }
   ],
   "source": [
    "model_1.evaluate(X_test, y_test)"
   ]
  },
  {
   "cell_type": "code",
   "execution_count": 27,
   "metadata": {},
   "outputs": [
    {
     "name": "stdout",
     "output_type": "stream",
     "text": [
      "2760/2760 [==============================] - 3s 1ms/step\n"
     ]
    },
    {
     "data": {
      "image/png": "[encoded data removed]",
      "text/plain": [
       "<Figure size 640x480 with 1 Axes>"
      ]
     },
     "metadata": {},
     "output_type": "display_data"
    }
   ],
   "source": [
    "heatmap_predicted_results(X_test, y_test, model_1)"
   ]
  },
  {
   "cell_type": "code",
   "execution_count": 28,
   "metadata": {},
   "outputs": [
    {
     "data": {
      "image/png": "[encoded data removed]",
      "text/plain": [
       "<Figure size 640x480 with 1 Axes>"
      ]
     },
     "metadata": {},
     "output_type": "display_data"
    },
    {
     "data": {
      "image/png": "[encoded data removed]",
      "text/plain": [
       "<Figure size 640x480 with 1 Axes>"
      ]
     },
     "metadata": {},
     "output_type": "display_data"
    }
   ],
   "source": [
    "visualize_training_results(results_1)"
   ]
  },
  {
   "cell_type": "markdown",
   "metadata": {},
   "source": [
    "### some tuning, 300k"
   ]
  },
  {
   "cell_type": "code",
   "execution_count": 14,
   "metadata": {},
   "outputs": [],
   "source": [
    "model_2 = Sequential()\n",
    "model_2.add(Dense(512, activation='relu', input_shape=(2555,)))\n",
    "model_2.add(Dense(128, activation='relu'))\n",
    "model_2.add(Dense(32, activation='relu'))\n",
    "model_2.add(Dense(1, activation='sigmoid'))\n",
    "\n",
    "\n",
    "from tensorflow.keras.optimizers import Adam\n",
    "opt = Adam(learning_rate=0.001, beta_1=0.9, beta_2=0.999, epsilon=1e-07)\n",
    "\n",
    "model_2.compile(loss='binary_crossentropy', optimizer=opt, metrics=['accuracy'])"
   ]
  },
  {
   "cell_type": "code",
   "execution_count": 15,
   "metadata": {},
   "outputs": [
    {
     "name": "stderr",
     "output_type": "stream",
     "text": [
      "c:\\Users\\qwswe\\Anaconda3\\envs\\learn-env\\lib\\site-packages\\tensorflow\\python\\keras\\engine\\data_adapter.py:1402: FutureWarning: The behavior of `series[i:j]` with an integer-dtype index is deprecated. In a future version, this will be treated as *label-based* indexing, consistent with e.g. `series[i]` lookups. To retain the old behavior, use `series.iloc[i:j]`. To get the future behavior, use `series.loc[i:j]`.\n",
      "  return t[start:end]\n"
     ]
    },
    {
     "name": "stdout",
     "output_type": "stream",
     "text": [
      "Epoch 1/50\n",
      "644/644 [==============================] - 7s 11ms/step - loss: 0.0477 - accuracy: 0.9914 - val_loss: 0.0450 - val_accuracy: 0.9909\n",
      "Epoch 2/50\n",
      "644/644 [==============================] - 6s 10ms/step - loss: 0.0349 - accuracy: 0.9920 - val_loss: 0.0396 - val_accuracy: 0.9915\n",
      "Epoch 3/50\n",
      "644/644 [==============================] - 9s 13ms/step - loss: 0.0208 - accuracy: 0.9943 - val_loss: 0.0362 - val_accuracy: 0.9930\n",
      "Epoch 4/50\n",
      "644/644 [==============================] - 9s 14ms/step - loss: 0.0103 - accuracy: 0.9967 - val_loss: 0.0400 - val_accuracy: 0.9933\n",
      "Epoch 5/50\n",
      "644/644 [==============================] - 8s 13ms/step - loss: 0.0048 - accuracy: 0.9983 - val_loss: 0.0451 - val_accuracy: 0.9929\n",
      "Epoch 6/50\n",
      "644/644 [==============================] - 8s 13ms/step - loss: 0.0033 - accuracy: 0.9986 - val_loss: 0.0595 - val_accuracy: 0.9934\n",
      "Epoch 7/50\n",
      "644/644 [==============================] - 8s 13ms/step - loss: 0.0026 - accuracy: 0.9990 - val_loss: 0.0614 - val_accuracy: 0.9932\n",
      "Epoch 8/50\n",
      "644/644 [==============================] - 8s 12ms/step - loss: 0.0024 - accuracy: 0.9990 - val_loss: 0.0550 - val_accuracy: 0.9930\n",
      "Epoch 9/50\n",
      "644/644 [==============================] - 8s 13ms/step - loss: 0.0020 - accuracy: 0.9992 - val_loss: 0.0705 - val_accuracy: 0.9932\n",
      "Epoch 10/50\n",
      "644/644 [==============================] - 8s 13ms/step - loss: 0.0020 - accuracy: 0.9992 - val_loss: 0.0575 - val_accuracy: 0.9934\n",
      "Epoch 11/50\n",
      "644/644 [==============================] - 9s 14ms/step - loss: 0.0020 - accuracy: 0.9991 - val_loss: 0.0547 - val_accuracy: 0.9932\n",
      "Epoch 12/50\n",
      "644/644 [==============================] - 8s 12ms/step - loss: 0.0019 - accuracy: 0.9991 - val_loss: 0.0587 - val_accuracy: 0.9931\n",
      "Epoch 13/50\n",
      "644/644 [==============================] - 8s 13ms/step - loss: 0.0019 - accuracy: 0.9992 - val_loss: 0.0576 - val_accuracy: 0.9933\n",
      "Epoch 14/50\n",
      "644/644 [==============================] - 8s 13ms/step - loss: 0.0016 - accuracy: 0.9993 - val_loss: 0.0648 - val_accuracy: 0.9934\n",
      "Epoch 15/50\n",
      "644/644 [==============================] - 8s 13ms/step - loss: 0.0013 - accuracy: 0.9994 - val_loss: 0.0714 - val_accuracy: 0.9939\n",
      "Epoch 16/50\n",
      "644/644 [==============================] - 9s 13ms/step - loss: 0.0011 - accuracy: 0.9994 - val_loss: 0.0718 - val_accuracy: 0.9938\n",
      "Epoch 17/50\n",
      "644/644 [==============================] - 8s 12ms/step - loss: 0.0013 - accuracy: 0.9993 - val_loss: 0.0675 - val_accuracy: 0.9933\n",
      "Epoch 18/50\n",
      "644/644 [==============================] - 8s 13ms/step - loss: 0.0014 - accuracy: 0.9993 - val_loss: 0.0600 - val_accuracy: 0.9939\n",
      "Epoch 19/50\n",
      "644/644 [==============================] - 8s 13ms/step - loss: 0.0017 - accuracy: 0.9993 - val_loss: 0.0526 - val_accuracy: 0.9934\n",
      "Epoch 20/50\n",
      "644/644 [==============================] - 8s 13ms/step - loss: 0.0017 - accuracy: 0.9992 - val_loss: 0.0553 - val_accuracy: 0.9940\n",
      "Epoch 21/50\n",
      "644/644 [==============================] - 8s 13ms/step - loss: 0.0011 - accuracy: 0.9994 - val_loss: 0.0580 - val_accuracy: 0.9939loss: 0.0012 - accuracy: 0.99\n",
      "Epoch 22/50\n",
      "644/644 [==============================] - 8s 13ms/step - loss: 0.0011 - accuracy: 0.9994 - val_loss: 0.0660 - val_accuracy: 0.9937\n",
      "Epoch 23/50\n",
      "644/644 [==============================] - 8s 13ms/step - loss: 9.9853e-04 - accuracy: 0.9995 - val_loss: 0.0605 - val_accuracy: 0.9937\n",
      "Epoch 24/50\n",
      "644/644 [==============================] - 8s 13ms/step - loss: 0.0011 - accuracy: 0.9994 - val_loss: 0.0611 - val_accuracy: 0.9939\n",
      "Epoch 25/50\n",
      "644/644 [==============================] - 8s 13ms/step - loss: 0.0011 - accuracy: 0.9994 - val_loss: 0.0717 - val_accuracy: 0.9939\n",
      "Epoch 26/50\n",
      "644/644 [==============================] - 8s 13ms/step - loss: 8.2485e-04 - accuracy: 0.9995 - val_loss: 0.0689 - val_accuracy: 0.9938\n",
      "Epoch 27/50\n",
      "644/644 [==============================] - 8s 13ms/step - loss: 0.0012 - accuracy: 0.9994 - val_loss: 0.0627 - val_accuracy: 0.9936\n",
      "Epoch 28/50\n",
      "644/644 [==============================] - 8s 13ms/step - loss: 9.9380e-04 - accuracy: 0.9995 - val_loss: 0.0619 - val_accuracy: 0.9939\n",
      "Epoch 29/50\n",
      "644/644 [==============================] - 8s 13ms/step - loss: 0.0014 - accuracy: 0.9993 - val_loss: 0.0652 - val_accuracy: 0.9941\n",
      "Epoch 30/50\n",
      "644/644 [==============================] - 8s 13ms/step - loss: 9.1834e-04 - accuracy: 0.9995 - val_loss: 0.0626 - val_accuracy: 0.9941\n",
      "Epoch 31/50\n",
      "644/644 [==============================] - 8s 13ms/step - loss: 8.9045e-04 - accuracy: 0.9995 - val_loss: 0.0595 - val_accuracy: 0.9942\n",
      "Epoch 32/50\n",
      "644/644 [==============================] - 8s 13ms/step - loss: 0.0011 - accuracy: 0.9995 - val_loss: 0.0447 - val_accuracy: 0.9941\n",
      "Epoch 33/50\n",
      "644/644 [==============================] - 8s 13ms/step - loss: 6.9555e-04 - accuracy: 0.9996 - val_loss: 0.0657 - val_accuracy: 0.9941\n",
      "Epoch 34/50\n",
      "644/644 [==============================] - 8s 13ms/step - loss: 9.5776e-04 - accuracy: 0.9995 - val_loss: 0.0535 - val_accuracy: 0.9939\n",
      "Epoch 35/50\n",
      "644/644 [==============================] - 8s 13ms/step - loss: 0.0014 - accuracy: 0.9994 - val_loss: 0.0597 - val_accuracy: 0.9937\n",
      "Epoch 36/50\n",
      "644/644 [==============================] - 8s 13ms/step - loss: 0.0012 - accuracy: 0.9994 - val_loss: 0.0631 - val_accuracy: 0.9938\n",
      "Epoch 37/50\n",
      "644/644 [==============================] - 8s 12ms/step - loss: 0.0011 - accuracy: 0.9994 - val_loss: 0.0567 - val_accuracy: 0.9938\n",
      "Epoch 38/50\n",
      "644/644 [==============================] - 8s 12ms/step - loss: 0.0010 - accuracy: 0.9994 - val_loss: 0.0681 - val_accuracy: 0.9936\n",
      "Epoch 39/50\n",
      "644/644 [==============================] - 8s 12ms/step - loss: 0.0012 - accuracy: 0.9994 - val_loss: 0.0677 - val_accuracy: 0.9938\n",
      "Epoch 40/50\n",
      "644/644 [==============================] - 8s 13ms/step - loss: 8.4779e-04 - accuracy: 0.9994 - val_loss: 0.0707 - val_accuracy: 0.9938\n",
      "Epoch 41/50\n",
      "644/644 [==============================] - 8s 13ms/step - loss: 8.3263e-04 - accuracy: 0.9995 - val_loss: 0.0637 - val_accuracy: 0.9941\n",
      "Epoch 42/50\n",
      "644/644 [==============================] - 9s 14ms/step - loss: 6.7680e-04 - accuracy: 0.9995 - val_loss: 0.0727 - val_accuracy: 0.99416.8870e-04 \n",
      "Epoch 43/50\n",
      "644/644 [==============================] - 9s 14ms/step - loss: 8.1144e-04 - accuracy: 0.9995 - val_loss: 0.0413 - val_accuracy: 0.9947\n",
      "Epoch 44/50\n",
      "644/644 [==============================] - 9s 14ms/step - loss: 6.9740e-04 - accuracy: 0.9995 - val_loss: 0.0626 - val_accuracy: 0.9945\n",
      "Epoch 45/50\n",
      "644/644 [==============================] - 9s 14ms/step - loss: 8.3266e-04 - accuracy: 0.9995 - val_loss: 0.0822 - val_accuracy: 0.9934\n",
      "Epoch 46/50\n",
      "644/644 [==============================] - 9s 14ms/step - loss: 0.0013 - accuracy: 0.9994 - val_loss: 0.0636 - val_accuracy: 0.9935\n",
      "Epoch 47/50\n",
      "644/644 [==============================] - 10s 15ms/step - loss: 0.0013 - accuracy: 0.9994 - val_loss: 0.0633 - val_accuracy: 0.9938\n",
      "Epoch 48/50\n",
      "644/644 [==============================] - 10s 16ms/step - loss: 9.8573e-04 - accuracy: 0.9995 - val_loss: 0.0459 - val_accuracy: 0.9940\n",
      "Epoch 49/50\n",
      "644/644 [==============================] - 10s 16ms/step - loss: 7.6324e-04 - accuracy: 0.9995 - val_loss: 0.0668 - val_accuracy: 0.9941\n",
      "Epoch 50/50\n",
      "644/644 [==============================] - 9s 14ms/step - loss: 6.9847e-04 - accuracy: 0.9995 - val_loss: 0.0655 - val_accuracy: 0.9943\n"
     ]
    }
   ],
   "source": [
    "results_2 = model_2.fit(X_train, y_train, epochs=50, batch_size=256, validation_split=0.2)"
   ]
  },
  {
   "cell_type": "code",
   "execution_count": 25,
   "metadata": {},
   "outputs": [
    {
     "data": {
      "image/png": "[encoded data removed]",
      "text/plain": [
       "<Figure size 432x288 with 1 Axes>"
      ]
     },
     "metadata": {
      "needs_background": "light"
     },
     "output_type": "display_data"
    }
   ],
   "source": [
    "heatmap_predicted_results(X_test, y_test, model_2)"
   ]
  },
  {
   "cell_type": "code",
   "execution_count": 17,
   "metadata": {},
   "outputs": [
    {
     "data": {
      "image/png": "[encoded data removed]",
      "text/plain": [
       "<Figure size 432x288 with 1 Axes>"
      ]
     },
     "metadata": {
      "needs_background": "light"
     },
     "output_type": "display_data"
    },
    {
     "data": {
      "image/png": "[encoded data removed]",
      "text/plain": [
       "<Figure size 432x288 with 1 Axes>"
      ]
     },
     "metadata": {
      "needs_background": "light"
     },
     "output_type": "display_data"
    }
   ],
   "source": [
    "visualize_training_results(results_2)"
   ]
  },
  {
   "cell_type": "markdown",
   "metadata": {},
   "source": [
    "### some tunings, 300k, reg"
   ]
  },
  {
   "cell_type": "code",
   "execution_count": 39,
   "metadata": {},
   "outputs": [],
   "source": [
    "model_3 = Sequential()\n",
    "model_3.add(Dense(512, activation='relu', input_shape=(2555,)))\n",
    "model_3.add(Dense(128, activation='relu', kernel_regularizer = reg))\n",
    "model.add(Dropout(0.2))\n",
    "model_3.add(Dense(32, activation='relu', kernel_regularizer = reg))\n",
    "model_3.add(Dense(1, activation='sigmoid'))\n",
    "\n",
    "opt = Adam(learning_rate=0.003, beta_1=0.9, beta_2=0.999, epsilon=1e-07)\n",
    "\n",
    "model_3.compile(loss='binary_crossentropy', optimizer=opt, metrics=[tf.keras.metrics.Recall()])"
   ]
  },
  {
   "cell_type": "code",
   "execution_count": 40,
   "metadata": {},
   "outputs": [
    {
     "ename": "InternalError",
     "evalue": "Failed copying input tensor from /job:localhost/replica:0/task:0/device:CPU:0 to /job:localhost/replica:0/task:0/device:GPU:0 in order to run _EagerConst: Dst tensor is not initialized.",
     "output_type": "error",
     "traceback": [
      "\u001b[1;31m---------------------------------------------------------------------------\u001b[0m",
      "\u001b[1;31mInternalError\u001b[0m                             Traceback (most recent call last)",
      "\u001b[1;32mc:\\Users\\qwswe\\Documents\\Flatiron\\DS_P3\\3.4_model_neural_Networks.ipynb Cell 26\u001b[0m in \u001b[0;36m<cell line: 1>\u001b[1;34m()\u001b[0m\n\u001b[1;32m----> <a href='vscode-notebook-cell:/c%3A/Users/qwswe/Documents/Flatiron/DS_P3/3.4_model_neural_Networks.ipynb#X40sZmlsZQ%3D%3D?line=0'>1</a>\u001b[0m results_3 \u001b[39m=\u001b[39m model_3\u001b[39m.\u001b[39;49mfit(X_train, y_train, epochs\u001b[39m=\u001b[39;49m\u001b[39m25\u001b[39;49m, batch_size\u001b[39m=\u001b[39;49m\u001b[39m256\u001b[39;49m, validation_split\u001b[39m=\u001b[39;49m\u001b[39m0.2\u001b[39;49m)\n",
      "File \u001b[1;32mc:\\Users\\qwswe\\Anaconda3\\envs\\tf\\lib\\site-packages\\keras\\utils\\traceback_utils.py:70\u001b[0m, in \u001b[0;36mfilter_traceback.<locals>.error_handler\u001b[1;34m(*args, **kwargs)\u001b[0m\n\u001b[0;32m     67\u001b[0m     filtered_tb \u001b[39m=\u001b[39m _process_traceback_frames(e\u001b[39m.\u001b[39m__traceback__)\n\u001b[0;32m     68\u001b[0m     \u001b[39m# To get the full stack trace, call:\u001b[39;00m\n\u001b[0;32m     69\u001b[0m     \u001b[39m# `tf.debugging.disable_traceback_filtering()`\u001b[39;00m\n\u001b[1;32m---> 70\u001b[0m     \u001b[39mraise\u001b[39;00m e\u001b[39m.\u001b[39mwith_traceback(filtered_tb) \u001b[39mfrom\u001b[39;00m \u001b[39mNone\u001b[39m\n\u001b[0;32m     71\u001b[0m \u001b[39mfinally\u001b[39;00m:\n\u001b[0;32m     72\u001b[0m     \u001b[39mdel\u001b[39;00m filtered_tb\n",
      "File \u001b[1;32mc:\\Users\\qwswe\\Anaconda3\\envs\\tf\\lib\\site-packages\\tensorflow\\python\\framework\\constant_op.py:102\u001b[0m, in \u001b[0;36mconvert_to_eager_tensor\u001b[1;34m(value, ctx, dtype)\u001b[0m\n\u001b[0;32m    100\u001b[0m     dtype \u001b[39m=\u001b[39m dtypes\u001b[39m.\u001b[39mas_dtype(dtype)\u001b[39m.\u001b[39mas_datatype_enum\n\u001b[0;32m    101\u001b[0m ctx\u001b[39m.\u001b[39mensure_initialized()\n\u001b[1;32m--> 102\u001b[0m \u001b[39mreturn\u001b[39;00m ops\u001b[39m.\u001b[39;49mEagerTensor(value, ctx\u001b[39m.\u001b[39;49mdevice_name, dtype)\n",
      "\u001b[1;31mInternalError\u001b[0m: Failed copying input tensor from /job:localhost/replica:0/task:0/device:CPU:0 to /job:localhost/replica:0/task:0/device:GPU:0 in order to run _EagerConst: Dst tensor is not initialized."
     ]
    }
   ],
   "source": [
    "results_3 = model_3.fit(X_train, y_train, epochs=25, batch_size=256, validation_split=0.2)"
   ]
  },
  {
   "cell_type": "code",
   "execution_count": null,
   "metadata": {},
   "outputs": [],
   "source": [
    "heatmap_predicted_results(X_test, y_test, model_3)"
   ]
  }
 ],
 "metadata": {
  "kernelspec": {
   "display_name": "Python 3.9.13 ('tf')",
   "language": "python",
   "name": "python3"
  },
  "language_info": {
   "codemirror_mode": {
    "name": "ipython",
    "version": 3
   },
   "file_extension": ".py",
   "mimetype": "text/x-python",
   "name": "python",
   "nbconvert_exporter": "python",
   "pygments_lexer": "ipython3",
   "version": "3.9.13"
  },
  "orig_nbformat": 4,
  "vscode": {
   "interpreter": {
    "hash": "8d941500329789df683ebdc0e17676b710c54bb4cabcc0a3e1a6bd8b40cdaff6"
   }
  }
 },
 "nbformat": 4,
 "nbformat_minor": 2
}
