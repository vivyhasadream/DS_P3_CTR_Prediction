{
 "cells": [
  {
   "cell_type": "code",
   "execution_count": 1,
   "metadata": {},
   "outputs": [],
   "source": [
    "import numpy as np \n",
    "import pandas as pd \n",
    "import seaborn as sns \n",
    "from scipy import stats\n",
    "import matplotlib.pyplot as plt\n",
    "import pickle\n",
    "import statsmodels.api as sm\n",
    "from sklearn.linear_model import LinearRegression\n",
    "from sklearn.preprocessing import OneHotEncoder\n",
    "from sklearn.metrics import mean_absolute_error\n",
    "from sklearn.preprocessing import StandardScaler\n",
    "from sklearn.metrics import mean_squared_error\n",
    "from sklearn.preprocessing import LabelEncoder"
   ]
  },
  {
   "cell_type": "markdown",
   "metadata": {},
   "source": [
    "# TRAIN ADS"
   ]
  },
  {
   "cell_type": "code",
   "execution_count": 2,
   "metadata": {},
   "outputs": [
    {
     "data": {
      "text/html": [
       "<div>\n",
       "<style scoped>\n",
       "    .dataframe tbody tr th:only-of-type {\n",
       "        vertical-align: middle;\n",
       "    }\n",
       "\n",
       "    .dataframe tbody tr th {\n",
       "        vertical-align: top;\n",
       "    }\n",
       "\n",
       "    .dataframe thead th {\n",
       "        text-align: right;\n",
       "    }\n",
       "</style>\n",
       "<table border=\"1\" class=\"dataframe\">\n",
       "  <thead>\n",
       "    <tr style=\"text-align: right;\">\n",
       "      <th></th>\n",
       "      <th>log_id</th>\n",
       "      <th>label</th>\n",
       "      <th>user_id</th>\n",
       "      <th>age</th>\n",
       "      <th>gender</th>\n",
       "      <th>residence</th>\n",
       "      <th>city</th>\n",
       "      <th>city_rank</th>\n",
       "      <th>series_dev</th>\n",
       "      <th>series_group</th>\n",
       "      <th>...</th>\n",
       "      <th>ad_click_list_v001</th>\n",
       "      <th>ad_click_list_v002</th>\n",
       "      <th>ad_click_list_v003</th>\n",
       "      <th>ad_close_list_v001</th>\n",
       "      <th>ad_close_list_v002</th>\n",
       "      <th>ad_close_list_v003</th>\n",
       "      <th>pt_d</th>\n",
       "      <th>u_newsCatInterestsST</th>\n",
       "      <th>u_refreshTimes</th>\n",
       "      <th>u_feedLifeCycle</th>\n",
       "    </tr>\n",
       "  </thead>\n",
       "  <tbody>\n",
       "    <tr>\n",
       "      <th>0</th>\n",
       "      <td>373250</td>\n",
       "      <td>0</td>\n",
       "      <td>100005</td>\n",
       "      <td>3</td>\n",
       "      <td>2</td>\n",
       "      <td>16</td>\n",
       "      <td>147</td>\n",
       "      <td>2</td>\n",
       "      <td>32</td>\n",
       "      <td>6</td>\n",
       "      <td>...</td>\n",
       "      <td>30157^30648^14278^31706</td>\n",
       "      <td>2066^1776^1036</td>\n",
       "      <td>114^219^312</td>\n",
       "      <td>24107</td>\n",
       "      <td>1218</td>\n",
       "      <td>173</td>\n",
       "      <td>202206030326</td>\n",
       "      <td>39^220^16</td>\n",
       "      <td>0</td>\n",
       "      <td>15</td>\n",
       "    </tr>\n",
       "    <tr>\n",
       "      <th>1</th>\n",
       "      <td>373253</td>\n",
       "      <td>1</td>\n",
       "      <td>100005</td>\n",
       "      <td>3</td>\n",
       "      <td>2</td>\n",
       "      <td>16</td>\n",
       "      <td>147</td>\n",
       "      <td>2</td>\n",
       "      <td>32</td>\n",
       "      <td>6</td>\n",
       "      <td>...</td>\n",
       "      <td>30157^30648^14278^31706</td>\n",
       "      <td>2066^1776^1036</td>\n",
       "      <td>114^219^312</td>\n",
       "      <td>24107</td>\n",
       "      <td>1218</td>\n",
       "      <td>173</td>\n",
       "      <td>202206030326</td>\n",
       "      <td>39^220^16</td>\n",
       "      <td>0</td>\n",
       "      <td>15</td>\n",
       "    </tr>\n",
       "    <tr>\n",
       "      <th>2</th>\n",
       "      <td>373252</td>\n",
       "      <td>1</td>\n",
       "      <td>100005</td>\n",
       "      <td>3</td>\n",
       "      <td>2</td>\n",
       "      <td>16</td>\n",
       "      <td>147</td>\n",
       "      <td>2</td>\n",
       "      <td>32</td>\n",
       "      <td>6</td>\n",
       "      <td>...</td>\n",
       "      <td>30157^30648^14278^31706</td>\n",
       "      <td>2066^1776^1036</td>\n",
       "      <td>114^219^312</td>\n",
       "      <td>24107</td>\n",
       "      <td>1218</td>\n",
       "      <td>173</td>\n",
       "      <td>202206030326</td>\n",
       "      <td>39^220^16</td>\n",
       "      <td>0</td>\n",
       "      <td>15</td>\n",
       "    </tr>\n",
       "    <tr>\n",
       "      <th>3</th>\n",
       "      <td>373251</td>\n",
       "      <td>0</td>\n",
       "      <td>100005</td>\n",
       "      <td>3</td>\n",
       "      <td>2</td>\n",
       "      <td>16</td>\n",
       "      <td>147</td>\n",
       "      <td>2</td>\n",
       "      <td>32</td>\n",
       "      <td>6</td>\n",
       "      <td>...</td>\n",
       "      <td>30157^30648^14278^31706</td>\n",
       "      <td>2066^1776^1036</td>\n",
       "      <td>114^219^312</td>\n",
       "      <td>24107</td>\n",
       "      <td>1218</td>\n",
       "      <td>173</td>\n",
       "      <td>202206030326</td>\n",
       "      <td>39^220^16</td>\n",
       "      <td>0</td>\n",
       "      <td>15</td>\n",
       "    </tr>\n",
       "    <tr>\n",
       "      <th>4</th>\n",
       "      <td>373255</td>\n",
       "      <td>0</td>\n",
       "      <td>100005</td>\n",
       "      <td>3</td>\n",
       "      <td>2</td>\n",
       "      <td>16</td>\n",
       "      <td>147</td>\n",
       "      <td>2</td>\n",
       "      <td>32</td>\n",
       "      <td>6</td>\n",
       "      <td>...</td>\n",
       "      <td>30157^30648^14278^31706</td>\n",
       "      <td>2066^1776^1036</td>\n",
       "      <td>114^219^312</td>\n",
       "      <td>24107</td>\n",
       "      <td>1218</td>\n",
       "      <td>173</td>\n",
       "      <td>202206030328</td>\n",
       "      <td>39^220^16</td>\n",
       "      <td>0</td>\n",
       "      <td>15</td>\n",
       "    </tr>\n",
       "  </tbody>\n",
       "</table>\n",
       "<p>5 rows × 35 columns</p>\n",
       "</div>"
      ],
      "text/plain": [
       "   log_id  label  user_id  age  gender  residence  city  city_rank  \\\n",
       "0  373250      0   100005    3       2         16   147          2   \n",
       "1  373253      1   100005    3       2         16   147          2   \n",
       "2  373252      1   100005    3       2         16   147          2   \n",
       "3  373251      0   100005    3       2         16   147          2   \n",
       "4  373255      0   100005    3       2         16   147          2   \n",
       "\n",
       "   series_dev  series_group  ...       ad_click_list_v001  ad_click_list_v002  \\\n",
       "0          32             6  ...  30157^30648^14278^31706      2066^1776^1036   \n",
       "1          32             6  ...  30157^30648^14278^31706      2066^1776^1036   \n",
       "2          32             6  ...  30157^30648^14278^31706      2066^1776^1036   \n",
       "3          32             6  ...  30157^30648^14278^31706      2066^1776^1036   \n",
       "4          32             6  ...  30157^30648^14278^31706      2066^1776^1036   \n",
       "\n",
       "   ad_click_list_v003  ad_close_list_v001  ad_close_list_v002  \\\n",
       "0         114^219^312               24107                1218   \n",
       "1         114^219^312               24107                1218   \n",
       "2         114^219^312               24107                1218   \n",
       "3         114^219^312               24107                1218   \n",
       "4         114^219^312               24107                1218   \n",
       "\n",
       "   ad_close_list_v003          pt_d  u_newsCatInterestsST  u_refreshTimes  \\\n",
       "0                 173  202206030326             39^220^16               0   \n",
       "1                 173  202206030326             39^220^16               0   \n",
       "2                 173  202206030326             39^220^16               0   \n",
       "3                 173  202206030326             39^220^16               0   \n",
       "4                 173  202206030328             39^220^16               0   \n",
       "\n",
       "   u_feedLifeCycle  \n",
       "0               15  \n",
       "1               15  \n",
       "2               15  \n",
       "3               15  \n",
       "4               15  \n",
       "\n",
       "[5 rows x 35 columns]"
      ]
     },
     "execution_count": 2,
     "metadata": {},
     "output_type": "execute_result"
    }
   ],
   "source": [
    "df_train_ads = pd.read_csv('CTR Prediction - 2022 DIGIX Global AI Challenge/train/train_data_ads.csv')\n",
    "df_train_ads.head()"
   ]
  },
  {
   "cell_type": "code",
   "execution_count": 43,
   "metadata": {},
   "outputs": [
    {
     "data": {
      "text/plain": [
       "(7675517, 35)"
      ]
     },
     "execution_count": 43,
     "metadata": {},
     "output_type": "execute_result"
    }
   ],
   "source": [
    "df_train_ads.shape"
   ]
  },
  {
   "cell_type": "markdown",
   "metadata": {},
   "source": [
    "# TRAIN FEEDS"
   ]
  },
  {
   "cell_type": "code",
   "execution_count": 46,
   "metadata": {},
   "outputs": [],
   "source": [
    "df_train_feeds = pd.read_csv('CTR Prediction - 2022 DIGIX Global AI Challenge/train/train_data_feeds.csv')"
   ]
  },
  {
   "cell_type": "code",
   "execution_count": 47,
   "metadata": {},
   "outputs": [
    {
     "data": {
      "text/plain": [
       "(3227732, 28)"
      ]
     },
     "execution_count": 47,
     "metadata": {},
     "output_type": "execute_result"
    }
   ],
   "source": [
    "df_train_feeds.shape"
   ]
  },
  {
   "cell_type": "markdown",
   "metadata": {},
   "source": [
    "# TEST ADS"
   ]
  },
  {
   "cell_type": "code",
   "execution_count": 48,
   "metadata": {},
   "outputs": [],
   "source": [
    "df_test_ads = pd.read_csv('CTR Prediction - 2022 DIGIX Global AI Challenge/test/test_data_ads.csv')"
   ]
  },
  {
   "cell_type": "code",
   "execution_count": 49,
   "metadata": {},
   "outputs": [
    {
     "data": {
      "text/plain": [
       "(976058, 34)"
      ]
     },
     "execution_count": 49,
     "metadata": {},
     "output_type": "execute_result"
    }
   ],
   "source": [
    "df_test_ads.shape"
   ]
  },
  {
   "cell_type": "markdown",
   "metadata": {},
   "source": [
    "# TEST FEEDS"
   ]
  },
  {
   "cell_type": "code",
   "execution_count": 50,
   "metadata": {},
   "outputs": [
    {
     "data": {
      "text/html": [
       "<div>\n",
       "<style scoped>\n",
       "    .dataframe tbody tr th:only-of-type {\n",
       "        vertical-align: middle;\n",
       "    }\n",
       "\n",
       "    .dataframe tbody tr th {\n",
       "        vertical-align: top;\n",
       "    }\n",
       "\n",
       "    .dataframe thead th {\n",
       "        text-align: right;\n",
       "    }\n",
       "</style>\n",
       "<table border=\"1\" class=\"dataframe\">\n",
       "  <thead>\n",
       "    <tr style=\"text-align: right;\">\n",
       "      <th></th>\n",
       "      <th>u_userId</th>\n",
       "      <th>u_phonePrice</th>\n",
       "      <th>u_browserLifeCycle</th>\n",
       "      <th>u_browserMode</th>\n",
       "      <th>u_feedLifeCycle</th>\n",
       "      <th>u_refreshTimes</th>\n",
       "      <th>u_newsCatInterests</th>\n",
       "      <th>u_newsCatDislike</th>\n",
       "      <th>u_newsCatInterestsST</th>\n",
       "      <th>u_click_ca2_news</th>\n",
       "      <th>...</th>\n",
       "      <th>e_ch</th>\n",
       "      <th>e_m</th>\n",
       "      <th>e_po</th>\n",
       "      <th>e_pl</th>\n",
       "      <th>e_rn</th>\n",
       "      <th>e_section</th>\n",
       "      <th>e_et</th>\n",
       "      <th>label</th>\n",
       "      <th>cillabel</th>\n",
       "      <th>pro</th>\n",
       "    </tr>\n",
       "  </thead>\n",
       "  <tbody>\n",
       "    <tr>\n",
       "      <th>0</th>\n",
       "      <td>215116</td>\n",
       "      <td>16</td>\n",
       "      <td>17</td>\n",
       "      <td>14</td>\n",
       "      <td>11</td>\n",
       "      <td>0</td>\n",
       "      <td>65^72^42^65^104</td>\n",
       "      <td>0</td>\n",
       "      <td>219^50^151^21^140</td>\n",
       "      <td>219^50^151^114^21</td>\n",
       "      <td>...</td>\n",
       "      <td>19</td>\n",
       "      <td>998</td>\n",
       "      <td>9</td>\n",
       "      <td>2449</td>\n",
       "      <td>13</td>\n",
       "      <td>0</td>\n",
       "      <td>202206100922</td>\n",
       "      <td>-1</td>\n",
       "      <td>-1</td>\n",
       "      <td>0</td>\n",
       "    </tr>\n",
       "    <tr>\n",
       "      <th>1</th>\n",
       "      <td>215116</td>\n",
       "      <td>16</td>\n",
       "      <td>17</td>\n",
       "      <td>14</td>\n",
       "      <td>11</td>\n",
       "      <td>0</td>\n",
       "      <td>65^72^42^65^104</td>\n",
       "      <td>0</td>\n",
       "      <td>219^50^151^21^140</td>\n",
       "      <td>219^50^151^114^21</td>\n",
       "      <td>...</td>\n",
       "      <td>19</td>\n",
       "      <td>998</td>\n",
       "      <td>7</td>\n",
       "      <td>2449</td>\n",
       "      <td>14</td>\n",
       "      <td>0</td>\n",
       "      <td>202206100924</td>\n",
       "      <td>-1</td>\n",
       "      <td>-1</td>\n",
       "      <td>0</td>\n",
       "    </tr>\n",
       "    <tr>\n",
       "      <th>2</th>\n",
       "      <td>215116</td>\n",
       "      <td>16</td>\n",
       "      <td>17</td>\n",
       "      <td>14</td>\n",
       "      <td>11</td>\n",
       "      <td>0</td>\n",
       "      <td>65^72^42^65^104</td>\n",
       "      <td>0</td>\n",
       "      <td>0</td>\n",
       "      <td>65^104^98^168^0</td>\n",
       "      <td>...</td>\n",
       "      <td>19</td>\n",
       "      <td>998</td>\n",
       "      <td>14</td>\n",
       "      <td>2449</td>\n",
       "      <td>1</td>\n",
       "      <td>0</td>\n",
       "      <td>202206100907</td>\n",
       "      <td>1</td>\n",
       "      <td>-1</td>\n",
       "      <td>40</td>\n",
       "    </tr>\n",
       "    <tr>\n",
       "      <th>3</th>\n",
       "      <td>215116</td>\n",
       "      <td>16</td>\n",
       "      <td>17</td>\n",
       "      <td>14</td>\n",
       "      <td>11</td>\n",
       "      <td>0</td>\n",
       "      <td>65^72^42^65^104</td>\n",
       "      <td>0</td>\n",
       "      <td>219^50^151^21^140</td>\n",
       "      <td>219^50^151^114^21</td>\n",
       "      <td>...</td>\n",
       "      <td>19</td>\n",
       "      <td>998</td>\n",
       "      <td>5</td>\n",
       "      <td>2449</td>\n",
       "      <td>11</td>\n",
       "      <td>0</td>\n",
       "      <td>202206100921</td>\n",
       "      <td>-1</td>\n",
       "      <td>-1</td>\n",
       "      <td>0</td>\n",
       "    </tr>\n",
       "    <tr>\n",
       "      <th>4</th>\n",
       "      <td>215116</td>\n",
       "      <td>16</td>\n",
       "      <td>17</td>\n",
       "      <td>14</td>\n",
       "      <td>11</td>\n",
       "      <td>0</td>\n",
       "      <td>65^72^42^65^104</td>\n",
       "      <td>0</td>\n",
       "      <td>219^50^151^21^140</td>\n",
       "      <td>219^50^151^114^21</td>\n",
       "      <td>...</td>\n",
       "      <td>19</td>\n",
       "      <td>998</td>\n",
       "      <td>3</td>\n",
       "      <td>2449</td>\n",
       "      <td>14</td>\n",
       "      <td>0</td>\n",
       "      <td>202206100922</td>\n",
       "      <td>-1</td>\n",
       "      <td>-1</td>\n",
       "      <td>0</td>\n",
       "    </tr>\n",
       "  </tbody>\n",
       "</table>\n",
       "<p>5 rows × 28 columns</p>\n",
       "</div>"
      ],
      "text/plain": [
       "   u_userId  u_phonePrice  u_browserLifeCycle  u_browserMode  u_feedLifeCycle  \\\n",
       "0    215116            16                  17             14               11   \n",
       "1    215116            16                  17             14               11   \n",
       "2    215116            16                  17             14               11   \n",
       "3    215116            16                  17             14               11   \n",
       "4    215116            16                  17             14               11   \n",
       "\n",
       "   u_refreshTimes u_newsCatInterests u_newsCatDislike u_newsCatInterestsST  \\\n",
       "0               0    65^72^42^65^104                0    219^50^151^21^140   \n",
       "1               0    65^72^42^65^104                0    219^50^151^21^140   \n",
       "2               0    65^72^42^65^104                0                    0   \n",
       "3               0    65^72^42^65^104                0    219^50^151^21^140   \n",
       "4               0    65^72^42^65^104                0    219^50^151^21^140   \n",
       "\n",
       "    u_click_ca2_news  ... e_ch  e_m  e_po  e_pl e_rn  e_section          e_et  \\\n",
       "0  219^50^151^114^21  ...   19  998     9  2449   13          0  202206100922   \n",
       "1  219^50^151^114^21  ...   19  998     7  2449   14          0  202206100924   \n",
       "2    65^104^98^168^0  ...   19  998    14  2449    1          0  202206100907   \n",
       "3  219^50^151^114^21  ...   19  998     5  2449   11          0  202206100921   \n",
       "4  219^50^151^114^21  ...   19  998     3  2449   14          0  202206100922   \n",
       "\n",
       "   label  cillabel  pro  \n",
       "0     -1        -1    0  \n",
       "1     -1        -1    0  \n",
       "2      1        -1   40  \n",
       "3     -1        -1    0  \n",
       "4     -1        -1    0  \n",
       "\n",
       "[5 rows x 28 columns]"
      ]
     },
     "execution_count": 50,
     "metadata": {},
     "output_type": "execute_result"
    }
   ],
   "source": [
    "df_test_feeds = pd.read_csv('CTR Prediction - 2022 DIGIX Global AI Challenge/test/test_data_feeds.csv')\n",
    "df_test_feeds.head()"
   ]
  },
  {
   "cell_type": "code",
   "execution_count": 51,
   "metadata": {},
   "outputs": [
    {
     "data": {
      "text/plain": [
       "(369341, 28)"
      ]
     },
     "execution_count": 51,
     "metadata": {},
     "output_type": "execute_result"
    }
   ],
   "source": [
    "df_test_feeds.shape"
   ]
  },
  {
   "cell_type": "markdown",
   "metadata": {},
   "source": [
    "# FIND OUT THE TARGET"
   ]
  },
  {
   "cell_type": "code",
   "execution_count": 52,
   "metadata": {},
   "outputs": [
    {
     "data": {
      "text/plain": [
       "Index(['log_id', 'user_id', 'age', 'gender', 'residence', 'city', 'city_rank',\n",
       "       'series_dev', 'series_group', 'emui_dev', 'device_name', 'device_size',\n",
       "       'net_type', 'task_id', 'adv_id', 'creat_type_cd', 'adv_prim_id',\n",
       "       'inter_type_cd', 'slot_id', 'site_id', 'spread_app_id',\n",
       "       'hispace_app_tags', 'app_second_class', 'app_score',\n",
       "       'ad_click_list_v001', 'ad_click_list_v002', 'ad_click_list_v003',\n",
       "       'ad_close_list_v001', 'ad_close_list_v002', 'ad_close_list_v003',\n",
       "       'pt_d', 'u_newsCatInterestsST', 'u_refreshTimes', 'u_feedLifeCycle'],\n",
       "      dtype='object')"
      ]
     },
     "execution_count": 52,
     "metadata": {},
     "output_type": "execute_result"
    }
   ],
   "source": [
    "df_test_ads.columns"
   ]
  },
  {
   "cell_type": "code",
   "execution_count": 53,
   "metadata": {},
   "outputs": [
    {
     "data": {
      "text/plain": [
       "Index(['log_id', 'label', 'user_id', 'age', 'gender', 'residence', 'city',\n",
       "       'city_rank', 'series_dev', 'series_group', 'emui_dev', 'device_name',\n",
       "       'device_size', 'net_type', 'task_id', 'adv_id', 'creat_type_cd',\n",
       "       'adv_prim_id', 'inter_type_cd', 'slot_id', 'site_id', 'spread_app_id',\n",
       "       'hispace_app_tags', 'app_second_class', 'app_score',\n",
       "       'ad_click_list_v001', 'ad_click_list_v002', 'ad_click_list_v003',\n",
       "       'ad_close_list_v001', 'ad_close_list_v002', 'ad_close_list_v003',\n",
       "       'pt_d', 'u_newsCatInterestsST', 'u_refreshTimes', 'u_feedLifeCycle'],\n",
       "      dtype='object')"
      ]
     },
     "execution_count": 53,
     "metadata": {},
     "output_type": "execute_result"
    }
   ],
   "source": [
    "df_train_ads.columns"
   ]
  },
  {
   "cell_type": "code",
   "execution_count": 54,
   "metadata": {},
   "outputs": [
    {
     "data": {
      "text/plain": [
       "0    0.984478\n",
       "1    0.015522\n",
       "Name: label, dtype: float64"
      ]
     },
     "execution_count": 54,
     "metadata": {},
     "output_type": "execute_result"
    }
   ],
   "source": [
    "df_train_ads.label.value_counts(normalize=True)"
   ]
  },
  {
   "cell_type": "code",
   "execution_count": null,
   "metadata": {},
   "outputs": [],
   "source": []
  },
  {
   "cell_type": "code",
   "execution_count": null,
   "metadata": {},
   "outputs": [],
   "source": []
  },
  {
   "cell_type": "code",
   "execution_count": null,
   "metadata": {},
   "outputs": [],
   "source": []
  },
  {
   "cell_type": "markdown",
   "metadata": {},
   "source": [
    "the label should be it"
   ]
  },
  {
   "cell_type": "markdown",
   "metadata": {},
   "source": [
    "# CLEANING TIME!"
   ]
  },
  {
   "cell_type": "markdown",
   "metadata": {},
   "source": [
    "there are no nan and duplicated in this dataset"
   ]
  },
  {
   "cell_type": "code",
   "execution_count": 39,
   "metadata": {},
   "outputs": [],
   "source": [
    "df = df_train_ads.copy()"
   ]
  },
  {
   "cell_type": "code",
   "execution_count": 40,
   "metadata": {},
   "outputs": [
    {
     "data": {
      "text/plain": [
       "Index(['log_id', 'label', 'user_id', 'age', 'gender', 'residence', 'city',\n",
       "       'city_rank', 'series_dev', 'series_group', 'emui_dev', 'device_name',\n",
       "       'device_size', 'net_type', 'task_id', 'adv_id', 'creat_type_cd',\n",
       "       'adv_prim_id', 'inter_type_cd', 'slot_id', 'site_id', 'spread_app_id',\n",
       "       'hispace_app_tags', 'app_second_class', 'app_score',\n",
       "       'ad_click_list_v001', 'ad_click_list_v002', 'ad_click_list_v003',\n",
       "       'ad_close_list_v001', 'ad_close_list_v002', 'ad_close_list_v003',\n",
       "       'pt_d', 'u_newsCatInterestsST', 'u_refreshTimes', 'u_feedLifeCycle'],\n",
       "      dtype='object')"
      ]
     },
     "execution_count": 40,
     "metadata": {},
     "output_type": "execute_result"
    }
   ],
   "source": [
    "df.columns"
   ]
  },
  {
   "cell_type": "markdown",
   "metadata": {},
   "source": [
    "# pt_d\n",
    "time"
   ]
  },
  {
   "cell_type": "code",
   "execution_count": 63,
   "metadata": {},
   "outputs": [
    {
     "data": {
      "text/plain": [
       "7449049    202206091011\n",
       "4514194    202206070800\n",
       "2556320    202206050736\n",
       "93910      202206030907\n",
       "6186169    202206080614\n",
       "Name: pt_d, dtype: int64"
      ]
     },
     "execution_count": 63,
     "metadata": {},
     "output_type": "execute_result"
    }
   ],
   "source": [
    "df.pt_d.sample(5)"
   ]
  },
  {
   "cell_type": "code",
   "execution_count": 71,
   "metadata": {},
   "outputs": [
    {
     "data": {
      "text/plain": [
       "0    202206030326\n",
       "1    202206030326\n",
       "2    202206030326\n",
       "3    202206030326\n",
       "4    202206030328\n",
       "Name: pt_d, dtype: int64"
      ]
     },
     "execution_count": 71,
     "metadata": {},
     "output_type": "execute_result"
    }
   ],
   "source": [
    "df.pt_d.head()"
   ]
  },
  {
   "cell_type": "code",
   "execution_count": 56,
   "metadata": {},
   "outputs": [],
   "source": [
    "# df.pt_d = pd.to_datetime(df.pt_d, format='%Y%m%d%H%M')"
   ]
  },
  {
   "cell_type": "code",
   "execution_count": 73,
   "metadata": {},
   "outputs": [
    {
     "data": {
      "text/plain": [
       "'03'"
      ]
     },
     "execution_count": 73,
     "metadata": {},
     "output_type": "execute_result"
    }
   ],
   "source": [
    "str(df.pt_d[0])[-4:-2]"
   ]
  },
  {
   "cell_type": "code",
   "execution_count": 51,
   "metadata": {},
   "outputs": [],
   "source": [
    "df['pt_d_hour'] = df.pt_d.map(lambda x: int(str(x)[-4:-2]))"
   ]
  },
  {
   "cell_type": "code",
   "execution_count": 53,
   "metadata": {},
   "outputs": [
    {
     "data": {
      "text/plain": [
       "10    0.109537\n",
       "9     0.104171\n",
       "8     0.103071\n",
       "7     0.099225\n",
       "11    0.098945\n",
       "6     0.084331\n",
       "12    0.076598\n",
       "1     0.068964\n",
       "5     0.068079\n",
       "4     0.063635\n",
       "3     0.062422\n",
       "2     0.061022\n",
       "Name: pt_d, dtype: float64"
      ]
     },
     "execution_count": 53,
     "metadata": {},
     "output_type": "execute_result"
    }
   ],
   "source": [
    "df.pt_d_hour.value_counts(normalize=True)"
   ]
  },
  {
   "cell_type": "code",
   "execution_count": null,
   "metadata": {},
   "outputs": [],
   "source": []
  },
  {
   "cell_type": "code",
   "execution_count": 67,
   "metadata": {},
   "outputs": [
    {
     "name": "stdout",
     "output_type": "stream",
     "text": [
      "log_id 1176633\n",
      "label 2\n",
      "user_id 65297\n",
      "age 8\n",
      "gender 3\n",
      "residence 35\n",
      "city 341\n",
      "city_rank 4\n",
      "series_dev 27\n",
      "series_group 7\n",
      "emui_dev 27\n",
      "device_name 256\n",
      "device_size 1547\n",
      "net_type 6\n",
      "task_id 11209\n",
      "adv_id 12615\n",
      "creat_type_cd 9\n",
      "adv_prim_id 545\n",
      "inter_type_cd 4\n",
      "slot_id 60\n",
      "site_id 1\n",
      "spread_app_id 116\n",
      "hispace_app_tags 43\n",
      "app_second_class 20\n",
      "app_score 3\n",
      "ad_click_list_v001 108720\n",
      "ad_click_list_v002 95376\n",
      "ad_click_list_v003 61102\n",
      "ad_close_list_v001 3883\n",
      "ad_close_list_v002 2701\n",
      "ad_close_list_v003 1715\n",
      "pt_d 5436\n",
      "u_newsCatInterestsST 187576\n",
      "u_refreshTimes 10\n",
      "u_feedLifeCycle 8\n",
      "pt_d_hour 12\n"
     ]
    }
   ],
   "source": [
    "# check for number of uniques for each col\n",
    "col = df.columns\n",
    "for c in col:\n",
    "    print(c, len(df[c].unique()))"
   ]
  },
  {
   "cell_type": "markdown",
   "metadata": {},
   "source": [
    "### ad_click_list & ad_close_list & u_newsCatInterests"
   ]
  },
  {
   "cell_type": "markdown",
   "metadata": {},
   "source": [
    "they all have the format of:\n",
    "\n",
    "1111^2222^3333"
   ]
  },
  {
   "cell_type": "markdown",
   "metadata": {},
   "source": [
    "ad_click_list_001: 用户点击广告任务 id 列表 -> the id list of ad tasks that the user clicks\n",
    "\n",
    "ad_close_list: 用户点击广告对应广告主 id 列表\n"
   ]
  },
  {
   "cell_type": "code",
   "execution_count": 8,
   "metadata": {},
   "outputs": [
    {
     "data": {
      "text/plain": [
       "3269059    30658\n",
       "Name: ad_click_list_v001, dtype: object"
      ]
     },
     "execution_count": 8,
     "metadata": {},
     "output_type": "execute_result"
    }
   ],
   "source": [
    "df.ad_click_list_v001.sample()"
   ]
  },
  {
   "cell_type": "code",
   "execution_count": 69,
   "metadata": {},
   "outputs": [],
   "source": [
    "col_sel = ['ad_click_list_v001', 'ad_click_list_v002', 'ad_click_list_v003',\n",
    "       'ad_close_list_v001', 'ad_close_list_v002', 'ad_close_list_v003', \n",
    "       'u_newsCatInterestsST']"
   ]
  },
  {
   "cell_type": "code",
   "execution_count": 70,
   "metadata": {},
   "outputs": [],
   "source": [
    "for col in col_sel:\n",
    "    df[col] = df[col].map(lambda x: x.split('^'))"
   ]
  },
  {
   "cell_type": "code",
   "execution_count": 9,
   "metadata": {},
   "outputs": [
    {
     "data": {
      "text/plain": [
       "5348893    [196, 199, 240, 354, 141]\n",
       "Name: ad_click_list_v003, dtype: object"
      ]
     },
     "execution_count": 9,
     "metadata": {},
     "output_type": "execute_result"
    }
   ],
   "source": [
    "df.ad_click_list_v003.sample()"
   ]
  },
  {
   "cell_type": "markdown",
   "metadata": {},
   "source": [
    "# save to CSV, and call it a day!"
   ]
  },
  {
   "cell_type": "markdown",
   "metadata": {},
   "source": [
    "### baseline dataframe select"
   ]
  },
  {
   "cell_type": "code",
   "execution_count": 143,
   "metadata": {},
   "outputs": [],
   "source": [
    "col_sel = ['log_id','user_id','site_id','ad_click_list_v001', 'ad_click_list_v002', 'ad_click_list_v003',\n",
    "       'ad_close_list_v001', 'ad_close_list_v002', 'ad_close_list_v003','pt_d', 'u_newsCatInterestsST']\n",
    "df_export = df.drop(columns=col_sel)"
   ]
  },
  {
   "cell_type": "code",
   "execution_count": 144,
   "metadata": {},
   "outputs": [
    {
     "data": {
      "text/plain": [
       "Index(['label', 'age', 'gender', 'residence', 'city', 'city_rank',\n",
       "       'series_dev', 'series_group', 'emui_dev', 'device_name', 'device_size',\n",
       "       'net_type', 'task_id', 'adv_id', 'creat_type_cd', 'adv_prim_id',\n",
       "       'inter_type_cd', 'slot_id', 'spread_app_id', 'hispace_app_tags',\n",
       "       'app_second_class', 'app_score', 'u_refreshTimes', 'u_feedLifeCycle'],\n",
       "      dtype='object')"
      ]
     },
     "execution_count": 144,
     "metadata": {},
     "output_type": "execute_result"
    }
   ],
   "source": [
    "df_export.columns"
   ]
  },
  {
   "cell_type": "code",
   "execution_count": 146,
   "metadata": {},
   "outputs": [],
   "source": [
    "df_export.to_csv(r'C:\\Users\\qwswe\\Documents\\Flatiron\\DS_P3\\Output_Data\\Model_1_baseline_data.csv', index = False)"
   ]
  },
  {
   "cell_type": "markdown",
   "metadata": {},
   "source": [
    "### dataframe for eda"
   ]
  },
  {
   "cell_type": "code",
   "execution_count": 10,
   "metadata": {},
   "outputs": [
    {
     "data": {
      "text/plain": [
       "Index(['log_id', 'label', 'user_id', 'age', 'gender', 'residence', 'city',\n",
       "       'city_rank', 'series_dev', 'series_group', 'emui_dev', 'device_name',\n",
       "       'device_size', 'net_type', 'task_id', 'adv_id', 'creat_type_cd',\n",
       "       'adv_prim_id', 'inter_type_cd', 'slot_id', 'site_id', 'spread_app_id',\n",
       "       'hispace_app_tags', 'app_second_class', 'app_score',\n",
       "       'ad_click_list_v001', 'ad_click_list_v002', 'ad_click_list_v003',\n",
       "       'ad_close_list_v001', 'ad_close_list_v002', 'ad_close_list_v003',\n",
       "       'pt_d', 'u_newsCatInterestsST', 'u_refreshTimes', 'u_feedLifeCycle'],\n",
       "      dtype='object')"
      ]
     },
     "execution_count": 10,
     "metadata": {},
     "output_type": "execute_result"
    }
   ],
   "source": [
    "df.columns"
   ]
  },
  {
   "cell_type": "code",
   "execution_count": 15,
   "metadata": {},
   "outputs": [
    {
     "name": "stdout",
     "output_type": "stream",
     "text": [
      "<class 'pandas.core.frame.DataFrame'>\n",
      "RangeIndex: 7675517 entries, 0 to 7675516\n",
      "Data columns (total 35 columns):\n",
      " #   Column                Dtype         \n",
      "---  ------                -----         \n",
      " 0   log_id                int64         \n",
      " 1   label                 int64         \n",
      " 2   user_id               int64         \n",
      " 3   age                   int64         \n",
      " 4   gender                int64         \n",
      " 5   residence             int64         \n",
      " 6   city                  int64         \n",
      " 7   city_rank             int64         \n",
      " 8   series_dev            int64         \n",
      " 9   series_group          int64         \n",
      " 10  emui_dev              int64         \n",
      " 11  device_name           int64         \n",
      " 12  device_size           int64         \n",
      " 13  net_type              int64         \n",
      " 14  task_id               int64         \n",
      " 15  adv_id                int64         \n",
      " 16  creat_type_cd         int64         \n",
      " 17  adv_prim_id           int64         \n",
      " 18  inter_type_cd         int64         \n",
      " 19  slot_id               int64         \n",
      " 20  site_id               int64         \n",
      " 21  spread_app_id         int64         \n",
      " 22  hispace_app_tags      int64         \n",
      " 23  app_second_class      int64         \n",
      " 24  app_score             float64       \n",
      " 25  ad_click_list_v001    object        \n",
      " 26  ad_click_list_v002    object        \n",
      " 27  ad_click_list_v003    object        \n",
      " 28  ad_close_list_v001    object        \n",
      " 29  ad_close_list_v002    object        \n",
      " 30  ad_close_list_v003    object        \n",
      " 31  pt_d                  datetime64[ns]\n",
      " 32  u_newsCatInterestsST  object        \n",
      " 33  u_refreshTimes        int64         \n",
      " 34  u_feedLifeCycle       int64         \n",
      "dtypes: datetime64[ns](1), float64(1), int64(26), object(7)\n",
      "memory usage: 2.0+ GB\n"
     ]
    }
   ],
   "source": [
    "df.info()"
   ]
  },
  {
   "cell_type": "code",
   "execution_count": 11,
   "metadata": {},
   "outputs": [],
   "source": [
    "df.drop(columns='site_id', inplace=True)"
   ]
  },
  {
   "cell_type": "code",
   "execution_count": 12,
   "metadata": {},
   "outputs": [],
   "source": [
    "df.to_csv(r'C:\\Users\\qwswe\\Documents\\Flatiron\\DS_P3\\Output_Data\\EDA_data.csv', index = False)"
   ]
  },
  {
   "cell_type": "markdown",
   "metadata": {},
   "source": [
    "# SUBSET"
   ]
  },
  {
   "cell_type": "code",
   "execution_count": 65,
   "metadata": {},
   "outputs": [
    {
     "data": {
      "text/plain": [
       "0    0.9845\n",
       "1    0.0155\n",
       "Name: label, dtype: float64"
      ]
     },
     "execution_count": 65,
     "metadata": {},
     "output_type": "execute_result"
    }
   ],
   "source": [
    "df_sub = df.sample(n=20000)\n",
    "df_sub.label.value_counts(normalize=True)\n",
    "\n",
    "# pick one subset\n",
    "# that has most similar label value counts"
   ]
  },
  {
   "cell_type": "code",
   "execution_count": 66,
   "metadata": {},
   "outputs": [
    {
     "data": {
      "text/plain": [
       "(20000, 36)"
      ]
     },
     "execution_count": 66,
     "metadata": {},
     "output_type": "execute_result"
    }
   ],
   "source": [
    "df_sub.shape"
   ]
  },
  {
   "cell_type": "code",
   "execution_count": 68,
   "metadata": {},
   "outputs": [
    {
     "data": {
      "text/html": [
       "<div>\n",
       "<style scoped>\n",
       "    .dataframe tbody tr th:only-of-type {\n",
       "        vertical-align: middle;\n",
       "    }\n",
       "\n",
       "    .dataframe tbody tr th {\n",
       "        vertical-align: top;\n",
       "    }\n",
       "\n",
       "    .dataframe thead th {\n",
       "        text-align: right;\n",
       "    }\n",
       "</style>\n",
       "<table border=\"1\" class=\"dataframe\">\n",
       "  <thead>\n",
       "    <tr style=\"text-align: right;\">\n",
       "      <th></th>\n",
       "      <th>log_id</th>\n",
       "      <th>label</th>\n",
       "      <th>user_id</th>\n",
       "      <th>age</th>\n",
       "      <th>gender</th>\n",
       "      <th>residence</th>\n",
       "      <th>city</th>\n",
       "      <th>city_rank</th>\n",
       "      <th>series_dev</th>\n",
       "      <th>series_group</th>\n",
       "      <th>...</th>\n",
       "      <th>ad_click_list_v002</th>\n",
       "      <th>ad_click_list_v003</th>\n",
       "      <th>ad_close_list_v001</th>\n",
       "      <th>ad_close_list_v002</th>\n",
       "      <th>ad_close_list_v003</th>\n",
       "      <th>pt_d</th>\n",
       "      <th>u_newsCatInterestsST</th>\n",
       "      <th>u_refreshTimes</th>\n",
       "      <th>u_feedLifeCycle</th>\n",
       "      <th>pt_d_hour</th>\n",
       "    </tr>\n",
       "  </thead>\n",
       "  <tbody>\n",
       "    <tr>\n",
       "      <th>7217393</th>\n",
       "      <td>980983</td>\n",
       "      <td>0</td>\n",
       "      <td>201394</td>\n",
       "      <td>3</td>\n",
       "      <td>2</td>\n",
       "      <td>41</td>\n",
       "      <td>135</td>\n",
       "      <td>5</td>\n",
       "      <td>11</td>\n",
       "      <td>8</td>\n",
       "      <td>...</td>\n",
       "      <td>1492^1112^2041^1227^1036</td>\n",
       "      <td>162^190^312</td>\n",
       "      <td>24107</td>\n",
       "      <td>1218</td>\n",
       "      <td>173</td>\n",
       "      <td>202206091113</td>\n",
       "      <td>98^17^78^112^80</td>\n",
       "      <td>5</td>\n",
       "      <td>17</td>\n",
       "      <td>11</td>\n",
       "    </tr>\n",
       "    <tr>\n",
       "      <th>6188149</th>\n",
       "      <td>82919</td>\n",
       "      <td>0</td>\n",
       "      <td>200204</td>\n",
       "      <td>7</td>\n",
       "      <td>3</td>\n",
       "      <td>16</td>\n",
       "      <td>120</td>\n",
       "      <td>4</td>\n",
       "      <td>16</td>\n",
       "      <td>5</td>\n",
       "      <td>...</td>\n",
       "      <td>1151^1314^1460^1619^1189</td>\n",
       "      <td>246^309^257^152^181</td>\n",
       "      <td>24107</td>\n",
       "      <td>1218</td>\n",
       "      <td>173</td>\n",
       "      <td>202206080822</td>\n",
       "      <td>25^199^100^78^27</td>\n",
       "      <td>9</td>\n",
       "      <td>17</td>\n",
       "      <td>8</td>\n",
       "    </tr>\n",
       "    <tr>\n",
       "      <th>6923284</th>\n",
       "      <td>95839</td>\n",
       "      <td>0</td>\n",
       "      <td>145922</td>\n",
       "      <td>2</td>\n",
       "      <td>2</td>\n",
       "      <td>20</td>\n",
       "      <td>282</td>\n",
       "      <td>5</td>\n",
       "      <td>16</td>\n",
       "      <td>5</td>\n",
       "      <td>...</td>\n",
       "      <td>1592^1535</td>\n",
       "      <td>257^168</td>\n",
       "      <td>24107</td>\n",
       "      <td>1218</td>\n",
       "      <td>173</td>\n",
       "      <td>202206090146</td>\n",
       "      <td>8^157^199^8^219</td>\n",
       "      <td>5</td>\n",
       "      <td>17</td>\n",
       "      <td>1</td>\n",
       "    </tr>\n",
       "    <tr>\n",
       "      <th>3119239</th>\n",
       "      <td>493196</td>\n",
       "      <td>0</td>\n",
       "      <td>226761</td>\n",
       "      <td>2</td>\n",
       "      <td>2</td>\n",
       "      <td>16</td>\n",
       "      <td>352</td>\n",
       "      <td>2</td>\n",
       "      <td>11</td>\n",
       "      <td>8</td>\n",
       "      <td>...</td>\n",
       "      <td>1577^1690^1466^1812^1216</td>\n",
       "      <td>350^162^306</td>\n",
       "      <td>24107</td>\n",
       "      <td>1218</td>\n",
       "      <td>173</td>\n",
       "      <td>202206050850</td>\n",
       "      <td>179^100^216^169^10</td>\n",
       "      <td>4</td>\n",
       "      <td>17</td>\n",
       "      <td>8</td>\n",
       "    </tr>\n",
       "    <tr>\n",
       "      <th>7504672</th>\n",
       "      <td>599220</td>\n",
       "      <td>0</td>\n",
       "      <td>255351</td>\n",
       "      <td>3</td>\n",
       "      <td>2</td>\n",
       "      <td>16</td>\n",
       "      <td>352</td>\n",
       "      <td>2</td>\n",
       "      <td>31</td>\n",
       "      <td>3</td>\n",
       "      <td>...</td>\n",
       "      <td>1723^1482^1173</td>\n",
       "      <td>186^257^162</td>\n",
       "      <td>24107</td>\n",
       "      <td>1218</td>\n",
       "      <td>173</td>\n",
       "      <td>202206090438</td>\n",
       "      <td>27^16^27^27^39</td>\n",
       "      <td>5</td>\n",
       "      <td>17</td>\n",
       "      <td>4</td>\n",
       "    </tr>\n",
       "    <tr>\n",
       "      <th>...</th>\n",
       "      <td>...</td>\n",
       "      <td>...</td>\n",
       "      <td>...</td>\n",
       "      <td>...</td>\n",
       "      <td>...</td>\n",
       "      <td>...</td>\n",
       "      <td>...</td>\n",
       "      <td>...</td>\n",
       "      <td>...</td>\n",
       "      <td>...</td>\n",
       "      <td>...</td>\n",
       "      <td>...</td>\n",
       "      <td>...</td>\n",
       "      <td>...</td>\n",
       "      <td>...</td>\n",
       "      <td>...</td>\n",
       "      <td>...</td>\n",
       "      <td>...</td>\n",
       "      <td>...</td>\n",
       "      <td>...</td>\n",
       "      <td>...</td>\n",
       "    </tr>\n",
       "    <tr>\n",
       "      <th>2958169</th>\n",
       "      <td>397336</td>\n",
       "      <td>0</td>\n",
       "      <td>199615</td>\n",
       "      <td>7</td>\n",
       "      <td>2</td>\n",
       "      <td>26</td>\n",
       "      <td>353</td>\n",
       "      <td>2</td>\n",
       "      <td>16</td>\n",
       "      <td>5</td>\n",
       "      <td>...</td>\n",
       "      <td>1899^1535^1964^1984^1444</td>\n",
       "      <td>168^306^162^190</td>\n",
       "      <td>24107</td>\n",
       "      <td>1218</td>\n",
       "      <td>173</td>\n",
       "      <td>202206050920</td>\n",
       "      <td>50^219^123^179^140</td>\n",
       "      <td>0</td>\n",
       "      <td>16</td>\n",
       "      <td>9</td>\n",
       "    </tr>\n",
       "    <tr>\n",
       "      <th>3556740</th>\n",
       "      <td>325088</td>\n",
       "      <td>0</td>\n",
       "      <td>111900</td>\n",
       "      <td>7</td>\n",
       "      <td>2</td>\n",
       "      <td>26</td>\n",
       "      <td>275</td>\n",
       "      <td>4</td>\n",
       "      <td>31</td>\n",
       "      <td>3</td>\n",
       "      <td>...</td>\n",
       "      <td>1173^1511^1236^1017^1466</td>\n",
       "      <td>162^350^305</td>\n",
       "      <td>24107</td>\n",
       "      <td>1218</td>\n",
       "      <td>173</td>\n",
       "      <td>202206061041</td>\n",
       "      <td>78^50^26^98^10</td>\n",
       "      <td>9</td>\n",
       "      <td>17</td>\n",
       "      <td>10</td>\n",
       "    </tr>\n",
       "    <tr>\n",
       "      <th>6198770</th>\n",
       "      <td>845817</td>\n",
       "      <td>0</td>\n",
       "      <td>201933</td>\n",
       "      <td>7</td>\n",
       "      <td>2</td>\n",
       "      <td>31</td>\n",
       "      <td>166</td>\n",
       "      <td>2</td>\n",
       "      <td>30</td>\n",
       "      <td>3</td>\n",
       "      <td>...</td>\n",
       "      <td>1236^1836^1774</td>\n",
       "      <td>271</td>\n",
       "      <td>24107</td>\n",
       "      <td>1218</td>\n",
       "      <td>173</td>\n",
       "      <td>202206080640</td>\n",
       "      <td>216^7^199^63^168</td>\n",
       "      <td>5</td>\n",
       "      <td>17</td>\n",
       "      <td>6</td>\n",
       "    </tr>\n",
       "    <tr>\n",
       "      <th>2731170</th>\n",
       "      <td>188295</td>\n",
       "      <td>0</td>\n",
       "      <td>161770</td>\n",
       "      <td>8</td>\n",
       "      <td>2</td>\n",
       "      <td>15</td>\n",
       "      <td>358</td>\n",
       "      <td>3</td>\n",
       "      <td>16</td>\n",
       "      <td>5</td>\n",
       "      <td>...</td>\n",
       "      <td>1423^1223^1716^1807^1668</td>\n",
       "      <td>162^310^304^191</td>\n",
       "      <td>24107</td>\n",
       "      <td>1218</td>\n",
       "      <td>173</td>\n",
       "      <td>202206051008</td>\n",
       "      <td>78^98^98^112^131</td>\n",
       "      <td>9</td>\n",
       "      <td>17</td>\n",
       "      <td>10</td>\n",
       "    </tr>\n",
       "    <tr>\n",
       "      <th>7124618</th>\n",
       "      <td>666936</td>\n",
       "      <td>0</td>\n",
       "      <td>183426</td>\n",
       "      <td>2</td>\n",
       "      <td>2</td>\n",
       "      <td>20</td>\n",
       "      <td>328</td>\n",
       "      <td>5</td>\n",
       "      <td>16</td>\n",
       "      <td>5</td>\n",
       "      <td>...</td>\n",
       "      <td>1316^1223^1633^1916^1717</td>\n",
       "      <td>347^162^306^208</td>\n",
       "      <td>24107</td>\n",
       "      <td>1218</td>\n",
       "      <td>173</td>\n",
       "      <td>202206091217</td>\n",
       "      <td>206^171^199^86^143</td>\n",
       "      <td>8</td>\n",
       "      <td>17</td>\n",
       "      <td>12</td>\n",
       "    </tr>\n",
       "  </tbody>\n",
       "</table>\n",
       "<p>20000 rows × 35 columns</p>\n",
       "</div>"
      ],
      "text/plain": [
       "         log_id  label  user_id  age  gender  residence  city  city_rank  \\\n",
       "7217393  980983      0   201394    3       2         41   135          5   \n",
       "6188149   82919      0   200204    7       3         16   120          4   \n",
       "6923284   95839      0   145922    2       2         20   282          5   \n",
       "3119239  493196      0   226761    2       2         16   352          2   \n",
       "7504672  599220      0   255351    3       2         16   352          2   \n",
       "...         ...    ...      ...  ...     ...        ...   ...        ...   \n",
       "2958169  397336      0   199615    7       2         26   353          2   \n",
       "3556740  325088      0   111900    7       2         26   275          4   \n",
       "6198770  845817      0   201933    7       2         31   166          2   \n",
       "2731170  188295      0   161770    8       2         15   358          3   \n",
       "7124618  666936      0   183426    2       2         20   328          5   \n",
       "\n",
       "         series_dev  series_group  ...        ad_click_list_v002  \\\n",
       "7217393          11             8  ...  1492^1112^2041^1227^1036   \n",
       "6188149          16             5  ...  1151^1314^1460^1619^1189   \n",
       "6923284          16             5  ...                 1592^1535   \n",
       "3119239          11             8  ...  1577^1690^1466^1812^1216   \n",
       "7504672          31             3  ...            1723^1482^1173   \n",
       "...             ...           ...  ...                       ...   \n",
       "2958169          16             5  ...  1899^1535^1964^1984^1444   \n",
       "3556740          31             3  ...  1173^1511^1236^1017^1466   \n",
       "6198770          30             3  ...            1236^1836^1774   \n",
       "2731170          16             5  ...  1423^1223^1716^1807^1668   \n",
       "7124618          16             5  ...  1316^1223^1633^1916^1717   \n",
       "\n",
       "          ad_click_list_v003  ad_close_list_v001  ad_close_list_v002  \\\n",
       "7217393          162^190^312               24107                1218   \n",
       "6188149  246^309^257^152^181               24107                1218   \n",
       "6923284              257^168               24107                1218   \n",
       "3119239          350^162^306               24107                1218   \n",
       "7504672          186^257^162               24107                1218   \n",
       "...                      ...                 ...                 ...   \n",
       "2958169      168^306^162^190               24107                1218   \n",
       "3556740          162^350^305               24107                1218   \n",
       "6198770                  271               24107                1218   \n",
       "2731170      162^310^304^191               24107                1218   \n",
       "7124618      347^162^306^208               24107                1218   \n",
       "\n",
       "         ad_close_list_v003          pt_d  u_newsCatInterestsST  \\\n",
       "7217393                 173  202206091113       98^17^78^112^80   \n",
       "6188149                 173  202206080822      25^199^100^78^27   \n",
       "6923284                 173  202206090146       8^157^199^8^219   \n",
       "3119239                 173  202206050850    179^100^216^169^10   \n",
       "7504672                 173  202206090438        27^16^27^27^39   \n",
       "...                     ...           ...                   ...   \n",
       "2958169                 173  202206050920    50^219^123^179^140   \n",
       "3556740                 173  202206061041        78^50^26^98^10   \n",
       "6198770                 173  202206080640      216^7^199^63^168   \n",
       "2731170                 173  202206051008      78^98^98^112^131   \n",
       "7124618                 173  202206091217    206^171^199^86^143   \n",
       "\n",
       "         u_refreshTimes  u_feedLifeCycle  pt_d_hour  \n",
       "7217393               5               17         11  \n",
       "6188149               9               17          8  \n",
       "6923284               5               17          1  \n",
       "3119239               4               17          8  \n",
       "7504672               5               17          4  \n",
       "...                 ...              ...        ...  \n",
       "2958169               0               16          9  \n",
       "3556740               9               17         10  \n",
       "6198770               5               17          6  \n",
       "2731170               9               17         10  \n",
       "7124618               8               17         12  \n",
       "\n",
       "[20000 rows x 35 columns]"
      ]
     },
     "execution_count": 68,
     "metadata": {},
     "output_type": "execute_result"
    }
   ],
   "source": [
    "df_sub.drop(columns='site_id', inplace=True)"
   ]
  },
  {
   "cell_type": "code",
   "execution_count": 17,
   "metadata": {},
   "outputs": [
    {
     "data": {
      "text/plain": [
       "0    0.984478\n",
       "1    0.015522\n",
       "Name: label, dtype: float64"
      ]
     },
     "execution_count": 17,
     "metadata": {},
     "output_type": "execute_result"
    }
   ],
   "source": [
    "df.label.value_counts(normalize=True)"
   ]
  },
  {
   "cell_type": "markdown",
   "metadata": {},
   "source": [
    "#"
   ]
  },
  {
   "cell_type": "code",
   "execution_count": 37,
   "metadata": {},
   "outputs": [],
   "source": [
    "df_sub.to_csv(r'C:\\Users\\qwswe\\Documents\\Flatiron\\DS_P3\\Output_Data\\EDA_data_subset.csv', index = False)"
   ]
  },
  {
   "cell_type": "code",
   "execution_count": null,
   "metadata": {},
   "outputs": [],
   "source": []
  },
  {
   "cell_type": "code",
   "execution_count": null,
   "metadata": {},
   "outputs": [],
   "source": []
  }
 ],
 "metadata": {
  "kernelspec": {
   "display_name": "Python 3.9.12 ('base')",
   "language": "python",
   "name": "python3"
  },
  "language_info": {
   "codemirror_mode": {
    "name": "ipython",
    "version": 3
   },
   "file_extension": ".py",
   "mimetype": "text/x-python",
   "name": "python",
   "nbconvert_exporter": "python",
   "pygments_lexer": "ipython3",
   "version": "3.9.12"
  },
  "orig_nbformat": 4,
  "vscode": {
   "interpreter": {
    "hash": "c738c5dbbe27c39534afaf60a228761ec99c842d673ea0c5f841b81d59c4efd4"
   }
  }
 },
 "nbformat": 4,
 "nbformat_minor": 2
}
