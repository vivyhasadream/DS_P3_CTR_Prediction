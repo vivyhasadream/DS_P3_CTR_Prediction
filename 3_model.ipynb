{
 "cells": [
  {
   "cell_type": "code",
   "execution_count": 2,
   "metadata": {},
   "outputs": [],
   "source": [
    "import numpy as np \n",
    "import pandas as pd \n",
    "import matplotlib.pyplot as plt\n",
    "import seaborn as sns \n",
    "import pickle\n",
    "\n",
    "from sklearn.model_selection import train_test_split, GridSearchCV, cross_val_score, RandomizedSearchCV\n",
    "from imblearn.over_sampling import SMOTE\n",
    "\n",
    "from sklearn.metrics import mean_absolute_error, mean_squared_error,\\\n",
    "    confusion_matrix, plot_confusion_matrix, classification_report,\\\n",
    "    accuracy_score, plot_roc_curve\n",
    "\n",
    "from sklearn.preprocessing import StandardScaler, OneHotEncoder, Normalizer, LabelEncoder\n",
    "\n",
    "from sklearn.tree import DecisionTreeClassifier, plot_tree\n",
    "from sklearn.linear_model import LogisticRegression\n",
    "from imblearn.ensemble import BalancedRandomForestClassifier\n",
    "\n",
    "from sklearn.pipeline import Pipeline\n",
    "from sklearn import set_config"
   ]
  },
  {
   "cell_type": "code",
   "execution_count": 3,
   "metadata": {},
   "outputs": [
    {
     "data": {
      "text/html": [
       "<div>\n",
       "<style scoped>\n",
       "    .dataframe tbody tr th:only-of-type {\n",
       "        vertical-align: middle;\n",
       "    }\n",
       "\n",
       "    .dataframe tbody tr th {\n",
       "        vertical-align: top;\n",
       "    }\n",
       "\n",
       "    .dataframe thead th {\n",
       "        text-align: right;\n",
       "    }\n",
       "</style>\n",
       "<table border=\"1\" class=\"dataframe\">\n",
       "  <thead>\n",
       "    <tr style=\"text-align: right;\">\n",
       "      <th></th>\n",
       "      <th>label</th>\n",
       "      <th>age</th>\n",
       "      <th>gender</th>\n",
       "      <th>residence</th>\n",
       "      <th>city</th>\n",
       "      <th>city_rank</th>\n",
       "      <th>series_dev</th>\n",
       "      <th>series_group</th>\n",
       "      <th>emui_dev</th>\n",
       "      <th>device_name</th>\n",
       "      <th>...</th>\n",
       "      <th>creat_type_cd</th>\n",
       "      <th>adv_prim_id</th>\n",
       "      <th>inter_type_cd</th>\n",
       "      <th>slot_id</th>\n",
       "      <th>spread_app_id</th>\n",
       "      <th>hispace_app_tags</th>\n",
       "      <th>app_second_class</th>\n",
       "      <th>app_score</th>\n",
       "      <th>u_refreshTimes</th>\n",
       "      <th>u_feedLifeCycle</th>\n",
       "    </tr>\n",
       "  </thead>\n",
       "  <tbody>\n",
       "    <tr>\n",
       "      <th>0</th>\n",
       "      <td>0</td>\n",
       "      <td>3</td>\n",
       "      <td>2</td>\n",
       "      <td>16</td>\n",
       "      <td>147</td>\n",
       "      <td>2</td>\n",
       "      <td>32</td>\n",
       "      <td>6</td>\n",
       "      <td>35</td>\n",
       "      <td>312</td>\n",
       "      <td>...</td>\n",
       "      <td>6</td>\n",
       "      <td>1846</td>\n",
       "      <td>4</td>\n",
       "      <td>46</td>\n",
       "      <td>162</td>\n",
       "      <td>47</td>\n",
       "      <td>14</td>\n",
       "      <td>10.0</td>\n",
       "      <td>0</td>\n",
       "      <td>15</td>\n",
       "    </tr>\n",
       "    <tr>\n",
       "      <th>1</th>\n",
       "      <td>1</td>\n",
       "      <td>3</td>\n",
       "      <td>2</td>\n",
       "      <td>16</td>\n",
       "      <td>147</td>\n",
       "      <td>2</td>\n",
       "      <td>32</td>\n",
       "      <td>6</td>\n",
       "      <td>35</td>\n",
       "      <td>312</td>\n",
       "      <td>...</td>\n",
       "      <td>8</td>\n",
       "      <td>1060</td>\n",
       "      <td>4</td>\n",
       "      <td>37</td>\n",
       "      <td>344</td>\n",
       "      <td>20</td>\n",
       "      <td>13</td>\n",
       "      <td>10.0</td>\n",
       "      <td>0</td>\n",
       "      <td>15</td>\n",
       "    </tr>\n",
       "    <tr>\n",
       "      <th>2</th>\n",
       "      <td>1</td>\n",
       "      <td>3</td>\n",
       "      <td>2</td>\n",
       "      <td>16</td>\n",
       "      <td>147</td>\n",
       "      <td>2</td>\n",
       "      <td>32</td>\n",
       "      <td>6</td>\n",
       "      <td>35</td>\n",
       "      <td>312</td>\n",
       "      <td>...</td>\n",
       "      <td>8</td>\n",
       "      <td>1060</td>\n",
       "      <td>4</td>\n",
       "      <td>37</td>\n",
       "      <td>344</td>\n",
       "      <td>20</td>\n",
       "      <td>13</td>\n",
       "      <td>10.0</td>\n",
       "      <td>0</td>\n",
       "      <td>15</td>\n",
       "    </tr>\n",
       "    <tr>\n",
       "      <th>3</th>\n",
       "      <td>0</td>\n",
       "      <td>3</td>\n",
       "      <td>2</td>\n",
       "      <td>16</td>\n",
       "      <td>147</td>\n",
       "      <td>2</td>\n",
       "      <td>32</td>\n",
       "      <td>6</td>\n",
       "      <td>35</td>\n",
       "      <td>312</td>\n",
       "      <td>...</td>\n",
       "      <td>8</td>\n",
       "      <td>1542</td>\n",
       "      <td>4</td>\n",
       "      <td>47</td>\n",
       "      <td>152</td>\n",
       "      <td>49</td>\n",
       "      <td>17</td>\n",
       "      <td>10.0</td>\n",
       "      <td>0</td>\n",
       "      <td>15</td>\n",
       "    </tr>\n",
       "    <tr>\n",
       "      <th>4</th>\n",
       "      <td>0</td>\n",
       "      <td>3</td>\n",
       "      <td>2</td>\n",
       "      <td>16</td>\n",
       "      <td>147</td>\n",
       "      <td>2</td>\n",
       "      <td>32</td>\n",
       "      <td>6</td>\n",
       "      <td>35</td>\n",
       "      <td>312</td>\n",
       "      <td>...</td>\n",
       "      <td>8</td>\n",
       "      <td>1036</td>\n",
       "      <td>4</td>\n",
       "      <td>44</td>\n",
       "      <td>312</td>\n",
       "      <td>43</td>\n",
       "      <td>18</td>\n",
       "      <td>10.0</td>\n",
       "      <td>0</td>\n",
       "      <td>15</td>\n",
       "    </tr>\n",
       "  </tbody>\n",
       "</table>\n",
       "<p>5 rows × 24 columns</p>\n",
       "</div>"
      ],
      "text/plain": [
       "   label  age  gender  residence  city  city_rank  series_dev  series_group  \\\n",
       "0      0    3       2         16   147          2          32             6   \n",
       "1      1    3       2         16   147          2          32             6   \n",
       "2      1    3       2         16   147          2          32             6   \n",
       "3      0    3       2         16   147          2          32             6   \n",
       "4      0    3       2         16   147          2          32             6   \n",
       "\n",
       "   emui_dev  device_name  ...  creat_type_cd  adv_prim_id  inter_type_cd  \\\n",
       "0        35          312  ...              6         1846              4   \n",
       "1        35          312  ...              8         1060              4   \n",
       "2        35          312  ...              8         1060              4   \n",
       "3        35          312  ...              8         1542              4   \n",
       "4        35          312  ...              8         1036              4   \n",
       "\n",
       "   slot_id  spread_app_id  hispace_app_tags  app_second_class  app_score  \\\n",
       "0       46            162                47                14       10.0   \n",
       "1       37            344                20                13       10.0   \n",
       "2       37            344                20                13       10.0   \n",
       "3       47            152                49                17       10.0   \n",
       "4       44            312                43                18       10.0   \n",
       "\n",
       "   u_refreshTimes  u_feedLifeCycle  \n",
       "0               0               15  \n",
       "1               0               15  \n",
       "2               0               15  \n",
       "3               0               15  \n",
       "4               0               15  \n",
       "\n",
       "[5 rows x 24 columns]"
      ]
     },
     "execution_count": 3,
     "metadata": {},
     "output_type": "execute_result"
    }
   ],
   "source": [
    "df = pd.read_csv('Output_Data\\Model_1_baseline_data.csv')\n",
    "df.head()"
   ]
  },
  {
   "cell_type": "code",
   "execution_count": 4,
   "metadata": {},
   "outputs": [
    {
     "data": {
      "text/plain": [
       "Index(['label', 'age', 'gender', 'residence', 'city', 'city_rank',\n",
       "       'series_dev', 'series_group', 'emui_dev', 'device_name', 'device_size',\n",
       "       'net_type', 'task_id', 'adv_id', 'creat_type_cd', 'adv_prim_id',\n",
       "       'inter_type_cd', 'slot_id', 'spread_app_id', 'hispace_app_tags',\n",
       "       'app_second_class', 'app_score', 'u_refreshTimes', 'u_feedLifeCycle'],\n",
       "      dtype='object')"
      ]
     },
     "execution_count": 4,
     "metadata": {},
     "output_type": "execute_result"
    }
   ],
   "source": [
    "df.columns"
   ]
  },
  {
   "cell_type": "markdown",
   "metadata": {},
   "source": [
    "# TRAIN TEST SPLIT"
   ]
  },
  {
   "cell_type": "markdown",
   "metadata": {},
   "source": [
    "using SMOTE"
   ]
  },
  {
   "cell_type": "code",
   "execution_count": 5,
   "metadata": {},
   "outputs": [],
   "source": [
    "X = df.drop(columns='label')\n",
    "y = df.label"
   ]
  },
  {
   "cell_type": "code",
   "execution_count": 6,
   "metadata": {},
   "outputs": [
    {
     "data": {
      "text/plain": [
       "((5372861, 23), (2302656, 23))"
      ]
     },
     "execution_count": 6,
     "metadata": {},
     "output_type": "execute_result"
    }
   ],
   "source": [
    "X_train, X_test, y_train, y_test = train_test_split(X, y, test_size=0.3, random_state=2333)\n",
    "\n",
    "X_train.shape, X_test.shape"
   ]
  },
  {
   "cell_type": "code",
   "execution_count": 10,
   "metadata": {},
   "outputs": [
    {
     "name": "stdout",
     "output_type": "stream",
     "text": [
      "Original class distribution: \n",
      "\n",
      "0    7556381\n",
      "1     119136\n",
      "Name: label, dtype: int64\n",
      "-----------------------------------------\n",
      "Synthetic sample class distribution: \n",
      "\n",
      "1    5289478\n",
      "0    5289478\n",
      "Name: label, dtype: int64\n"
     ]
    }
   ],
   "source": [
    "# Previous original class distribution\n",
    "print('Original class distribution: \\n')\n",
    "print(y.value_counts())\n",
    "smote = SMOTE()\n",
    "X_train_resampled, y_train_resampled = smote.fit_resample(X_train, y_train) \n",
    "# Preview synthetic sample class distribution\n",
    "print('-----------------------------------------')\n",
    "print('Synthetic sample class distribution: \\n')\n",
    "print(pd.Series(y_train_resampled).value_counts()) "
   ]
  },
  {
   "cell_type": "markdown",
   "metadata": {},
   "source": [
    "# DECISION TREE"
   ]
  },
  {
   "cell_type": "markdown",
   "metadata": {},
   "source": [
    "- decision tree fit with STOMP resample"
   ]
  },
  {
   "cell_type": "code",
   "execution_count": 11,
   "metadata": {},
   "outputs": [
    {
     "data": {
      "text/plain": [
       "DecisionTreeClassifier(random_state=2333)"
      ]
     },
     "execution_count": 11,
     "metadata": {},
     "output_type": "execute_result"
    }
   ],
   "source": [
    "tree_clf = DecisionTreeClassifier(criterion = 'gini', random_state=2333)\n",
    "tree_clf.fit(X_train_resampled, y_train_resampled)"
   ]
  },
  {
   "cell_type": "code",
   "execution_count": 12,
   "metadata": {},
   "outputs": [
    {
     "data": {
      "text/plain": [
       "64"
      ]
     },
     "execution_count": 12,
     "metadata": {},
     "output_type": "execute_result"
    }
   ],
   "source": [
    "tree_clf.get_depth()"
   ]
  },
  {
   "cell_type": "code",
   "execution_count": 13,
   "metadata": {},
   "outputs": [
    {
     "data": {
      "text/plain": [
       "0    0.984478\n",
       "1    0.015522\n",
       "Name: label, dtype: float64"
      ]
     },
     "execution_count": 13,
     "metadata": {},
     "output_type": "execute_result"
    }
   ],
   "source": [
    "df.label.value_counts(normalize=True)"
   ]
  },
  {
   "cell_type": "code",
   "execution_count": 14,
   "metadata": {},
   "outputs": [
    {
     "name": "stdout",
     "output_type": "stream",
     "text": [
      "              precision    recall  f1-score   support\n",
      "\n",
      "           0       0.99      0.98      0.98   2266903\n",
      "           1       0.16      0.22      0.19     35753\n",
      "\n",
      "    accuracy                           0.97   2302656\n",
      "   macro avg       0.58      0.60      0.59   2302656\n",
      "weighted avg       0.97      0.97      0.97   2302656\n",
      "\n"
     ]
    }
   ],
   "source": [
    "y_hat_test = tree_clf.predict(X_test)\n",
    "\n",
    "print(classification_report(y_test, y_hat_test))"
   ]
  },
  {
   "cell_type": "code",
   "execution_count": 15,
   "metadata": {},
   "outputs": [
    {
     "data": {
      "text/plain": [
       "array([[2225951,   40952],\n",
       "       [  27771,    7982]], dtype=int64)"
      ]
     },
     "execution_count": 15,
     "metadata": {},
     "output_type": "execute_result"
    }
   ],
   "source": [
    "confusion_matrix(y_test, y_hat_test)"
   ]
  },
  {
   "cell_type": "code",
   "execution_count": 16,
   "metadata": {},
   "outputs": [
    {
     "data": {
      "text/plain": [
       "<sklearn.metrics._plot.confusion_matrix.ConfusionMatrixDisplay at 0x1f40b370d90>"
      ]
     },
     "execution_count": 16,
     "metadata": {},
     "output_type": "execute_result"
    },
    {
     "data": {
      "image/png": "[encoded data removed]",
      "text/plain": [
       "<Figure size 432x288 with 2 Axes>"
      ]
     },
     "metadata": {
      "needs_background": "light"
     },
     "output_type": "display_data"
    }
   ],
   "source": [
    "plot_confusion_matrix(tree_clf,X_test, y_test)"
   ]
  },
  {
   "cell_type": "code",
   "execution_count": 18,
   "metadata": {},
   "outputs": [],
   "source": [
    "filename = 'Models/tree_baseline_model.pkl'\n",
    "pickle.dump(tree_clf, open(filename, 'wb'))"
   ]
  },
  {
   "cell_type": "markdown",
   "metadata": {},
   "source": [
    "- decision tree with origin sample"
   ]
  },
  {
   "cell_type": "code",
   "execution_count": 7,
   "metadata": {},
   "outputs": [
    {
     "data": {
      "text/plain": [
       "DecisionTreeClassifier(random_state=2333)"
      ]
     },
     "execution_count": 7,
     "metadata": {},
     "output_type": "execute_result"
    }
   ],
   "source": [
    "tree_clf_raw = DecisionTreeClassifier(criterion = 'gini', random_state=2333)\n",
    "tree_clf_raw.fit(X_train, y_train)"
   ]
  },
  {
   "cell_type": "code",
   "execution_count": 8,
   "metadata": {},
   "outputs": [
    {
     "data": {
      "text/plain": [
       "55"
      ]
     },
     "execution_count": 8,
     "metadata": {},
     "output_type": "execute_result"
    }
   ],
   "source": [
    "tree_clf_raw.get_depth()"
   ]
  },
  {
   "cell_type": "code",
   "execution_count": 10,
   "metadata": {},
   "outputs": [
    {
     "data": {
      "text/plain": [
       "<sklearn.metrics._plot.confusion_matrix.ConfusionMatrixDisplay at 0x14cd5402fa0>"
      ]
     },
     "execution_count": 10,
     "metadata": {},
     "output_type": "execute_result"
    },
    {
     "data": {
      "image/png": "[encoded data removed]",
      "text/plain": [
       "<Figure size 432x288 with 2 Axes>"
      ]
     },
     "metadata": {
      "needs_background": "light"
     },
     "output_type": "display_data"
    }
   ],
   "source": [
    "plot_confusion_matrix(tree_clf_raw,X_test, y_test)"
   ]
  },
  {
   "cell_type": "code",
   "execution_count": 12,
   "metadata": {},
   "outputs": [
    {
     "name": "stdout",
     "output_type": "stream",
     "text": [
      "              precision    recall  f1-score   support\n",
      "\n",
      "           0       0.99      0.99      0.99   2266903\n",
      "           1       0.21      0.19      0.20     35753\n",
      "\n",
      "    accuracy                           0.98   2302656\n",
      "   macro avg       0.60      0.59      0.59   2302656\n",
      "weighted avg       0.98      0.98      0.98   2302656\n",
      "\n"
     ]
    }
   ],
   "source": [
    "print(classification_report(y_test, tree_clf_raw.predict(X_test)))"
   ]
  },
  {
   "cell_type": "markdown",
   "metadata": {},
   "source": [
    "CONCLUSION:\n",
    "\n",
    "- STOMP doesn't help that much for baseline model\n",
    "- desicion tree works pretty fast (5 min)"
   ]
  },
  {
   "cell_type": "markdown",
   "metadata": {},
   "source": [
    "# BALANCED RANDOM FOREST CLASSIFIER"
   ]
  },
  {
   "cell_type": "code",
   "execution_count": 8,
   "metadata": {},
   "outputs": [
    {
     "data": {
      "text/plain": [
       "BalancedRandomForestClassifier(random_state=2333)"
      ]
     },
     "execution_count": 8,
     "metadata": {},
     "output_type": "execute_result"
    }
   ],
   "source": [
    "# fit the BRFC model, will take about 90 min\n",
    "\n",
    "BRFC_clf = BalancedRandomForestClassifier(random_state=2333)\n",
    "BRFC_clf.fit(X_train_resampled, y_train_resampled) "
   ]
  },
  {
   "cell_type": "code",
   "execution_count": 9,
   "metadata": {},
   "outputs": [],
   "source": [
    "# save the model to disk\n",
    "filename = 'Models/BRFC_baseline_model.pkl'\n",
    "pickle.dump(BRFC_clf, open(filename, 'wb'))"
   ]
  },
  {
   "cell_type": "code",
   "execution_count": 14,
   "metadata": {},
   "outputs": [],
   "source": [
    "# load the model\n",
    "# about 40 seconds\n",
    "\n",
    "file = open(\"Models/BRFC_baseline_model.pkl\",'rb')\n",
    "BRFC_clf_SMOTE = pickle.load(file)\n",
    "file.close()"
   ]
  },
  {
   "cell_type": "code",
   "execution_count": 15,
   "metadata": {},
   "outputs": [
    {
     "name": "stdout",
     "output_type": "stream",
     "text": [
      "              precision    recall  f1-score   support\n",
      "\n",
      "           0       0.99      0.99      0.99   2266903\n",
      "           1       0.31      0.20      0.24     35753\n",
      "\n",
      "    accuracy                           0.98   2302656\n",
      "   macro avg       0.65      0.60      0.62   2302656\n",
      "weighted avg       0.98      0.98      0.98   2302656\n",
      "\n"
     ]
    }
   ],
   "source": [
    "y_hat_test = BRFC_clf_SMOTE.predict(X_test)\n",
    "\n",
    "print(classification_report(y_test, y_hat_test))"
   ]
  },
  {
   "cell_type": "code",
   "execution_count": 16,
   "metadata": {},
   "outputs": [
    {
     "data": {
      "text/plain": [
       "<sklearn.metrics._plot.confusion_matrix.ConfusionMatrixDisplay at 0x14cd56aa100>"
      ]
     },
     "execution_count": 16,
     "metadata": {},
     "output_type": "execute_result"
    },
    {
     "data": {
      "image/png": "[encoded data removed]",
      "text/plain": [
       "<Figure size 432x288 with 2 Axes>"
      ]
     },
     "metadata": {
      "needs_background": "light"
     },
     "output_type": "display_data"
    }
   ],
   "source": [
    "plot_confusion_matrix(BRFC_clf_SMOTE,X_test, y_test)"
   ]
  },
  {
   "cell_type": "markdown",
   "metadata": {},
   "source": [
    "CONCLUSION:\n",
    "- it took about 87 min to fit the BRFC & STOMP\n",
    "- the results are not that great, a little bit better than desicion tree"
   ]
  },
  {
   "cell_type": "markdown",
   "metadata": {},
   "source": [
    "# LOGISTIC REGRESSION"
   ]
  },
  {
   "cell_type": "markdown",
   "metadata": {},
   "source": [
    "DON'T TRY!"
   ]
  },
  {
   "cell_type": "code",
   "execution_count": 23,
   "metadata": {},
   "outputs": [
    {
     "data": {
      "text/html": [
       "<div>\n",
       "<style scoped>\n",
       "    .dataframe tbody tr th:only-of-type {\n",
       "        vertical-align: middle;\n",
       "    }\n",
       "\n",
       "    .dataframe tbody tr th {\n",
       "        vertical-align: top;\n",
       "    }\n",
       "\n",
       "    .dataframe thead th {\n",
       "        text-align: right;\n",
       "    }\n",
       "</style>\n",
       "<table border=\"1\" class=\"dataframe\">\n",
       "  <thead>\n",
       "    <tr style=\"text-align: right;\">\n",
       "      <th></th>\n",
       "      <th>label</th>\n",
       "      <th>age</th>\n",
       "      <th>gender</th>\n",
       "      <th>residence</th>\n",
       "      <th>city</th>\n",
       "      <th>city_rank</th>\n",
       "      <th>series_dev</th>\n",
       "      <th>series_group</th>\n",
       "      <th>emui_dev</th>\n",
       "      <th>device_name</th>\n",
       "      <th>...</th>\n",
       "      <th>creat_type_cd</th>\n",
       "      <th>adv_prim_id</th>\n",
       "      <th>inter_type_cd</th>\n",
       "      <th>slot_id</th>\n",
       "      <th>spread_app_id</th>\n",
       "      <th>hispace_app_tags</th>\n",
       "      <th>app_second_class</th>\n",
       "      <th>app_score</th>\n",
       "      <th>u_refreshTimes</th>\n",
       "      <th>u_feedLifeCycle</th>\n",
       "    </tr>\n",
       "  </thead>\n",
       "  <tbody>\n",
       "    <tr>\n",
       "      <th>0</th>\n",
       "      <td>0</td>\n",
       "      <td>3</td>\n",
       "      <td>2</td>\n",
       "      <td>16</td>\n",
       "      <td>147</td>\n",
       "      <td>2</td>\n",
       "      <td>32</td>\n",
       "      <td>6</td>\n",
       "      <td>35</td>\n",
       "      <td>312</td>\n",
       "      <td>...</td>\n",
       "      <td>6</td>\n",
       "      <td>1846</td>\n",
       "      <td>4</td>\n",
       "      <td>46</td>\n",
       "      <td>162</td>\n",
       "      <td>47</td>\n",
       "      <td>14</td>\n",
       "      <td>10.0</td>\n",
       "      <td>0</td>\n",
       "      <td>15</td>\n",
       "    </tr>\n",
       "    <tr>\n",
       "      <th>1</th>\n",
       "      <td>1</td>\n",
       "      <td>3</td>\n",
       "      <td>2</td>\n",
       "      <td>16</td>\n",
       "      <td>147</td>\n",
       "      <td>2</td>\n",
       "      <td>32</td>\n",
       "      <td>6</td>\n",
       "      <td>35</td>\n",
       "      <td>312</td>\n",
       "      <td>...</td>\n",
       "      <td>8</td>\n",
       "      <td>1060</td>\n",
       "      <td>4</td>\n",
       "      <td>37</td>\n",
       "      <td>344</td>\n",
       "      <td>20</td>\n",
       "      <td>13</td>\n",
       "      <td>10.0</td>\n",
       "      <td>0</td>\n",
       "      <td>15</td>\n",
       "    </tr>\n",
       "    <tr>\n",
       "      <th>2</th>\n",
       "      <td>1</td>\n",
       "      <td>3</td>\n",
       "      <td>2</td>\n",
       "      <td>16</td>\n",
       "      <td>147</td>\n",
       "      <td>2</td>\n",
       "      <td>32</td>\n",
       "      <td>6</td>\n",
       "      <td>35</td>\n",
       "      <td>312</td>\n",
       "      <td>...</td>\n",
       "      <td>8</td>\n",
       "      <td>1060</td>\n",
       "      <td>4</td>\n",
       "      <td>37</td>\n",
       "      <td>344</td>\n",
       "      <td>20</td>\n",
       "      <td>13</td>\n",
       "      <td>10.0</td>\n",
       "      <td>0</td>\n",
       "      <td>15</td>\n",
       "    </tr>\n",
       "    <tr>\n",
       "      <th>3</th>\n",
       "      <td>0</td>\n",
       "      <td>3</td>\n",
       "      <td>2</td>\n",
       "      <td>16</td>\n",
       "      <td>147</td>\n",
       "      <td>2</td>\n",
       "      <td>32</td>\n",
       "      <td>6</td>\n",
       "      <td>35</td>\n",
       "      <td>312</td>\n",
       "      <td>...</td>\n",
       "      <td>8</td>\n",
       "      <td>1542</td>\n",
       "      <td>4</td>\n",
       "      <td>47</td>\n",
       "      <td>152</td>\n",
       "      <td>49</td>\n",
       "      <td>17</td>\n",
       "      <td>10.0</td>\n",
       "      <td>0</td>\n",
       "      <td>15</td>\n",
       "    </tr>\n",
       "    <tr>\n",
       "      <th>4</th>\n",
       "      <td>0</td>\n",
       "      <td>3</td>\n",
       "      <td>2</td>\n",
       "      <td>16</td>\n",
       "      <td>147</td>\n",
       "      <td>2</td>\n",
       "      <td>32</td>\n",
       "      <td>6</td>\n",
       "      <td>35</td>\n",
       "      <td>312</td>\n",
       "      <td>...</td>\n",
       "      <td>8</td>\n",
       "      <td>1036</td>\n",
       "      <td>4</td>\n",
       "      <td>44</td>\n",
       "      <td>312</td>\n",
       "      <td>43</td>\n",
       "      <td>18</td>\n",
       "      <td>10.0</td>\n",
       "      <td>0</td>\n",
       "      <td>15</td>\n",
       "    </tr>\n",
       "  </tbody>\n",
       "</table>\n",
       "<p>5 rows × 24 columns</p>\n",
       "</div>"
      ],
      "text/plain": [
       "   label  age  gender  residence  city  city_rank  series_dev  series_group  \\\n",
       "0      0    3       2         16   147          2          32             6   \n",
       "1      1    3       2         16   147          2          32             6   \n",
       "2      1    3       2         16   147          2          32             6   \n",
       "3      0    3       2         16   147          2          32             6   \n",
       "4      0    3       2         16   147          2          32             6   \n",
       "\n",
       "   emui_dev  device_name  ...  creat_type_cd  adv_prim_id  inter_type_cd  \\\n",
       "0        35          312  ...              6         1846              4   \n",
       "1        35          312  ...              8         1060              4   \n",
       "2        35          312  ...              8         1060              4   \n",
       "3        35          312  ...              8         1542              4   \n",
       "4        35          312  ...              8         1036              4   \n",
       "\n",
       "   slot_id  spread_app_id  hispace_app_tags  app_second_class  app_score  \\\n",
       "0       46            162                47                14       10.0   \n",
       "1       37            344                20                13       10.0   \n",
       "2       37            344                20                13       10.0   \n",
       "3       47            152                49                17       10.0   \n",
       "4       44            312                43                18       10.0   \n",
       "\n",
       "   u_refreshTimes  u_feedLifeCycle  \n",
       "0               0               15  \n",
       "1               0               15  \n",
       "2               0               15  \n",
       "3               0               15  \n",
       "4               0               15  \n",
       "\n",
       "[5 rows x 24 columns]"
      ]
     },
     "execution_count": 23,
     "metadata": {},
     "output_type": "execute_result"
    }
   ],
   "source": [
    "df.head()"
   ]
  },
  {
   "cell_type": "code",
   "execution_count": 32,
   "metadata": {},
   "outputs": [],
   "source": [
    "df_logreg = df.drop(columns=['device_size','task_id','adv_id'])"
   ]
  },
  {
   "cell_type": "code",
   "execution_count": 33,
   "metadata": {},
   "outputs": [
    {
     "name": "stdout",
     "output_type": "stream",
     "text": [
      "label 2\n",
      "age 8\n",
      "gender 3\n",
      "residence 35\n",
      "city 341\n",
      "city_rank 4\n",
      "series_dev 27\n",
      "series_group 7\n",
      "emui_dev 27\n",
      "device_name 256\n",
      "net_type 6\n",
      "creat_type_cd 9\n",
      "adv_prim_id 545\n",
      "inter_type_cd 4\n",
      "slot_id 60\n",
      "spread_app_id 116\n",
      "hispace_app_tags 43\n",
      "app_second_class 20\n",
      "app_score 3\n",
      "u_refreshTimes 10\n",
      "u_feedLifeCycle 8\n"
     ]
    }
   ],
   "source": [
    "col = df_logreg.columns\n",
    "for c in col:\n",
    "    print(c, len(df_logreg[c].unique()))"
   ]
  },
  {
   "cell_type": "code",
   "execution_count": 34,
   "metadata": {},
   "outputs": [
    {
     "data": {
      "text/plain": [
       "2447798    2117\n",
       "417767     2117\n",
       "5589046    2438\n",
       "3939055    2032\n",
       "5628315    1684\n",
       "Name: device_size, dtype: int64"
      ]
     },
     "execution_count": 34,
     "metadata": {},
     "output_type": "execute_result"
    }
   ],
   "source": [
    "df.device_size.sample(5)"
   ]
  },
  {
   "cell_type": "code",
   "execution_count": 38,
   "metadata": {},
   "outputs": [
    {
     "data": {
      "text/plain": [
       "Pipeline(steps=[('OHE', OneHotEncoder(drop='first', sparse=False)),\n",
       "                ('model', LogisticRegression(random_state=2333))])"
      ]
     },
     "execution_count": 38,
     "metadata": {},
     "output_type": "execute_result"
    }
   ],
   "source": [
    "logreg_baseline_pipe = Pipeline([\n",
    "    ('OHE', OneHotEncoder(sparse = False, drop = 'first')), \n",
    "    ('model', LogisticRegression(random_state=2333))\n",
    "    ])\n",
    "\n",
    "logreg_baseline_pipe"
   ]
  },
  {
   "cell_type": "code",
   "execution_count": 39,
   "metadata": {},
   "outputs": [
    {
     "data": {
      "text/plain": [
       "((5372861, 20), (5372861,))"
      ]
     },
     "execution_count": 39,
     "metadata": {},
     "output_type": "execute_result"
    }
   ],
   "source": [
    "X_logreg = df_logreg.drop(columns='label')\n",
    "y_logreg = df.label\n",
    "\n",
    "X_train_logreg, X_test_logreg, y_train_logreg, y_test_logreg = train_test_split(X_logreg, y_logreg, test_size=0.3, random_state=2333)\n",
    "X_train_logreg.shape, y_train_logreg.shape"
   ]
  },
  {
   "cell_type": "code",
   "execution_count": 40,
   "metadata": {},
   "outputs": [],
   "source": [
    "logreg_baseline_pipe.fit(X_train_logreg, y_train_logreg)"
   ]
  },
  {
   "cell_type": "code",
   "execution_count": null,
   "metadata": {},
   "outputs": [],
   "source": [
    "# Previous original class distribution\n",
    "print('Original class distribution: \\n')\n",
    "print(y_train_logreg.value_counts())\n",
    "smote = SMOTE()\n",
    "X_train_logreg_resampled, y_train_logreg_resampled = smote.fit_resample(X_train_logreg, y_train_logreg) \n",
    "# Preview synthetic sample class distribution\n",
    "print('-----------------------------------------')\n",
    "print('Synthetic sample class distribution: \\n')\n",
    "print(pd.Series(y_train_logreg_resampled).value_counts()) "
   ]
  },
  {
   "cell_type": "code",
   "execution_count": null,
   "metadata": {},
   "outputs": [],
   "source": []
  },
  {
   "cell_type": "code",
   "execution_count": null,
   "metadata": {},
   "outputs": [],
   "source": []
  },
  {
   "cell_type": "markdown",
   "metadata": {},
   "source": [
    "## (TEST LOAD PICKLE)"
   ]
  },
  {
   "cell_type": "code",
   "execution_count": 19,
   "metadata": {},
   "outputs": [],
   "source": [
    "file = open(\"Models/tree_baseline_model.pkl\",'rb')\n",
    "tree_clf = pickle.load(file)\n",
    "file.close()"
   ]
  },
  {
   "cell_type": "code",
   "execution_count": 20,
   "metadata": {},
   "outputs": [
    {
     "data": {
      "text/plain": [
       "<sklearn.metrics._plot.confusion_matrix.ConfusionMatrixDisplay at 0x1f44d107550>"
      ]
     },
     "execution_count": 20,
     "metadata": {},
     "output_type": "execute_result"
    },
    {
     "data": {
      "image/png": "[encoded data removed]",
      "text/plain": [
       "<Figure size 432x288 with 2 Axes>"
      ]
     },
     "metadata": {
      "needs_background": "light"
     },
     "output_type": "display_data"
    }
   ],
   "source": [
    "plot_confusion_matrix(tree_clf,X_test, y_test)"
   ]
  },
  {
   "cell_type": "code",
   "execution_count": null,
   "metadata": {},
   "outputs": [],
   "source": []
  }
 ],
 "metadata": {
  "kernelspec": {
   "display_name": "Python (learn-env)",
   "language": "python",
   "name": "learn-env"
  },
  "language_info": {
   "codemirror_mode": {
    "name": "ipython",
    "version": 3
   },
   "file_extension": ".py",
   "mimetype": "text/x-python",
   "name": "python",
   "nbconvert_exporter": "python",
   "pygments_lexer": "ipython3",
   "version": "3.8.5"
  },
  "orig_nbformat": 4,
  "vscode": {
   "interpreter": {
    "hash": "2e3ee667f1a52aa4a25a6b443492d19f02f85a3b3b8723528867a29f37ef28dc"
   }
  }
 },
 "nbformat": 4,
 "nbformat_minor": 2
}
