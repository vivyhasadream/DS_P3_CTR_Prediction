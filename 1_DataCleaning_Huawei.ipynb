{
 "cells": [
  {
   "cell_type": "code",
   "execution_count": 1,
   "metadata": {},
   "outputs": [],
   "source": [
    "import numpy as np \n",
    "import pandas as pd \n",
    "import seaborn as sns \n",
    "from scipy import stats\n",
    "import matplotlib.pyplot as plt\n",
    "import pickle\n",
    "import statsmodels.api as sm\n",
    "from sklearn.linear_model import LinearRegression\n",
    "from sklearn.preprocessing import OneHotEncoder\n",
    "from sklearn.metrics import mean_absolute_error\n",
    "from sklearn.preprocessing import StandardScaler\n",
    "from sklearn.metrics import mean_squared_error\n",
    "from sklearn.preprocessing import LabelEncoder"
   ]
  },
  {
   "cell_type": "markdown",
   "metadata": {},
   "source": [
    "# TRAIN ADS"
   ]
  },
  {
   "cell_type": "code",
   "execution_count": 2,
   "metadata": {},
   "outputs": [
    {
     "data": {
      "text/html": [
       "<div>\n",
       "<style scoped>\n",
       "    .dataframe tbody tr th:only-of-type {\n",
       "        vertical-align: middle;\n",
       "    }\n",
       "\n",
       "    .dataframe tbody tr th {\n",
       "        vertical-align: top;\n",
       "    }\n",
       "\n",
       "    .dataframe thead th {\n",
       "        text-align: right;\n",
       "    }\n",
       "</style>\n",
       "<table border=\"1\" class=\"dataframe\">\n",
       "  <thead>\n",
       "    <tr style=\"text-align: right;\">\n",
       "      <th></th>\n",
       "      <th>log_id</th>\n",
       "      <th>label</th>\n",
       "      <th>user_id</th>\n",
       "      <th>age</th>\n",
       "      <th>gender</th>\n",
       "      <th>residence</th>\n",
       "      <th>city</th>\n",
       "      <th>city_rank</th>\n",
       "      <th>series_dev</th>\n",
       "      <th>series_group</th>\n",
       "      <th>...</th>\n",
       "      <th>ad_click_list_v001</th>\n",
       "      <th>ad_click_list_v002</th>\n",
       "      <th>ad_click_list_v003</th>\n",
       "      <th>ad_close_list_v001</th>\n",
       "      <th>ad_close_list_v002</th>\n",
       "      <th>ad_close_list_v003</th>\n",
       "      <th>pt_d</th>\n",
       "      <th>u_newsCatInterestsST</th>\n",
       "      <th>u_refreshTimes</th>\n",
       "      <th>u_feedLifeCycle</th>\n",
       "    </tr>\n",
       "  </thead>\n",
       "  <tbody>\n",
       "    <tr>\n",
       "      <th>0</th>\n",
       "      <td>373250</td>\n",
       "      <td>0</td>\n",
       "      <td>100005</td>\n",
       "      <td>3</td>\n",
       "      <td>2</td>\n",
       "      <td>16</td>\n",
       "      <td>147</td>\n",
       "      <td>2</td>\n",
       "      <td>32</td>\n",
       "      <td>6</td>\n",
       "      <td>...</td>\n",
       "      <td>30157^30648^14278^31706</td>\n",
       "      <td>2066^1776^1036</td>\n",
       "      <td>114^219^312</td>\n",
       "      <td>24107</td>\n",
       "      <td>1218</td>\n",
       "      <td>173</td>\n",
       "      <td>202206030326</td>\n",
       "      <td>39^220^16</td>\n",
       "      <td>0</td>\n",
       "      <td>15</td>\n",
       "    </tr>\n",
       "    <tr>\n",
       "      <th>1</th>\n",
       "      <td>373253</td>\n",
       "      <td>1</td>\n",
       "      <td>100005</td>\n",
       "      <td>3</td>\n",
       "      <td>2</td>\n",
       "      <td>16</td>\n",
       "      <td>147</td>\n",
       "      <td>2</td>\n",
       "      <td>32</td>\n",
       "      <td>6</td>\n",
       "      <td>...</td>\n",
       "      <td>30157^30648^14278^31706</td>\n",
       "      <td>2066^1776^1036</td>\n",
       "      <td>114^219^312</td>\n",
       "      <td>24107</td>\n",
       "      <td>1218</td>\n",
       "      <td>173</td>\n",
       "      <td>202206030326</td>\n",
       "      <td>39^220^16</td>\n",
       "      <td>0</td>\n",
       "      <td>15</td>\n",
       "    </tr>\n",
       "    <tr>\n",
       "      <th>2</th>\n",
       "      <td>373252</td>\n",
       "      <td>1</td>\n",
       "      <td>100005</td>\n",
       "      <td>3</td>\n",
       "      <td>2</td>\n",
       "      <td>16</td>\n",
       "      <td>147</td>\n",
       "      <td>2</td>\n",
       "      <td>32</td>\n",
       "      <td>6</td>\n",
       "      <td>...</td>\n",
       "      <td>30157^30648^14278^31706</td>\n",
       "      <td>2066^1776^1036</td>\n",
       "      <td>114^219^312</td>\n",
       "      <td>24107</td>\n",
       "      <td>1218</td>\n",
       "      <td>173</td>\n",
       "      <td>202206030326</td>\n",
       "      <td>39^220^16</td>\n",
       "      <td>0</td>\n",
       "      <td>15</td>\n",
       "    </tr>\n",
       "    <tr>\n",
       "      <th>3</th>\n",
       "      <td>373251</td>\n",
       "      <td>0</td>\n",
       "      <td>100005</td>\n",
       "      <td>3</td>\n",
       "      <td>2</td>\n",
       "      <td>16</td>\n",
       "      <td>147</td>\n",
       "      <td>2</td>\n",
       "      <td>32</td>\n",
       "      <td>6</td>\n",
       "      <td>...</td>\n",
       "      <td>30157^30648^14278^31706</td>\n",
       "      <td>2066^1776^1036</td>\n",
       "      <td>114^219^312</td>\n",
       "      <td>24107</td>\n",
       "      <td>1218</td>\n",
       "      <td>173</td>\n",
       "      <td>202206030326</td>\n",
       "      <td>39^220^16</td>\n",
       "      <td>0</td>\n",
       "      <td>15</td>\n",
       "    </tr>\n",
       "    <tr>\n",
       "      <th>4</th>\n",
       "      <td>373255</td>\n",
       "      <td>0</td>\n",
       "      <td>100005</td>\n",
       "      <td>3</td>\n",
       "      <td>2</td>\n",
       "      <td>16</td>\n",
       "      <td>147</td>\n",
       "      <td>2</td>\n",
       "      <td>32</td>\n",
       "      <td>6</td>\n",
       "      <td>...</td>\n",
       "      <td>30157^30648^14278^31706</td>\n",
       "      <td>2066^1776^1036</td>\n",
       "      <td>114^219^312</td>\n",
       "      <td>24107</td>\n",
       "      <td>1218</td>\n",
       "      <td>173</td>\n",
       "      <td>202206030328</td>\n",
       "      <td>39^220^16</td>\n",
       "      <td>0</td>\n",
       "      <td>15</td>\n",
       "    </tr>\n",
       "  </tbody>\n",
       "</table>\n",
       "<p>5 rows × 35 columns</p>\n",
       "</div>"
      ],
      "text/plain": [
       "   log_id  label  user_id  age  gender  residence  city  city_rank  \\\n",
       "0  373250      0   100005    3       2         16   147          2   \n",
       "1  373253      1   100005    3       2         16   147          2   \n",
       "2  373252      1   100005    3       2         16   147          2   \n",
       "3  373251      0   100005    3       2         16   147          2   \n",
       "4  373255      0   100005    3       2         16   147          2   \n",
       "\n",
       "   series_dev  series_group  ...       ad_click_list_v001  ad_click_list_v002  \\\n",
       "0          32             6  ...  30157^30648^14278^31706      2066^1776^1036   \n",
       "1          32             6  ...  30157^30648^14278^31706      2066^1776^1036   \n",
       "2          32             6  ...  30157^30648^14278^31706      2066^1776^1036   \n",
       "3          32             6  ...  30157^30648^14278^31706      2066^1776^1036   \n",
       "4          32             6  ...  30157^30648^14278^31706      2066^1776^1036   \n",
       "\n",
       "   ad_click_list_v003  ad_close_list_v001  ad_close_list_v002  \\\n",
       "0         114^219^312               24107                1218   \n",
       "1         114^219^312               24107                1218   \n",
       "2         114^219^312               24107                1218   \n",
       "3         114^219^312               24107                1218   \n",
       "4         114^219^312               24107                1218   \n",
       "\n",
       "   ad_close_list_v003          pt_d  u_newsCatInterestsST  u_refreshTimes  \\\n",
       "0                 173  202206030326             39^220^16               0   \n",
       "1                 173  202206030326             39^220^16               0   \n",
       "2                 173  202206030326             39^220^16               0   \n",
       "3                 173  202206030326             39^220^16               0   \n",
       "4                 173  202206030328             39^220^16               0   \n",
       "\n",
       "   u_feedLifeCycle  \n",
       "0               15  \n",
       "1               15  \n",
       "2               15  \n",
       "3               15  \n",
       "4               15  \n",
       "\n",
       "[5 rows x 35 columns]"
      ]
     },
     "execution_count": 2,
     "metadata": {},
     "output_type": "execute_result"
    }
   ],
   "source": [
    "df_train_ads = pd.read_csv('CTR Prediction - 2022 DIGIX Global AI Challenge/train/train_data_ads.csv')\n",
    "df_train_ads.head()"
   ]
  },
  {
   "cell_type": "code",
   "execution_count": 43,
   "metadata": {},
   "outputs": [
    {
     "data": {
      "text/plain": [
       "(7675517, 35)"
      ]
     },
     "execution_count": 43,
     "metadata": {},
     "output_type": "execute_result"
    }
   ],
   "source": [
    "df_train_ads.shape"
   ]
  },
  {
   "cell_type": "markdown",
   "metadata": {},
   "source": [
    "# TRAIN FEEDS"
   ]
  },
  {
   "cell_type": "code",
   "execution_count": 46,
   "metadata": {},
   "outputs": [],
   "source": [
    "df_train_feeds = pd.read_csv('CTR Prediction - 2022 DIGIX Global AI Challenge/train/train_data_feeds.csv')"
   ]
  },
  {
   "cell_type": "code",
   "execution_count": 47,
   "metadata": {},
   "outputs": [
    {
     "data": {
      "text/plain": [
       "(3227732, 28)"
      ]
     },
     "execution_count": 47,
     "metadata": {},
     "output_type": "execute_result"
    }
   ],
   "source": [
    "df_train_feeds.shape"
   ]
  },
  {
   "cell_type": "markdown",
   "metadata": {},
   "source": [
    "# TEST ADS"
   ]
  },
  {
   "cell_type": "code",
   "execution_count": 48,
   "metadata": {},
   "outputs": [],
   "source": [
    "df_test_ads = pd.read_csv('CTR Prediction - 2022 DIGIX Global AI Challenge/test/test_data_ads.csv')"
   ]
  },
  {
   "cell_type": "code",
   "execution_count": 49,
   "metadata": {},
   "outputs": [
    {
     "data": {
      "text/plain": [
       "(976058, 34)"
      ]
     },
     "execution_count": 49,
     "metadata": {},
     "output_type": "execute_result"
    }
   ],
   "source": [
    "df_test_ads.shape"
   ]
  },
  {
   "cell_type": "markdown",
   "metadata": {},
   "source": [
    "# TEST FEEDS"
   ]
  },
  {
   "cell_type": "code",
   "execution_count": 50,
   "metadata": {},
   "outputs": [
    {
     "data": {
      "text/html": [
       "<div>\n",
       "<style scoped>\n",
       "    .dataframe tbody tr th:only-of-type {\n",
       "        vertical-align: middle;\n",
       "    }\n",
       "\n",
       "    .dataframe tbody tr th {\n",
       "        vertical-align: top;\n",
       "    }\n",
       "\n",
       "    .dataframe thead th {\n",
       "        text-align: right;\n",
       "    }\n",
       "</style>\n",
       "<table border=\"1\" class=\"dataframe\">\n",
       "  <thead>\n",
       "    <tr style=\"text-align: right;\">\n",
       "      <th></th>\n",
       "      <th>u_userId</th>\n",
       "      <th>u_phonePrice</th>\n",
       "      <th>u_browserLifeCycle</th>\n",
       "      <th>u_browserMode</th>\n",
       "      <th>u_feedLifeCycle</th>\n",
       "      <th>u_refreshTimes</th>\n",
       "      <th>u_newsCatInterests</th>\n",
       "      <th>u_newsCatDislike</th>\n",
       "      <th>u_newsCatInterestsST</th>\n",
       "      <th>u_click_ca2_news</th>\n",
       "      <th>...</th>\n",
       "      <th>e_ch</th>\n",
       "      <th>e_m</th>\n",
       "      <th>e_po</th>\n",
       "      <th>e_pl</th>\n",
       "      <th>e_rn</th>\n",
       "      <th>e_section</th>\n",
       "      <th>e_et</th>\n",
       "      <th>label</th>\n",
       "      <th>cillabel</th>\n",
       "      <th>pro</th>\n",
       "    </tr>\n",
       "  </thead>\n",
       "  <tbody>\n",
       "    <tr>\n",
       "      <th>0</th>\n",
       "      <td>215116</td>\n",
       "      <td>16</td>\n",
       "      <td>17</td>\n",
       "      <td>14</td>\n",
       "      <td>11</td>\n",
       "      <td>0</td>\n",
       "      <td>65^72^42^65^104</td>\n",
       "      <td>0</td>\n",
       "      <td>219^50^151^21^140</td>\n",
       "      <td>219^50^151^114^21</td>\n",
       "      <td>...</td>\n",
       "      <td>19</td>\n",
       "      <td>998</td>\n",
       "      <td>9</td>\n",
       "      <td>2449</td>\n",
       "      <td>13</td>\n",
       "      <td>0</td>\n",
       "      <td>202206100922</td>\n",
       "      <td>-1</td>\n",
       "      <td>-1</td>\n",
       "      <td>0</td>\n",
       "    </tr>\n",
       "    <tr>\n",
       "      <th>1</th>\n",
       "      <td>215116</td>\n",
       "      <td>16</td>\n",
       "      <td>17</td>\n",
       "      <td>14</td>\n",
       "      <td>11</td>\n",
       "      <td>0</td>\n",
       "      <td>65^72^42^65^104</td>\n",
       "      <td>0</td>\n",
       "      <td>219^50^151^21^140</td>\n",
       "      <td>219^50^151^114^21</td>\n",
       "      <td>...</td>\n",
       "      <td>19</td>\n",
       "      <td>998</td>\n",
       "      <td>7</td>\n",
       "      <td>2449</td>\n",
       "      <td>14</td>\n",
       "      <td>0</td>\n",
       "      <td>202206100924</td>\n",
       "      <td>-1</td>\n",
       "      <td>-1</td>\n",
       "      <td>0</td>\n",
       "    </tr>\n",
       "    <tr>\n",
       "      <th>2</th>\n",
       "      <td>215116</td>\n",
       "      <td>16</td>\n",
       "      <td>17</td>\n",
       "      <td>14</td>\n",
       "      <td>11</td>\n",
       "      <td>0</td>\n",
       "      <td>65^72^42^65^104</td>\n",
       "      <td>0</td>\n",
       "      <td>0</td>\n",
       "      <td>65^104^98^168^0</td>\n",
       "      <td>...</td>\n",
       "      <td>19</td>\n",
       "      <td>998</td>\n",
       "      <td>14</td>\n",
       "      <td>2449</td>\n",
       "      <td>1</td>\n",
       "      <td>0</td>\n",
       "      <td>202206100907</td>\n",
       "      <td>1</td>\n",
       "      <td>-1</td>\n",
       "      <td>40</td>\n",
       "    </tr>\n",
       "    <tr>\n",
       "      <th>3</th>\n",
       "      <td>215116</td>\n",
       "      <td>16</td>\n",
       "      <td>17</td>\n",
       "      <td>14</td>\n",
       "      <td>11</td>\n",
       "      <td>0</td>\n",
       "      <td>65^72^42^65^104</td>\n",
       "      <td>0</td>\n",
       "      <td>219^50^151^21^140</td>\n",
       "      <td>219^50^151^114^21</td>\n",
       "      <td>...</td>\n",
       "      <td>19</td>\n",
       "      <td>998</td>\n",
       "      <td>5</td>\n",
       "      <td>2449</td>\n",
       "      <td>11</td>\n",
       "      <td>0</td>\n",
       "      <td>202206100921</td>\n",
       "      <td>-1</td>\n",
       "      <td>-1</td>\n",
       "      <td>0</td>\n",
       "    </tr>\n",
       "    <tr>\n",
       "      <th>4</th>\n",
       "      <td>215116</td>\n",
       "      <td>16</td>\n",
       "      <td>17</td>\n",
       "      <td>14</td>\n",
       "      <td>11</td>\n",
       "      <td>0</td>\n",
       "      <td>65^72^42^65^104</td>\n",
       "      <td>0</td>\n",
       "      <td>219^50^151^21^140</td>\n",
       "      <td>219^50^151^114^21</td>\n",
       "      <td>...</td>\n",
       "      <td>19</td>\n",
       "      <td>998</td>\n",
       "      <td>3</td>\n",
       "      <td>2449</td>\n",
       "      <td>14</td>\n",
       "      <td>0</td>\n",
       "      <td>202206100922</td>\n",
       "      <td>-1</td>\n",
       "      <td>-1</td>\n",
       "      <td>0</td>\n",
       "    </tr>\n",
       "  </tbody>\n",
       "</table>\n",
       "<p>5 rows × 28 columns</p>\n",
       "</div>"
      ],
      "text/plain": [
       "   u_userId  u_phonePrice  u_browserLifeCycle  u_browserMode  u_feedLifeCycle  \\\n",
       "0    215116            16                  17             14               11   \n",
       "1    215116            16                  17             14               11   \n",
       "2    215116            16                  17             14               11   \n",
       "3    215116            16                  17             14               11   \n",
       "4    215116            16                  17             14               11   \n",
       "\n",
       "   u_refreshTimes u_newsCatInterests u_newsCatDislike u_newsCatInterestsST  \\\n",
       "0               0    65^72^42^65^104                0    219^50^151^21^140   \n",
       "1               0    65^72^42^65^104                0    219^50^151^21^140   \n",
       "2               0    65^72^42^65^104                0                    0   \n",
       "3               0    65^72^42^65^104                0    219^50^151^21^140   \n",
       "4               0    65^72^42^65^104                0    219^50^151^21^140   \n",
       "\n",
       "    u_click_ca2_news  ... e_ch  e_m  e_po  e_pl e_rn  e_section          e_et  \\\n",
       "0  219^50^151^114^21  ...   19  998     9  2449   13          0  202206100922   \n",
       "1  219^50^151^114^21  ...   19  998     7  2449   14          0  202206100924   \n",
       "2    65^104^98^168^0  ...   19  998    14  2449    1          0  202206100907   \n",
       "3  219^50^151^114^21  ...   19  998     5  2449   11          0  202206100921   \n",
       "4  219^50^151^114^21  ...   19  998     3  2449   14          0  202206100922   \n",
       "\n",
       "   label  cillabel  pro  \n",
       "0     -1        -1    0  \n",
       "1     -1        -1    0  \n",
       "2      1        -1   40  \n",
       "3     -1        -1    0  \n",
       "4     -1        -1    0  \n",
       "\n",
       "[5 rows x 28 columns]"
      ]
     },
     "execution_count": 50,
     "metadata": {},
     "output_type": "execute_result"
    }
   ],
   "source": [
    "df_test_feeds = pd.read_csv('CTR Prediction - 2022 DIGIX Global AI Challenge/test/test_data_feeds.csv')\n",
    "df_test_feeds.head()"
   ]
  },
  {
   "cell_type": "code",
   "execution_count": 51,
   "metadata": {},
   "outputs": [
    {
     "data": {
      "text/plain": [
       "(369341, 28)"
      ]
     },
     "execution_count": 51,
     "metadata": {},
     "output_type": "execute_result"
    }
   ],
   "source": [
    "df_test_feeds.shape"
   ]
  },
  {
   "cell_type": "markdown",
   "metadata": {},
   "source": [
    "# FIND OUT THE TARGET"
   ]
  },
  {
   "cell_type": "code",
   "execution_count": 52,
   "metadata": {},
   "outputs": [
    {
     "data": {
      "text/plain": [
       "Index(['log_id', 'user_id', 'age', 'gender', 'residence', 'city', 'city_rank',\n",
       "       'series_dev', 'series_group', 'emui_dev', 'device_name', 'device_size',\n",
       "       'net_type', 'task_id', 'adv_id', 'creat_type_cd', 'adv_prim_id',\n",
       "       'inter_type_cd', 'slot_id', 'site_id', 'spread_app_id',\n",
       "       'hispace_app_tags', 'app_second_class', 'app_score',\n",
       "       'ad_click_list_v001', 'ad_click_list_v002', 'ad_click_list_v003',\n",
       "       'ad_close_list_v001', 'ad_close_list_v002', 'ad_close_list_v003',\n",
       "       'pt_d', 'u_newsCatInterestsST', 'u_refreshTimes', 'u_feedLifeCycle'],\n",
       "      dtype='object')"
      ]
     },
     "execution_count": 52,
     "metadata": {},
     "output_type": "execute_result"
    }
   ],
   "source": [
    "df_test_ads.columns"
   ]
  },
  {
   "cell_type": "code",
   "execution_count": 53,
   "metadata": {},
   "outputs": [
    {
     "data": {
      "text/plain": [
       "Index(['log_id', 'label', 'user_id', 'age', 'gender', 'residence', 'city',\n",
       "       'city_rank', 'series_dev', 'series_group', 'emui_dev', 'device_name',\n",
       "       'device_size', 'net_type', 'task_id', 'adv_id', 'creat_type_cd',\n",
       "       'adv_prim_id', 'inter_type_cd', 'slot_id', 'site_id', 'spread_app_id',\n",
       "       'hispace_app_tags', 'app_second_class', 'app_score',\n",
       "       'ad_click_list_v001', 'ad_click_list_v002', 'ad_click_list_v003',\n",
       "       'ad_close_list_v001', 'ad_close_list_v002', 'ad_close_list_v003',\n",
       "       'pt_d', 'u_newsCatInterestsST', 'u_refreshTimes', 'u_feedLifeCycle'],\n",
       "      dtype='object')"
      ]
     },
     "execution_count": 53,
     "metadata": {},
     "output_type": "execute_result"
    }
   ],
   "source": [
    "df_train_ads.columns"
   ]
  },
  {
   "cell_type": "code",
   "execution_count": 54,
   "metadata": {},
   "outputs": [
    {
     "data": {
      "text/plain": [
       "0    0.984478\n",
       "1    0.015522\n",
       "Name: label, dtype: float64"
      ]
     },
     "execution_count": 54,
     "metadata": {},
     "output_type": "execute_result"
    }
   ],
   "source": [
    "df_train_ads.label.value_counts(normalize=True)"
   ]
  },
  {
   "cell_type": "code",
   "execution_count": null,
   "metadata": {},
   "outputs": [],
   "source": []
  },
  {
   "cell_type": "code",
   "execution_count": null,
   "metadata": {},
   "outputs": [],
   "source": []
  },
  {
   "cell_type": "code",
   "execution_count": null,
   "metadata": {},
   "outputs": [],
   "source": []
  },
  {
   "cell_type": "markdown",
   "metadata": {},
   "source": [
    "the label should be it"
   ]
  },
  {
   "cell_type": "markdown",
   "metadata": {},
   "source": [
    "# CLEANING TIME!"
   ]
  },
  {
   "cell_type": "markdown",
   "metadata": {},
   "source": [
    "there are no nan and duplicated in this dataset"
   ]
  },
  {
   "cell_type": "code",
   "execution_count": 3,
   "metadata": {},
   "outputs": [],
   "source": [
    "df = df_train_ads.copy()"
   ]
  },
  {
   "cell_type": "code",
   "execution_count": 4,
   "metadata": {},
   "outputs": [
    {
     "data": {
      "text/plain": [
       "Index(['log_id', 'label', 'user_id', 'age', 'gender', 'residence', 'city',\n",
       "       'city_rank', 'series_dev', 'series_group', 'emui_dev', 'device_name',\n",
       "       'device_size', 'net_type', 'task_id', 'adv_id', 'creat_type_cd',\n",
       "       'adv_prim_id', 'inter_type_cd', 'slot_id', 'site_id', 'spread_app_id',\n",
       "       'hispace_app_tags', 'app_second_class', 'app_score',\n",
       "       'ad_click_list_v001', 'ad_click_list_v002', 'ad_click_list_v003',\n",
       "       'ad_close_list_v001', 'ad_close_list_v002', 'ad_close_list_v003',\n",
       "       'pt_d', 'u_newsCatInterestsST', 'u_refreshTimes', 'u_feedLifeCycle'],\n",
       "      dtype='object')"
      ]
     },
     "execution_count": 4,
     "metadata": {},
     "output_type": "execute_result"
    }
   ],
   "source": [
    "df.columns"
   ]
  },
  {
   "cell_type": "code",
   "execution_count": 116,
   "metadata": {},
   "outputs": [
    {
     "name": "stdout",
     "output_type": "stream",
     "text": [
      "<class 'pandas.core.frame.DataFrame'>\n",
      "RangeIndex: 7675517 entries, 0 to 7675516\n",
      "Data columns (total 35 columns):\n",
      " #   Column                Dtype  \n",
      "---  ------                -----  \n",
      " 0   log_id                int64  \n",
      " 1   label                 int64  \n",
      " 2   user_id               int64  \n",
      " 3   age                   int64  \n",
      " 4   gender                int64  \n",
      " 5   residence             int64  \n",
      " 6   city                  int64  \n",
      " 7   city_rank             int64  \n",
      " 8   series_dev            int64  \n",
      " 9   series_group          int64  \n",
      " 10  emui_dev              int64  \n",
      " 11  device_name           int64  \n",
      " 12  device_size           int64  \n",
      " 13  net_type              int64  \n",
      " 14  task_id               int64  \n",
      " 15  adv_id                int64  \n",
      " 16  creat_type_cd         int64  \n",
      " 17  adv_prim_id           int64  \n",
      " 18  inter_type_cd         int64  \n",
      " 19  slot_id               int64  \n",
      " 20  site_id               int64  \n",
      " 21  spread_app_id         int64  \n",
      " 22  hispace_app_tags      int64  \n",
      " 23  app_second_class      int64  \n",
      " 24  app_score             float64\n",
      " 25  ad_click_list_v001    object \n",
      " 26  ad_click_list_v002    object \n",
      " 27  ad_click_list_v003    object \n",
      " 28  ad_close_list_v001    object \n",
      " 29  ad_close_list_v002    object \n",
      " 30  ad_close_list_v003    object \n",
      " 31  pt_d                  int64  \n",
      " 32  u_newsCatInterestsST  object \n",
      " 33  u_refreshTimes        int64  \n",
      " 34  u_feedLifeCycle       int64  \n",
      "dtypes: float64(1), int64(27), object(7)\n",
      "memory usage: 2.0+ GB\n"
     ]
    }
   ],
   "source": [
    "df.info()"
   ]
  },
  {
   "cell_type": "markdown",
   "metadata": {},
   "source": [
    "# pt_d\n",
    "time"
   ]
  },
  {
   "cell_type": "code",
   "execution_count": 5,
   "metadata": {},
   "outputs": [
    {
     "data": {
      "text/plain": [
       "0    202206030326\n",
       "1    202206030326\n",
       "2    202206030326\n",
       "3    202206030326\n",
       "4    202206030328\n",
       "Name: pt_d, dtype: int64"
      ]
     },
     "execution_count": 5,
     "metadata": {},
     "output_type": "execute_result"
    }
   ],
   "source": [
    "df.pt_d.head()"
   ]
  },
  {
   "cell_type": "code",
   "execution_count": 6,
   "metadata": {},
   "outputs": [],
   "source": [
    "df.pt_d = pd.to_datetime(df.pt_d, format='%Y%m%d%H%M')"
   ]
  },
  {
   "cell_type": "code",
   "execution_count": null,
   "metadata": {},
   "outputs": [],
   "source": []
  },
  {
   "cell_type": "code",
   "execution_count": 7,
   "metadata": {},
   "outputs": [
    {
     "name": "stdout",
     "output_type": "stream",
     "text": [
      "log_id 1176633\n",
      "label 2\n",
      "user_id 65297\n",
      "age 8\n",
      "gender 3\n",
      "residence 35\n",
      "city 341\n",
      "city_rank 4\n",
      "series_dev 27\n",
      "series_group 7\n",
      "emui_dev 27\n",
      "device_name 256\n",
      "device_size 1547\n",
      "net_type 6\n",
      "task_id 11209\n",
      "adv_id 12615\n",
      "creat_type_cd 9\n",
      "adv_prim_id 545\n",
      "inter_type_cd 4\n",
      "slot_id 60\n",
      "site_id 1\n",
      "spread_app_id 116\n",
      "hispace_app_tags 43\n",
      "app_second_class 20\n",
      "app_score 3\n",
      "ad_click_list_v001 108720\n",
      "ad_click_list_v002 95376\n",
      "ad_click_list_v003 61102\n",
      "ad_close_list_v001 3883\n",
      "ad_close_list_v002 2701\n",
      "ad_close_list_v003 1715\n",
      "pt_d 5436\n",
      "u_newsCatInterestsST 187576\n",
      "u_refreshTimes 10\n",
      "u_feedLifeCycle 8\n"
     ]
    }
   ],
   "source": [
    "# check for number of uniques for each col\n",
    "col = df.columns\n",
    "for c in col:\n",
    "    print(c, len(df[c].unique()))"
   ]
  },
  {
   "cell_type": "markdown",
   "metadata": {},
   "source": [
    "### ad_click_list & ad_close_list & u_newsCatInterests"
   ]
  },
  {
   "cell_type": "markdown",
   "metadata": {},
   "source": [
    "they all have the format of:\n",
    "\n",
    "1111^2222^3333"
   ]
  },
  {
   "cell_type": "markdown",
   "metadata": {},
   "source": [
    "ad_click_list_001: 用户点击广告任务 id 列表 -> the id list of ad tasks that the user clicks\n",
    "\n",
    "ad_close_list: 用户点击广告对应广告主 id 列表\n"
   ]
  },
  {
   "cell_type": "code",
   "execution_count": 8,
   "metadata": {},
   "outputs": [
    {
     "data": {
      "text/plain": [
       "3269059    30658\n",
       "Name: ad_click_list_v001, dtype: object"
      ]
     },
     "execution_count": 8,
     "metadata": {},
     "output_type": "execute_result"
    }
   ],
   "source": [
    "df.ad_click_list_v001.sample()"
   ]
  },
  {
   "cell_type": "code",
   "execution_count": 10,
   "metadata": {},
   "outputs": [],
   "source": [
    "col_sel = ['ad_click_list_v001', 'ad_click_list_v002', 'ad_click_list_v003',\n",
    "       'ad_close_list_v001', 'ad_close_list_v002', 'ad_close_list_v003', \n",
    "       'u_newsCatInterestsST']"
   ]
  },
  {
   "cell_type": "code",
   "execution_count": 11,
   "metadata": {},
   "outputs": [],
   "source": [
    "for col in col_sel:\n",
    "    df[col] = df[col].map(lambda x: x.split('^'))"
   ]
  },
  {
   "cell_type": "code",
   "execution_count": 12,
   "metadata": {},
   "outputs": [
    {
     "data": {
      "text/plain": [
       "4530943    [246, 312, 304, 131, 321]\n",
       "Name: ad_click_list_v003, dtype: object"
      ]
     },
     "execution_count": 12,
     "metadata": {},
     "output_type": "execute_result"
    }
   ],
   "source": [
    "df.ad_click_list_v003.sample()"
   ]
  },
  {
   "cell_type": "markdown",
   "metadata": {},
   "source": [
    "# save to CSV, and call it a day!"
   ]
  },
  {
   "cell_type": "markdown",
   "metadata": {},
   "source": [
    "### baseline dataframe select"
   ]
  },
  {
   "cell_type": "code",
   "execution_count": 143,
   "metadata": {},
   "outputs": [],
   "source": [
    "col_sel = ['log_id','user_id','site_id','ad_click_list_v001', 'ad_click_list_v002', 'ad_click_list_v003',\n",
    "       'ad_close_list_v001', 'ad_close_list_v002', 'ad_close_list_v003','pt_d', 'u_newsCatInterestsST']\n",
    "df_export = df.drop(columns=col_sel)"
   ]
  },
  {
   "cell_type": "code",
   "execution_count": 144,
   "metadata": {},
   "outputs": [
    {
     "data": {
      "text/plain": [
       "Index(['label', 'age', 'gender', 'residence', 'city', 'city_rank',\n",
       "       'series_dev', 'series_group', 'emui_dev', 'device_name', 'device_size',\n",
       "       'net_type', 'task_id', 'adv_id', 'creat_type_cd', 'adv_prim_id',\n",
       "       'inter_type_cd', 'slot_id', 'spread_app_id', 'hispace_app_tags',\n",
       "       'app_second_class', 'app_score', 'u_refreshTimes', 'u_feedLifeCycle'],\n",
       "      dtype='object')"
      ]
     },
     "execution_count": 144,
     "metadata": {},
     "output_type": "execute_result"
    }
   ],
   "source": [
    "df_export.columns"
   ]
  },
  {
   "cell_type": "code",
   "execution_count": 146,
   "metadata": {},
   "outputs": [],
   "source": [
    "df_export.to_csv(r'C:\\Users\\qwswe\\Documents\\Flatiron\\DS_P3\\Output_Data\\Model_1_baseline_data.csv', index = False)"
   ]
  },
  {
   "cell_type": "markdown",
   "metadata": {},
   "source": [
    "### dataframe for eda"
   ]
  },
  {
   "cell_type": "code",
   "execution_count": 13,
   "metadata": {},
   "outputs": [
    {
     "data": {
      "text/plain": [
       "Index(['log_id', 'label', 'user_id', 'age', 'gender', 'residence', 'city',\n",
       "       'city_rank', 'series_dev', 'series_group', 'emui_dev', 'device_name',\n",
       "       'device_size', 'net_type', 'task_id', 'adv_id', 'creat_type_cd',\n",
       "       'adv_prim_id', 'inter_type_cd', 'slot_id', 'site_id', 'spread_app_id',\n",
       "       'hispace_app_tags', 'app_second_class', 'app_score',\n",
       "       'ad_click_list_v001', 'ad_click_list_v002', 'ad_click_list_v003',\n",
       "       'ad_close_list_v001', 'ad_close_list_v002', 'ad_close_list_v003',\n",
       "       'pt_d', 'u_newsCatInterestsST', 'u_refreshTimes', 'u_feedLifeCycle'],\n",
       "      dtype='object')"
      ]
     },
     "execution_count": 13,
     "metadata": {},
     "output_type": "execute_result"
    }
   ],
   "source": [
    "df.columns"
   ]
  },
  {
   "cell_type": "code",
   "execution_count": 15,
   "metadata": {},
   "outputs": [
    {
     "name": "stdout",
     "output_type": "stream",
     "text": [
      "<class 'pandas.core.frame.DataFrame'>\n",
      "RangeIndex: 7675517 entries, 0 to 7675516\n",
      "Data columns (total 35 columns):\n",
      " #   Column                Dtype         \n",
      "---  ------                -----         \n",
      " 0   log_id                int64         \n",
      " 1   label                 int64         \n",
      " 2   user_id               int64         \n",
      " 3   age                   int64         \n",
      " 4   gender                int64         \n",
      " 5   residence             int64         \n",
      " 6   city                  int64         \n",
      " 7   city_rank             int64         \n",
      " 8   series_dev            int64         \n",
      " 9   series_group          int64         \n",
      " 10  emui_dev              int64         \n",
      " 11  device_name           int64         \n",
      " 12  device_size           int64         \n",
      " 13  net_type              int64         \n",
      " 14  task_id               int64         \n",
      " 15  adv_id                int64         \n",
      " 16  creat_type_cd         int64         \n",
      " 17  adv_prim_id           int64         \n",
      " 18  inter_type_cd         int64         \n",
      " 19  slot_id               int64         \n",
      " 20  site_id               int64         \n",
      " 21  spread_app_id         int64         \n",
      " 22  hispace_app_tags      int64         \n",
      " 23  app_second_class      int64         \n",
      " 24  app_score             float64       \n",
      " 25  ad_click_list_v001    object        \n",
      " 26  ad_click_list_v002    object        \n",
      " 27  ad_click_list_v003    object        \n",
      " 28  ad_close_list_v001    object        \n",
      " 29  ad_close_list_v002    object        \n",
      " 30  ad_close_list_v003    object        \n",
      " 31  pt_d                  datetime64[ns]\n",
      " 32  u_newsCatInterestsST  object        \n",
      " 33  u_refreshTimes        int64         \n",
      " 34  u_feedLifeCycle       int64         \n",
      "dtypes: datetime64[ns](1), float64(1), int64(26), object(7)\n",
      "memory usage: 2.0+ GB\n"
     ]
    }
   ],
   "source": [
    "df.info()"
   ]
  },
  {
   "cell_type": "code",
   "execution_count": 17,
   "metadata": {},
   "outputs": [],
   "source": [
    "df.to_csv(r'D:\\VIVY_LEARNING\\Flatiron\\DS_P3_CTR_Prediction\\Output_Data\\EDA_data.csv', index = False)"
   ]
  },
  {
   "cell_type": "code",
   "execution_count": null,
   "metadata": {},
   "outputs": [],
   "source": []
  }
 ],
 "metadata": {
  "kernelspec": {
   "display_name": "Python 3.9.12 ('base')",
   "language": "python",
   "name": "python3"
  },
  "language_info": {
   "codemirror_mode": {
    "name": "ipython",
    "version": 3
   },
   "file_extension": ".py",
   "mimetype": "text/x-python",
   "name": "python",
   "nbconvert_exporter": "python",
   "pygments_lexer": "ipython3",
   "version": "3.9.12"
  },
  "orig_nbformat": 4,
  "vscode": {
   "interpreter": {
    "hash": "c738c5dbbe27c39534afaf60a228761ec99c842d673ea0c5f841b81d59c4efd4"
   }
  }
 },
 "nbformat": 4,
 "nbformat_minor": 2
}
