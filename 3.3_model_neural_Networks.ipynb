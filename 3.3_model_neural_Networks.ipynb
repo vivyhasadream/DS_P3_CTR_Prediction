{
 "cells": [
  {
   "cell_type": "code",
   "execution_count": 1,
   "metadata": {},
   "outputs": [],
   "source": [
    "from sklearn.model_selection import train_test_split, cross_val_score\n",
    "from sklearn.preprocessing import OneHotEncoder\n",
    "from sklearn.metrics import accuracy_score, confusion_matrix, ConfusionMatrixDisplay, classification_report, plot_confusion_matrix\n",
    "import numpy as np\n",
    "import pandas as pd\n",
    "import matplotlib.pyplot as plt\n",
    "import seaborn as sns\n",
    "\n",
    "from tensorflow.keras.models import Sequential\n",
    "from tensorflow.keras.layers import Dense, Dropout\n",
    "from tensorflow.keras.callbacks import EarlyStopping\n",
    "from tensorflow.keras.utils import to_categorical\n",
    "from tensorflow.keras.layers import Flatten # takes 2D input and turns into 1D array\n"
   ]
  },
  {
   "cell_type": "code",
   "execution_count": 2,
   "metadata": {},
   "outputs": [
    {
     "data": {
      "text/html": [
       "<div>\n",
       "<style scoped>\n",
       "    .dataframe tbody tr th:only-of-type {\n",
       "        vertical-align: middle;\n",
       "    }\n",
       "\n",
       "    .dataframe tbody tr th {\n",
       "        vertical-align: top;\n",
       "    }\n",
       "\n",
       "    .dataframe thead th {\n",
       "        text-align: right;\n",
       "    }\n",
       "</style>\n",
       "<table border=\"1\" class=\"dataframe\">\n",
       "  <thead>\n",
       "    <tr style=\"text-align: right;\">\n",
       "      <th></th>\n",
       "      <th>log_id</th>\n",
       "      <th>label</th>\n",
       "      <th>user_id</th>\n",
       "      <th>age</th>\n",
       "      <th>gender</th>\n",
       "      <th>residence</th>\n",
       "      <th>city</th>\n",
       "      <th>city_rank</th>\n",
       "      <th>series_dev</th>\n",
       "      <th>series_group</th>\n",
       "      <th>...</th>\n",
       "      <th>i_dtype</th>\n",
       "      <th>e_ch</th>\n",
       "      <th>e_m</th>\n",
       "      <th>e_po</th>\n",
       "      <th>e_pl</th>\n",
       "      <th>e_rn</th>\n",
       "      <th>e_section</th>\n",
       "      <th>label_y</th>\n",
       "      <th>cillabel</th>\n",
       "      <th>pro</th>\n",
       "    </tr>\n",
       "  </thead>\n",
       "  <tbody>\n",
       "    <tr>\n",
       "      <th>0</th>\n",
       "      <td>758591</td>\n",
       "      <td>0</td>\n",
       "      <td>152172</td>\n",
       "      <td>3</td>\n",
       "      <td>2</td>\n",
       "      <td>46</td>\n",
       "      <td>138</td>\n",
       "      <td>2</td>\n",
       "      <td>24</td>\n",
       "      <td>2</td>\n",
       "      <td>...</td>\n",
       "      <td>11</td>\n",
       "      <td>19</td>\n",
       "      <td>1217</td>\n",
       "      <td>4</td>\n",
       "      <td>1116</td>\n",
       "      <td>2</td>\n",
       "      <td>0</td>\n",
       "      <td>-1</td>\n",
       "      <td>-1</td>\n",
       "      <td>0</td>\n",
       "    </tr>\n",
       "    <tr>\n",
       "      <th>1</th>\n",
       "      <td>758591</td>\n",
       "      <td>0</td>\n",
       "      <td>152172</td>\n",
       "      <td>3</td>\n",
       "      <td>2</td>\n",
       "      <td>46</td>\n",
       "      <td>138</td>\n",
       "      <td>2</td>\n",
       "      <td>24</td>\n",
       "      <td>2</td>\n",
       "      <td>...</td>\n",
       "      <td>11</td>\n",
       "      <td>19</td>\n",
       "      <td>1217</td>\n",
       "      <td>6</td>\n",
       "      <td>1431</td>\n",
       "      <td>1</td>\n",
       "      <td>1</td>\n",
       "      <td>-1</td>\n",
       "      <td>-1</td>\n",
       "      <td>0</td>\n",
       "    </tr>\n",
       "    <tr>\n",
       "      <th>2</th>\n",
       "      <td>758562</td>\n",
       "      <td>0</td>\n",
       "      <td>152172</td>\n",
       "      <td>3</td>\n",
       "      <td>2</td>\n",
       "      <td>46</td>\n",
       "      <td>138</td>\n",
       "      <td>2</td>\n",
       "      <td>24</td>\n",
       "      <td>2</td>\n",
       "      <td>...</td>\n",
       "      <td>11</td>\n",
       "      <td>19</td>\n",
       "      <td>1217</td>\n",
       "      <td>4</td>\n",
       "      <td>1116</td>\n",
       "      <td>2</td>\n",
       "      <td>0</td>\n",
       "      <td>-1</td>\n",
       "      <td>-1</td>\n",
       "      <td>0</td>\n",
       "    </tr>\n",
       "    <tr>\n",
       "      <th>3</th>\n",
       "      <td>758562</td>\n",
       "      <td>0</td>\n",
       "      <td>152172</td>\n",
       "      <td>3</td>\n",
       "      <td>2</td>\n",
       "      <td>46</td>\n",
       "      <td>138</td>\n",
       "      <td>2</td>\n",
       "      <td>24</td>\n",
       "      <td>2</td>\n",
       "      <td>...</td>\n",
       "      <td>11</td>\n",
       "      <td>19</td>\n",
       "      <td>1217</td>\n",
       "      <td>6</td>\n",
       "      <td>1431</td>\n",
       "      <td>1</td>\n",
       "      <td>1</td>\n",
       "      <td>-1</td>\n",
       "      <td>-1</td>\n",
       "      <td>0</td>\n",
       "    </tr>\n",
       "    <tr>\n",
       "      <th>4</th>\n",
       "      <td>766198</td>\n",
       "      <td>0</td>\n",
       "      <td>152172</td>\n",
       "      <td>3</td>\n",
       "      <td>2</td>\n",
       "      <td>46</td>\n",
       "      <td>138</td>\n",
       "      <td>2</td>\n",
       "      <td>24</td>\n",
       "      <td>2</td>\n",
       "      <td>...</td>\n",
       "      <td>11</td>\n",
       "      <td>19</td>\n",
       "      <td>1217</td>\n",
       "      <td>4</td>\n",
       "      <td>1116</td>\n",
       "      <td>2</td>\n",
       "      <td>0</td>\n",
       "      <td>-1</td>\n",
       "      <td>-1</td>\n",
       "      <td>0</td>\n",
       "    </tr>\n",
       "  </tbody>\n",
       "</table>\n",
       "<p>5 rows × 45 columns</p>\n",
       "</div>"
      ],
      "text/plain": [
       "   log_id  label  user_id  age  gender  residence  city  city_rank  \\\n",
       "0  758591      0   152172    3       2         46   138          2   \n",
       "1  758591      0   152172    3       2         46   138          2   \n",
       "2  758562      0   152172    3       2         46   138          2   \n",
       "3  758562      0   152172    3       2         46   138          2   \n",
       "4  766198      0   152172    3       2         46   138          2   \n",
       "\n",
       "   series_dev  series_group  ...  i_dtype  e_ch   e_m  e_po  e_pl  e_rn  \\\n",
       "0          24             2  ...       11    19  1217     4  1116     2   \n",
       "1          24             2  ...       11    19  1217     6  1431     1   \n",
       "2          24             2  ...       11    19  1217     4  1116     2   \n",
       "3          24             2  ...       11    19  1217     6  1431     1   \n",
       "4          24             2  ...       11    19  1217     4  1116     2   \n",
       "\n",
       "   e_section  label_y  cillabel  pro  \n",
       "0          0       -1        -1    0  \n",
       "1          1       -1        -1    0  \n",
       "2          0       -1        -1    0  \n",
       "3          1       -1        -1    0  \n",
       "4          0       -1        -1    0  \n",
       "\n",
       "[5 rows x 45 columns]"
      ]
     },
     "execution_count": 2,
     "metadata": {},
     "output_type": "execute_result"
    }
   ],
   "source": [
    "df = pd.read_csv('Output_Data\\subset_300k_baseline.csv')\n",
    "df.head()"
   ]
  },
  {
   "cell_type": "code",
   "execution_count": 3,
   "metadata": {},
   "outputs": [
    {
     "name": "stdout",
     "output_type": "stream",
     "text": [
      "<class 'pandas.core.frame.DataFrame'>\n",
      "RangeIndex: 294393 entries, 0 to 294392\n",
      "Data columns (total 45 columns):\n",
      " #   Column              Non-Null Count   Dtype  \n",
      "---  ------              --------------   -----  \n",
      " 0   log_id              294393 non-null  int64  \n",
      " 1   label               294393 non-null  int64  \n",
      " 2   user_id             294393 non-null  int64  \n",
      " 3   age                 294393 non-null  int64  \n",
      " 4   gender              294393 non-null  int64  \n",
      " 5   residence           294393 non-null  int64  \n",
      " 6   city                294393 non-null  int64  \n",
      " 7   city_rank           294393 non-null  int64  \n",
      " 8   series_dev          294393 non-null  int64  \n",
      " 9   series_group        294393 non-null  int64  \n",
      " 10  emui_dev            294393 non-null  int64  \n",
      " 11  device_name         294393 non-null  int64  \n",
      " 12  device_size         294393 non-null  int64  \n",
      " 13  net_type            294393 non-null  int64  \n",
      " 14  task_id             294393 non-null  int64  \n",
      " 15  adv_id              294393 non-null  int64  \n",
      " 16  creat_type_cd       294393 non-null  int64  \n",
      " 17  adv_prim_id         294393 non-null  int64  \n",
      " 18  inter_type_cd       294393 non-null  int64  \n",
      " 19  slot_id             294393 non-null  int64  \n",
      " 20  spread_app_id       294393 non-null  int64  \n",
      " 21  hispace_app_tags    294393 non-null  int64  \n",
      " 22  app_second_class    294393 non-null  int64  \n",
      " 23  app_score           294393 non-null  float64\n",
      " 24  u_refreshTimes_x    294393 non-null  int64  \n",
      " 25  u_feedLifeCycle_x   294393 non-null  int64  \n",
      " 26  u_phonePrice        294393 non-null  int64  \n",
      " 27  u_browserLifeCycle  294393 non-null  int64  \n",
      " 28  u_browserMode       294393 non-null  int64  \n",
      " 29  u_feedLifeCycle_y   294393 non-null  int64  \n",
      " 30  u_refreshTimes_y    294393 non-null  int64  \n",
      " 31  i_regionEntity      294393 non-null  int64  \n",
      " 32  i_cat               294393 non-null  int64  \n",
      " 33  i_dislikeTimes      294393 non-null  int64  \n",
      " 34  i_upTimes           294393 non-null  int64  \n",
      " 35  i_dtype             294393 non-null  int64  \n",
      " 36  e_ch                294393 non-null  int64  \n",
      " 37  e_m                 294393 non-null  int64  \n",
      " 38  e_po                294393 non-null  int64  \n",
      " 39  e_pl                294393 non-null  int64  \n",
      " 40  e_rn                294393 non-null  int64  \n",
      " 41  e_section           294393 non-null  int64  \n",
      " 42  label_y             294393 non-null  int64  \n",
      " 43  cillabel            294393 non-null  int64  \n",
      " 44  pro                 294393 non-null  int64  \n",
      "dtypes: float64(1), int64(44)\n",
      "memory usage: 101.1 MB\n"
     ]
    }
   ],
   "source": [
    "df.info()"
   ]
  },
  {
   "cell_type": "code",
   "execution_count": 4,
   "metadata": {},
   "outputs": [
    {
     "data": {
      "text/plain": [
       "['log_id: 75888',\n",
       " 'label: 2',\n",
       " 'user_id: 21312',\n",
       " 'age: 8',\n",
       " 'gender: 3',\n",
       " 'residence: 35',\n",
       " 'city: 338',\n",
       " 'city_rank: 4',\n",
       " 'series_dev: 25',\n",
       " 'series_group: 7',\n",
       " 'emui_dev: 24',\n",
       " 'device_name: 226',\n",
       " 'device_size: 649',\n",
       " 'net_type: 6',\n",
       " 'task_id: 5327',\n",
       " 'adv_id: 5879',\n",
       " 'creat_type_cd: 9',\n",
       " 'adv_prim_id: 503',\n",
       " 'inter_type_cd: 4',\n",
       " 'slot_id: 57',\n",
       " 'spread_app_id: 107',\n",
       " 'hispace_app_tags: 41',\n",
       " 'app_second_class: 20',\n",
       " 'app_score: 3',\n",
       " 'u_refreshTimes_x: 10',\n",
       " 'u_feedLifeCycle_x: 8',\n",
       " 'u_phonePrice: 7',\n",
       " 'u_browserLifeCycle: 8',\n",
       " 'u_browserMode: 8',\n",
       " 'u_feedLifeCycle_y: 8',\n",
       " 'u_refreshTimes_y: 10',\n",
       " 'i_regionEntity: 314',\n",
       " 'i_cat: 202',\n",
       " 'i_dislikeTimes: 10',\n",
       " 'i_upTimes: 10',\n",
       " 'i_dtype: 5',\n",
       " 'e_ch: 19',\n",
       " 'e_m: 226',\n",
       " 'e_po: 23',\n",
       " 'e_pl: 2640',\n",
       " 'e_rn: 86',\n",
       " 'e_section: 2',\n",
       " 'label_y: 2',\n",
       " 'cillabel: 2',\n",
       " 'pro: 8']"
      ]
     },
     "execution_count": 4,
     "metadata": {},
     "output_type": "execute_result"
    }
   ],
   "source": [
    "[f'{col}: {len(df[col].unique())}' for col in df.columns]"
   ]
  },
  {
   "cell_type": "code",
   "execution_count": 5,
   "metadata": {},
   "outputs": [
    {
     "data": {
      "text/plain": [
       "Index(['log_id', 'label', 'user_id', 'age', 'gender', 'residence', 'city',\n",
       "       'city_rank', 'series_dev', 'series_group', 'emui_dev', 'device_name',\n",
       "       'device_size', 'net_type', 'task_id', 'adv_id', 'creat_type_cd',\n",
       "       'adv_prim_id', 'inter_type_cd', 'slot_id', 'spread_app_id',\n",
       "       'hispace_app_tags', 'app_second_class', 'app_score', 'u_refreshTimes_x',\n",
       "       'u_feedLifeCycle_x', 'u_phonePrice', 'u_browserLifeCycle',\n",
       "       'u_browserMode', 'u_feedLifeCycle_y', 'u_refreshTimes_y',\n",
       "       'i_regionEntity', 'i_cat', 'i_dislikeTimes', 'i_upTimes', 'i_dtype',\n",
       "       'e_ch', 'e_m', 'e_po', 'e_pl', 'e_rn', 'e_section', 'label_y',\n",
       "       'cillabel', 'pro'],\n",
       "      dtype='object')"
      ]
     },
     "execution_count": 5,
     "metadata": {},
     "output_type": "execute_result"
    }
   ],
   "source": [
    "df.columns"
   ]
  },
  {
   "cell_type": "code",
   "execution_count": 6,
   "metadata": {},
   "outputs": [],
   "source": [
    "col_sel = ['age', 'gender', 'residence', \n",
    "       'city_rank', 'series_dev', 'series_group', 'emui_dev', 'device_name',\n",
    "       'device_size', 'net_type', 'creat_type_cd',\n",
    "       'adv_prim_id', 'inter_type_cd', 'slot_id', \n",
    "       'hispace_app_tags', 'app_second_class', 'app_score', 'u_refreshTimes_x',\n",
    "       'u_feedLifeCycle_x', 'u_phonePrice', 'u_browserLifeCycle',\n",
    "       'u_browserMode', 'u_feedLifeCycle_y', 'u_refreshTimes_y',\n",
    "       'i_regionEntity', 'i_cat', 'i_dislikeTimes', 'i_upTimes', 'i_dtype',\n",
    "       'e_ch', 'e_m', 'e_po', 'e_rn', 'e_section', 'label_y',\n",
    "       'cillabel', 'pro']\n",
    "\n",
    "df_nn = df[col_sel]"
   ]
  },
  {
   "cell_type": "code",
   "execution_count": 7,
   "metadata": {},
   "outputs": [
    {
     "data": {
      "text/plain": [
       "((206075, 2555), (88318, 2555), (206075,), (88318,))"
      ]
     },
     "execution_count": 7,
     "metadata": {},
     "output_type": "execute_result"
    }
   ],
   "source": [
    "X = df_nn\n",
    "y = df.label\n",
    "\n",
    "ohe = OneHotEncoder(sparse = False, drop = 'first')\n",
    "X = ohe.fit_transform(X)\n",
    "\n",
    "X_train, X_test, y_train, y_test = train_test_split(X, y, test_size=0.3, random_state=2333)\n",
    "X_train.shape, X_test.shape, y_train.shape, y_test.shape"
   ]
  },
  {
   "cell_type": "code",
   "execution_count": 8,
   "metadata": {},
   "outputs": [],
   "source": [
    "model_1 = Sequential()\n",
    "model_1.add(Dense(32, activation='relu', input_shape=(2555,)))\n",
    "model_1.add(Dense(16, activation='relu'))\n",
    "model_1.add(Dense(1, activation='sigmoid'))\n",
    "\n",
    "\n",
    "from tensorflow.keras.optimizers import Adam\n",
    "opt = Adam(learning_rate=0.003, beta_1=0.9, beta_2=0.999, epsilon=1e-07)\n",
    "\n",
    "model_1.compile(loss='binary_crossentropy', optimizer=opt, metrics=['accuracy'])"
   ]
  },
  {
   "cell_type": "code",
   "execution_count": 9,
   "metadata": {},
   "outputs": [
    {
     "name": "stderr",
     "output_type": "stream",
     "text": [
      "c:\\Users\\qwswe\\Anaconda3\\envs\\learn-env\\lib\\site-packages\\tensorflow\\python\\keras\\engine\\data_adapter.py:1402: FutureWarning: The behavior of `series[i:j]` with an integer-dtype index is deprecated. In a future version, this will be treated as *label-based* indexing, consistent with e.g. `series[i]` lookups. To retain the old behavior, use `series.iloc[i:j]`. To get the future behavior, use `series.loc[i:j]`.\n",
      "  return t[start:end]\n"
     ]
    },
    {
     "name": "stdout",
     "output_type": "stream",
     "text": [
      "Epoch 1/25\n",
      "644/644 [==============================] - 2s 3ms/step - loss: 0.0530 - accuracy: 0.9907 - val_loss: 0.0462 - val_accuracy: 0.9909\n",
      "Epoch 2/25\n",
      "644/644 [==============================] - 2s 2ms/step - loss: 0.0392 - accuracy: 0.9918 - val_loss: 0.0445 - val_accuracy: 0.9909\n",
      "Epoch 3/25\n",
      "644/644 [==============================] - 2s 2ms/step - loss: 0.0353 - accuracy: 0.9919 - val_loss: 0.0432 - val_accuracy: 0.9909\n",
      "Epoch 4/25\n",
      "644/644 [==============================] - 2s 2ms/step - loss: 0.0300 - accuracy: 0.9924 - val_loss: 0.0417 - val_accuracy: 0.9914\n",
      "Epoch 5/25\n",
      "644/644 [==============================] - 2s 2ms/step - loss: 0.0249 - accuracy: 0.9936 - val_loss: 0.0438 - val_accuracy: 0.9916\n",
      "Epoch 6/25\n",
      "644/644 [==============================] - 2s 2ms/step - loss: 0.0209 - accuracy: 0.9945 - val_loss: 0.0447 - val_accuracy: 0.9916\n",
      "Epoch 7/25\n",
      "644/644 [==============================] - 2s 2ms/step - loss: 0.0177 - accuracy: 0.9951 - val_loss: 0.0446 - val_accuracy: 0.9909\n",
      "Epoch 8/25\n",
      "644/644 [==============================] - 2s 2ms/step - loss: 0.0150 - accuracy: 0.9958 - val_loss: 0.0454 - val_accuracy: 0.9919\n",
      "Epoch 9/25\n",
      "644/644 [==============================] - 2s 2ms/step - loss: 0.0132 - accuracy: 0.9963 - val_loss: 0.0482 - val_accuracy: 0.9921\n",
      "Epoch 10/25\n",
      "644/644 [==============================] - 2s 3ms/step - loss: 0.0113 - accuracy: 0.9967 - val_loss: 0.0505 - val_accuracy: 0.9921\n",
      "Epoch 11/25\n",
      "644/644 [==============================] - 2s 3ms/step - loss: 0.0099 - accuracy: 0.9971 - val_loss: 0.0498 - val_accuracy: 0.9919\n",
      "Epoch 12/25\n",
      "644/644 [==============================] - 2s 3ms/step - loss: 0.0085 - accuracy: 0.9975 - val_loss: 0.0560 - val_accuracy: 0.9924\n",
      "Epoch 13/25\n",
      "644/644 [==============================] - 2s 3ms/step - loss: 0.0076 - accuracy: 0.9976 - val_loss: 0.0556 - val_accuracy: 0.9913\n",
      "Epoch 14/25\n",
      "644/644 [==============================] - 2s 3ms/step - loss: 0.0067 - accuracy: 0.9979 - val_loss: 0.0586 - val_accuracy: 0.9915\n",
      "Epoch 15/25\n",
      "644/644 [==============================] - 2s 3ms/step - loss: 0.0061 - accuracy: 0.9980 - val_loss: 0.0625 - val_accuracy: 0.9916\n",
      "Epoch 16/25\n",
      "644/644 [==============================] - 2s 2ms/step - loss: 0.0053 - accuracy: 0.9982 - val_loss: 0.0678 - val_accuracy: 0.9918\n",
      "Epoch 17/25\n",
      "644/644 [==============================] - 2s 2ms/step - loss: 0.0050 - accuracy: 0.9983 - val_loss: 0.0738 - val_accuracy: 0.9921\n",
      "Epoch 18/25\n",
      "644/644 [==============================] - 2s 2ms/step - loss: 0.0046 - accuracy: 0.9984 - val_loss: 0.0721 - val_accuracy: 0.9919\n",
      "Epoch 19/25\n",
      "644/644 [==============================] - 1s 2ms/step - loss: 0.0043 - accuracy: 0.9986 - val_loss: 0.0769 - val_accuracy: 0.9917\n",
      "Epoch 20/25\n",
      "644/644 [==============================] - 2s 3ms/step - loss: 0.0036 - accuracy: 0.9987 - val_loss: 0.0766 - val_accuracy: 0.9921\n",
      "Epoch 21/25\n",
      "644/644 [==============================] - 1s 2ms/step - loss: 0.0036 - accuracy: 0.9988 - val_loss: 0.0803 - val_accuracy: 0.9917\n",
      "Epoch 22/25\n",
      "644/644 [==============================] - 2s 2ms/step - loss: 0.0040 - accuracy: 0.9986 - val_loss: 0.0793 - val_accuracy: 0.9912\n",
      "Epoch 23/25\n",
      "644/644 [==============================] - 1s 2ms/step - loss: 0.0033 - accuracy: 0.9988 - val_loss: 0.0848 - val_accuracy: 0.9919\n",
      "Epoch 24/25\n",
      "644/644 [==============================] - 1s 2ms/step - loss: 0.0028 - accuracy: 0.9990 - val_loss: 0.0883 - val_accuracy: 0.9923\n",
      "Epoch 25/25\n",
      "644/644 [==============================] - 1s 2ms/step - loss: 0.0031 - accuracy: 0.9989 - val_loss: 0.0863 - val_accuracy: 0.9918\n"
     ]
    }
   ],
   "source": [
    "\n",
    "results_1 = model_1.fit(X_train, y_train, epochs=25, batch_size=256, validation_split=0.2)"
   ]
  },
  {
   "cell_type": "code",
   "execution_count": 10,
   "metadata": {},
   "outputs": [
    {
     "name": "stdout",
     "output_type": "stream",
     "text": [
      "2760/2760 [==============================] - 1s 454us/step - loss: 0.0762 - accuracy: 0.9926\n"
     ]
    },
    {
     "data": {
      "text/plain": [
       "[0.07618796825408936, 0.9926402568817139]"
      ]
     },
     "execution_count": 10,
     "metadata": {},
     "output_type": "execute_result"
    }
   ],
   "source": [
    "model_1.evaluate(X_test, y_test)"
   ]
  },
  {
   "cell_type": "code",
   "execution_count": 16,
   "metadata": {},
   "outputs": [
    {
     "data": {
      "text/plain": [
       "<AxesSubplot:>"
      ]
     },
     "execution_count": 16,
     "metadata": {},
     "output_type": "execute_result"
    },
    {
     "data": {
      "image/png": "[encoded data removed]",
      "text/plain": [
       "<Figure size 432x288 with 1 Axes>"
      ]
     },
     "metadata": {
      "needs_background": "light"
     },
     "output_type": "display_data"
    }
   ],
   "source": [
    "y_predicted = model_1.predict(X_test) > 0.5\n",
    "mat = confusion_matrix(y_test, y_predicted)\n",
    "\n",
    "sns.heatmap(mat, square=True, annot=True, fmt='d', cbar=False, cmap='Blues',\n",
    "            xticklabels=labels, yticklabels=labels)"
   ]
  },
  {
   "cell_type": "code",
   "execution_count": null,
   "metadata": {},
   "outputs": [],
   "source": []
  },
  {
   "cell_type": "code",
   "execution_count": 50,
   "metadata": {},
   "outputs": [],
   "source": [
    "def visualize_training_results(results):\n",
    "    history = results.history\n",
    "    plt.figure()\n",
    "    plt.plot(history['val_loss'])\n",
    "    plt.plot(history['loss'])\n",
    "    plt.legend(['val_loss', 'loss'])\n",
    "    plt.title('Loss')\n",
    "    plt.xlabel('Epochs')\n",
    "    plt.ylabel('Loss')\n",
    "    plt.show()\n",
    "    \n",
    "    plt.figure()\n",
    "    plt.plot(history['val_accuracy'])\n",
    "    plt.plot(history['accuracy'])\n",
    "    plt.legend(['val_accuracy', 'accuracy'])\n",
    "    plt.title('Accuracy')\n",
    "    plt.xlabel('Epochs')\n",
    "    plt.ylabel('Accuracy')\n",
    "    plt.show()"
   ]
  },
  {
   "cell_type": "code",
   "execution_count": 51,
   "metadata": {},
   "outputs": [
    {
     "data": {
      "image/png": "[encoded data removed]",
      "text/plain": [
       "<Figure size 432x288 with 1 Axes>"
      ]
     },
     "metadata": {
      "needs_background": "light"
     },
     "output_type": "display_data"
    },
    {
     "data": {
      "image/png": "[encoded data removed]",
      "text/plain": [
       "<Figure size 432x288 with 1 Axes>"
      ]
     },
     "metadata": {
      "needs_background": "light"
     },
     "output_type": "display_data"
    }
   ],
   "source": [
    "visualize_training_results(results_1)"
   ]
  },
  {
   "cell_type": "code",
   "execution_count": 63,
   "metadata": {},
   "outputs": [
    {
     "ename": "ValueError",
     "evalue": "plot_confusion_matrix only supports classifiers",
     "output_type": "error",
     "traceback": [
      "\u001b[1;31m---------------------------------------------------------------------------\u001b[0m",
      "\u001b[1;31mValueError\u001b[0m                                Traceback (most recent call last)",
      "\u001b[1;32m<ipython-input-63-cf26085ff7aa>\u001b[0m in \u001b[0;36m<module>\u001b[1;34m\u001b[0m\n\u001b[0;32m      1\u001b[0m \u001b[1;31m# print(classification_report(y_test, model_1.predict(X_test)))\u001b[0m\u001b[1;33m\u001b[0m\u001b[1;33m\u001b[0m\u001b[1;33m\u001b[0m\u001b[0m\n\u001b[1;32m----> 2\u001b[1;33m \u001b[0mplot_confusion_matrix\u001b[0m\u001b[1;33m(\u001b[0m\u001b[0mmodel_1\u001b[0m\u001b[1;33m,\u001b[0m \u001b[0mX_test\u001b[0m\u001b[1;33m,\u001b[0m \u001b[0my_test\u001b[0m\u001b[1;33m)\u001b[0m\u001b[1;33m\u001b[0m\u001b[1;33m\u001b[0m\u001b[0m\n\u001b[0m",
      "\u001b[1;32mc:\\Users\\qwswe\\Anaconda3\\envs\\learn-env\\lib\\site-packages\\sklearn\\utils\\validation.py\u001b[0m in \u001b[0;36minner_f\u001b[1;34m(*args, **kwargs)\u001b[0m\n\u001b[0;32m     70\u001b[0m                           FutureWarning)\n\u001b[0;32m     71\u001b[0m         \u001b[0mkwargs\u001b[0m\u001b[1;33m.\u001b[0m\u001b[0mupdate\u001b[0m\u001b[1;33m(\u001b[0m\u001b[1;33m{\u001b[0m\u001b[0mk\u001b[0m\u001b[1;33m:\u001b[0m \u001b[0marg\u001b[0m \u001b[1;32mfor\u001b[0m \u001b[0mk\u001b[0m\u001b[1;33m,\u001b[0m \u001b[0marg\u001b[0m \u001b[1;32min\u001b[0m \u001b[0mzip\u001b[0m\u001b[1;33m(\u001b[0m\u001b[0msig\u001b[0m\u001b[1;33m.\u001b[0m\u001b[0mparameters\u001b[0m\u001b[1;33m,\u001b[0m \u001b[0margs\u001b[0m\u001b[1;33m)\u001b[0m\u001b[1;33m}\u001b[0m\u001b[1;33m)\u001b[0m\u001b[1;33m\u001b[0m\u001b[1;33m\u001b[0m\u001b[0m\n\u001b[1;32m---> 72\u001b[1;33m         \u001b[1;32mreturn\u001b[0m \u001b[0mf\u001b[0m\u001b[1;33m(\u001b[0m\u001b[1;33m**\u001b[0m\u001b[0mkwargs\u001b[0m\u001b[1;33m)\u001b[0m\u001b[1;33m\u001b[0m\u001b[1;33m\u001b[0m\u001b[0m\n\u001b[0m\u001b[0;32m     73\u001b[0m     \u001b[1;32mreturn\u001b[0m \u001b[0minner_f\u001b[0m\u001b[1;33m\u001b[0m\u001b[1;33m\u001b[0m\u001b[0m\n\u001b[0;32m     74\u001b[0m \u001b[1;33m\u001b[0m\u001b[0m\n",
      "\u001b[1;32mc:\\Users\\qwswe\\Anaconda3\\envs\\learn-env\\lib\\site-packages\\sklearn\\metrics\\_plot\\confusion_matrix.py\u001b[0m in \u001b[0;36mplot_confusion_matrix\u001b[1;34m(estimator, X, y_true, labels, sample_weight, normalize, display_labels, include_values, xticks_rotation, values_format, cmap, ax)\u001b[0m\n\u001b[0;32m    215\u001b[0m \u001b[1;33m\u001b[0m\u001b[0m\n\u001b[0;32m    216\u001b[0m     \u001b[1;32mif\u001b[0m \u001b[1;32mnot\u001b[0m \u001b[0mis_classifier\u001b[0m\u001b[1;33m(\u001b[0m\u001b[0mestimator\u001b[0m\u001b[1;33m)\u001b[0m\u001b[1;33m:\u001b[0m\u001b[1;33m\u001b[0m\u001b[1;33m\u001b[0m\u001b[0m\n\u001b[1;32m--> 217\u001b[1;33m         \u001b[1;32mraise\u001b[0m \u001b[0mValueError\u001b[0m\u001b[1;33m(\u001b[0m\u001b[1;34m\"plot_confusion_matrix only supports classifiers\"\u001b[0m\u001b[1;33m)\u001b[0m\u001b[1;33m\u001b[0m\u001b[1;33m\u001b[0m\u001b[0m\n\u001b[0m\u001b[0;32m    218\u001b[0m \u001b[1;33m\u001b[0m\u001b[0m\n\u001b[0;32m    219\u001b[0m     \u001b[0my_pred\u001b[0m \u001b[1;33m=\u001b[0m \u001b[0mestimator\u001b[0m\u001b[1;33m.\u001b[0m\u001b[0mpredict\u001b[0m\u001b[1;33m(\u001b[0m\u001b[0mX\u001b[0m\u001b[1;33m)\u001b[0m\u001b[1;33m\u001b[0m\u001b[1;33m\u001b[0m\u001b[0m\n",
      "\u001b[1;31mValueError\u001b[0m: plot_confusion_matrix only supports classifiers"
     ]
    }
   ],
   "source": []
  },
  {
   "cell_type": "code",
   "execution_count": 58,
   "metadata": {},
   "outputs": [
    {
     "data": {
      "text/plain": [
       "array([[4.9804449e-03],\n",
       "       [2.7294876e-08],\n",
       "       [1.2291080e-05],\n",
       "       ...,\n",
       "       [1.2762444e-18],\n",
       "       [4.3288306e-08],\n",
       "       [1.2202542e-10]], dtype=float32)"
      ]
     },
     "execution_count": 58,
     "metadata": {},
     "output_type": "execute_result"
    }
   ],
   "source": [
    "model_1.predict(X_test)"
   ]
  },
  {
   "cell_type": "code",
   "execution_count": 59,
   "metadata": {},
   "outputs": [
    {
     "data": {
      "text/plain": [
       "160732    0\n",
       "276162    0\n",
       "258494    0\n",
       "235191    0\n",
       "60708     0\n",
       "         ..\n",
       "3299      0\n",
       "58172     0\n",
       "192861    0\n",
       "96579     0\n",
       "108403    0\n",
       "Name: label, Length: 88318, dtype: int64"
      ]
     },
     "execution_count": 59,
     "metadata": {},
     "output_type": "execute_result"
    }
   ],
   "source": [
    "y_test"
   ]
  },
  {
   "cell_type": "code",
   "execution_count": null,
   "metadata": {},
   "outputs": [],
   "source": []
  }
 ],
 "metadata": {
  "kernelspec": {
   "display_name": "Python (learn-env)",
   "language": "python",
   "name": "learn-env"
  },
  "language_info": {
   "codemirror_mode": {
    "name": "ipython",
    "version": 3
   },
   "file_extension": ".py",
   "mimetype": "text/x-python",
   "name": "python",
   "nbconvert_exporter": "python",
   "pygments_lexer": "ipython3",
   "version": "3.8.5"
  },
  "orig_nbformat": 4,
  "vscode": {
   "interpreter": {
    "hash": "2e3ee667f1a52aa4a25a6b443492d19f02f85a3b3b8723528867a29f37ef28dc"
   }
  }
 },
 "nbformat": 4,
 "nbformat_minor": 2
}
