{
 "cells": [
  {
   "cell_type": "code",
   "execution_count": 1,
   "metadata": {},
   "outputs": [],
   "source": [
    "import numpy as np \n",
    "import pandas as pd \n",
    "import seaborn as sns \n",
    "from scipy import stats\n",
    "import matplotlib.pyplot as plt\n",
    "import pickle\n",
    "import statsmodels.api as sm\n",
    "from sklearn.linear_model import LinearRegression\n",
    "from sklearn.preprocessing import OneHotEncoder\n",
    "from sklearn.metrics import mean_absolute_error\n",
    "from sklearn.preprocessing import StandardScaler\n",
    "from sklearn.metrics import mean_squared_error"
   ]
  },
  {
   "cell_type": "code",
   "execution_count": 2,
   "metadata": {},
   "outputs": [],
   "source": [
    "# to view all content in column\n",
    "\n",
    "pd.options.display.max_columns = None\n",
    "pd.options.display.max_rows = None"
   ]
  },
  {
   "cell_type": "markdown",
   "metadata": {},
   "source": [
    "# IMPORT"
   ]
  },
  {
   "cell_type": "code",
   "execution_count": 3,
   "metadata": {},
   "outputs": [],
   "source": [
    "df_ads = pd.read_csv('CTR Prediction - 2022 DIGIX Global AI Challenge/train/train_data_ads.csv')\n",
    "df_feeds = pd.read_csv('CTR Prediction - 2022 DIGIX Global AI Challenge/train/train_data_feeds.csv')"
   ]
  },
  {
   "cell_type": "code",
   "execution_count": 4,
   "metadata": {},
   "outputs": [
    {
     "data": {
      "text/plain": [
       "((7675517, 35), (3227732, 28))"
      ]
     },
     "execution_count": 4,
     "metadata": {},
     "output_type": "execute_result"
    }
   ],
   "source": [
    "df_ads.shape, df_feeds.shape"
   ]
  },
  {
   "cell_type": "code",
   "execution_count": 62,
   "metadata": {},
   "outputs": [
    {
     "data": {
      "text/plain": [
       "{'label', 'u_feedLifeCycle', 'u_newsCatInterestsST', 'u_refreshTimes'}"
      ]
     },
     "execution_count": 62,
     "metadata": {},
     "output_type": "execute_result"
    }
   ],
   "source": [
    "# check for same columns\n",
    "\n",
    "a = set(df_ads.columns)\n",
    "b = set(df_feeds.columns)\n",
    "\n",
    "a & b\n",
    "\n",
    "# note that label and u_newsCatInterestsST are not same in the two datasets"
   ]
  },
  {
   "cell_type": "code",
   "execution_count": 5,
   "metadata": {},
   "outputs": [],
   "source": [
    "df_ads.drop(columns='site_id', inplace=True) # site_id has only 1 unique, no need to keep"
   ]
  },
  {
   "cell_type": "code",
   "execution_count": 56,
   "metadata": {},
   "outputs": [],
   "source": [
    "# df_feeds.drop(columns=['u_feedLifeCycle', 'u_refreshTimes'], inplace=True)"
   ]
  },
  {
   "cell_type": "code",
   "execution_count": 64,
   "metadata": {},
   "outputs": [
    {
     "data": {
      "text/plain": [
       "['log_id: 1176633',\n",
       " 'label: 2',\n",
       " 'user_id: 65297',\n",
       " 'age: 8',\n",
       " 'gender: 3',\n",
       " 'residence: 35',\n",
       " 'city: 341',\n",
       " 'city_rank: 4',\n",
       " 'series_dev: 27',\n",
       " 'series_group: 7',\n",
       " 'emui_dev: 27',\n",
       " 'device_name: 256',\n",
       " 'device_size: 1547',\n",
       " 'net_type: 6',\n",
       " 'task_id: 11209',\n",
       " 'adv_id: 12615',\n",
       " 'creat_type_cd: 9',\n",
       " 'adv_prim_id: 545',\n",
       " 'inter_type_cd: 4',\n",
       " 'slot_id: 60',\n",
       " 'spread_app_id: 116',\n",
       " 'hispace_app_tags: 43',\n",
       " 'app_second_class: 20',\n",
       " 'app_score: 3',\n",
       " 'ad_click_list_v001: 108720',\n",
       " 'ad_click_list_v002: 95376',\n",
       " 'ad_click_list_v003: 61102',\n",
       " 'ad_close_list_v001: 3883',\n",
       " 'ad_close_list_v002: 2701',\n",
       " 'ad_close_list_v003: 1715',\n",
       " 'pt_d: 5436',\n",
       " 'u_newsCatInterestsST: 187576',\n",
       " 'u_refreshTimes: 10',\n",
       " 'u_feedLifeCycle: 8']"
      ]
     },
     "execution_count": 64,
     "metadata": {},
     "output_type": "execute_result"
    }
   ],
   "source": [
    "# check for uniques\n",
    "\n",
    "[f'{col}: {len(df_ads[col].unique())}' for col in df_ads.columns]"
   ]
  },
  {
   "cell_type": "code",
   "execution_count": 65,
   "metadata": {},
   "outputs": [
    {
     "data": {
      "text/plain": [
       "['u_userId: 180123',\n",
       " 'u_phonePrice: 7',\n",
       " 'u_browserLifeCycle: 8',\n",
       " 'u_browserMode: 8',\n",
       " 'u_feedLifeCycle: 8',\n",
       " 'u_refreshTimes: 10',\n",
       " 'u_newsCatInterests: 202636',\n",
       " 'u_newsCatDislike: 810',\n",
       " 'u_newsCatInterestsST: 625044',\n",
       " 'u_click_ca2_news: 758921',\n",
       " 'i_docId: 98600',\n",
       " 'i_s_sourceId: 4040',\n",
       " 'i_regionEntity: 378',\n",
       " 'i_cat: 208',\n",
       " 'i_entities: 92747',\n",
       " 'i_dislikeTimes: 10',\n",
       " 'i_upTimes: 10',\n",
       " 'i_dtype: 5',\n",
       " 'e_ch: 19',\n",
       " 'e_m: 274',\n",
       " 'e_po: 27',\n",
       " 'e_pl: 3113',\n",
       " 'e_rn: 99',\n",
       " 'e_section: 2',\n",
       " 'e_et: 3663',\n",
       " 'label: 2',\n",
       " 'cillabel: 2',\n",
       " 'pro: 85']"
      ]
     },
     "execution_count": 65,
     "metadata": {},
     "output_type": "execute_result"
    }
   ],
   "source": [
    "[f'{col}: {len(df_feeds[col].unique())}' for col in df_feeds.columns]"
   ]
  },
  {
   "cell_type": "markdown",
   "metadata": {},
   "source": [
    "# DOWNSAMPLE\n",
    "\n",
    "feeds dataset has more unique user id, if join on right(feeds), there will be a lot NAN. We needs to find a way to impute the nan.\n",
    "\n",
    "but if join by ads, it will lose many information.\n",
    "\n",
    "we could compare both results.\n",
    "\n",
    "but let's do inner join, it won't have nan, it will be easier to work with for now."
   ]
  },
  {
   "cell_type": "markdown",
   "metadata": {},
   "source": [
    "### INNER JOIN"
   ]
  },
  {
   "cell_type": "code",
   "execution_count": 6,
   "metadata": {},
   "outputs": [
    {
     "data": {
      "text/plain": [
       "0    0.98436\n",
       "1    0.01564\n",
       "Name: label, dtype: float64"
      ]
     },
     "execution_count": 6,
     "metadata": {},
     "output_type": "execute_result"
    }
   ],
   "source": [
    "df_ads_sub = df_ads.sample(n=100000, random_state=2333)\n",
    "df_ads_sub.label.value_counts(normalize=True)\n",
    "\n",
    "# pick one subset\n",
    "# that has most similar label value counts"
   ]
  },
  {
   "cell_type": "code",
   "execution_count": 7,
   "metadata": {},
   "outputs": [],
   "source": [
    "df_feeds_sub = df_feeds.sample(n=100000, random_state=2333)"
   ]
  },
  {
   "cell_type": "code",
   "execution_count": 68,
   "metadata": {},
   "outputs": [
    {
     "data": {
      "text/plain": [
       "((100000, 34), (100000, 28))"
      ]
     },
     "execution_count": 68,
     "metadata": {},
     "output_type": "execute_result"
    }
   ],
   "source": [
    "df_ads_sub.shape, df_feeds_sub.shape"
   ]
  },
  {
   "cell_type": "code",
   "execution_count": 9,
   "metadata": {},
   "outputs": [],
   "source": [
    "df = df_ads_sub.merge(df_feeds_sub, left_on='user_id', right_on='u_userId', how='inner')"
   ]
  },
  {
   "cell_type": "code",
   "execution_count": 10,
   "metadata": {},
   "outputs": [
    {
     "data": {
      "text/plain": [
       "(294393, 62)"
      ]
     },
     "execution_count": 10,
     "metadata": {},
     "output_type": "execute_result"
    }
   ],
   "source": [
    "df.shape"
   ]
  },
  {
   "cell_type": "code",
   "execution_count": 11,
   "metadata": {},
   "outputs": [
    {
     "data": {
      "text/html": [
       "<div>\n",
       "<style scoped>\n",
       "    .dataframe tbody tr th:only-of-type {\n",
       "        vertical-align: middle;\n",
       "    }\n",
       "\n",
       "    .dataframe tbody tr th {\n",
       "        vertical-align: top;\n",
       "    }\n",
       "\n",
       "    .dataframe thead th {\n",
       "        text-align: right;\n",
       "    }\n",
       "</style>\n",
       "<table border=\"1\" class=\"dataframe\">\n",
       "  <thead>\n",
       "    <tr style=\"text-align: right;\">\n",
       "      <th></th>\n",
       "      <th>log_id</th>\n",
       "      <th>label_x</th>\n",
       "      <th>user_id</th>\n",
       "      <th>age</th>\n",
       "      <th>gender</th>\n",
       "      <th>residence</th>\n",
       "      <th>city</th>\n",
       "      <th>city_rank</th>\n",
       "      <th>series_dev</th>\n",
       "      <th>series_group</th>\n",
       "      <th>emui_dev</th>\n",
       "      <th>device_name</th>\n",
       "      <th>device_size</th>\n",
       "      <th>net_type</th>\n",
       "      <th>task_id</th>\n",
       "      <th>adv_id</th>\n",
       "      <th>creat_type_cd</th>\n",
       "      <th>adv_prim_id</th>\n",
       "      <th>inter_type_cd</th>\n",
       "      <th>slot_id</th>\n",
       "      <th>spread_app_id</th>\n",
       "      <th>hispace_app_tags</th>\n",
       "      <th>app_second_class</th>\n",
       "      <th>app_score</th>\n",
       "      <th>ad_click_list_v001</th>\n",
       "      <th>ad_click_list_v002</th>\n",
       "      <th>ad_click_list_v003</th>\n",
       "      <th>ad_close_list_v001</th>\n",
       "      <th>ad_close_list_v002</th>\n",
       "      <th>ad_close_list_v003</th>\n",
       "      <th>pt_d</th>\n",
       "      <th>u_newsCatInterestsST_x</th>\n",
       "      <th>u_refreshTimes_x</th>\n",
       "      <th>u_feedLifeCycle_x</th>\n",
       "      <th>u_userId</th>\n",
       "      <th>u_phonePrice</th>\n",
       "      <th>u_browserLifeCycle</th>\n",
       "      <th>u_browserMode</th>\n",
       "      <th>u_feedLifeCycle_y</th>\n",
       "      <th>u_refreshTimes_y</th>\n",
       "      <th>u_newsCatInterests</th>\n",
       "      <th>u_newsCatDislike</th>\n",
       "      <th>u_newsCatInterestsST_y</th>\n",
       "      <th>u_click_ca2_news</th>\n",
       "      <th>i_docId</th>\n",
       "      <th>i_s_sourceId</th>\n",
       "      <th>i_regionEntity</th>\n",
       "      <th>i_cat</th>\n",
       "      <th>i_entities</th>\n",
       "      <th>i_dislikeTimes</th>\n",
       "      <th>i_upTimes</th>\n",
       "      <th>i_dtype</th>\n",
       "      <th>e_ch</th>\n",
       "      <th>e_m</th>\n",
       "      <th>e_po</th>\n",
       "      <th>e_pl</th>\n",
       "      <th>e_rn</th>\n",
       "      <th>e_section</th>\n",
       "      <th>e_et</th>\n",
       "      <th>label_y</th>\n",
       "      <th>cillabel</th>\n",
       "      <th>pro</th>\n",
       "    </tr>\n",
       "  </thead>\n",
       "  <tbody>\n",
       "    <tr>\n",
       "      <th>0</th>\n",
       "      <td>758591</td>\n",
       "      <td>0</td>\n",
       "      <td>152172</td>\n",
       "      <td>3</td>\n",
       "      <td>2</td>\n",
       "      <td>46</td>\n",
       "      <td>138</td>\n",
       "      <td>2</td>\n",
       "      <td>24</td>\n",
       "      <td>2</td>\n",
       "      <td>23</td>\n",
       "      <td>311</td>\n",
       "      <td>1134</td>\n",
       "      <td>6</td>\n",
       "      <td>35264</td>\n",
       "      <td>16799</td>\n",
       "      <td>8</td>\n",
       "      <td>1173</td>\n",
       "      <td>5</td>\n",
       "      <td>38</td>\n",
       "      <td>162</td>\n",
       "      <td>47</td>\n",
       "      <td>14</td>\n",
       "      <td>10.0</td>\n",
       "      <td>34099^13546^24949^21493^30157</td>\n",
       "      <td>1036^1482^1105^2066^1633</td>\n",
       "      <td>312^257^306^114^162</td>\n",
       "      <td>24107</td>\n",
       "      <td>1218</td>\n",
       "      <td>173</td>\n",
       "      <td>202206051153</td>\n",
       "      <td>78^98^98^86^98</td>\n",
       "      <td>6</td>\n",
       "      <td>17</td>\n",
       "      <td>152172</td>\n",
       "      <td>16</td>\n",
       "      <td>17</td>\n",
       "      <td>10</td>\n",
       "      <td>17</td>\n",
       "      <td>6</td>\n",
       "      <td>98^98^98^86^112</td>\n",
       "      <td>0</td>\n",
       "      <td>78^109^98^98^112</td>\n",
       "      <td>197^17^112^100^102</td>\n",
       "      <td>e624404378e9d97ef78b6eb6da811314a4ca3f5e</td>\n",
       "      <td>32821a20916400e7432f2284a15af0143e2c0150</td>\n",
       "      <td>0</td>\n",
       "      <td>50</td>\n",
       "      <td>NaN</td>\n",
       "      <td>9</td>\n",
       "      <td>9</td>\n",
       "      <td>11</td>\n",
       "      <td>19</td>\n",
       "      <td>1217</td>\n",
       "      <td>4</td>\n",
       "      <td>1116</td>\n",
       "      <td>2</td>\n",
       "      <td>0</td>\n",
       "      <td>202206052119</td>\n",
       "      <td>-1</td>\n",
       "      <td>-1</td>\n",
       "      <td>0</td>\n",
       "    </tr>\n",
       "    <tr>\n",
       "      <th>1</th>\n",
       "      <td>758591</td>\n",
       "      <td>0</td>\n",
       "      <td>152172</td>\n",
       "      <td>3</td>\n",
       "      <td>2</td>\n",
       "      <td>46</td>\n",
       "      <td>138</td>\n",
       "      <td>2</td>\n",
       "      <td>24</td>\n",
       "      <td>2</td>\n",
       "      <td>23</td>\n",
       "      <td>311</td>\n",
       "      <td>1134</td>\n",
       "      <td>6</td>\n",
       "      <td>35264</td>\n",
       "      <td>16799</td>\n",
       "      <td>8</td>\n",
       "      <td>1173</td>\n",
       "      <td>5</td>\n",
       "      <td>38</td>\n",
       "      <td>162</td>\n",
       "      <td>47</td>\n",
       "      <td>14</td>\n",
       "      <td>10.0</td>\n",
       "      <td>34099^13546^24949^21493^30157</td>\n",
       "      <td>1036^1482^1105^2066^1633</td>\n",
       "      <td>312^257^306^114^162</td>\n",
       "      <td>24107</td>\n",
       "      <td>1218</td>\n",
       "      <td>173</td>\n",
       "      <td>202206051153</td>\n",
       "      <td>78^98^98^86^98</td>\n",
       "      <td>6</td>\n",
       "      <td>17</td>\n",
       "      <td>152172</td>\n",
       "      <td>16</td>\n",
       "      <td>17</td>\n",
       "      <td>10</td>\n",
       "      <td>17</td>\n",
       "      <td>6</td>\n",
       "      <td>98^98^98^86^78</td>\n",
       "      <td>0</td>\n",
       "      <td>98^71^218^94^78</td>\n",
       "      <td>98^94^71^218^65</td>\n",
       "      <td>512546f35e013ed7c2af32c3902c11a1c0d4ec01</td>\n",
       "      <td>8bfd032b50b89d2eaa8c957052a757c6739d1438</td>\n",
       "      <td>0</td>\n",
       "      <td>98</td>\n",
       "      <td>a194a902ef5c00c1160c38c54a800ad0bd61601ad5ff5b...</td>\n",
       "      <td>0</td>\n",
       "      <td>0</td>\n",
       "      <td>11</td>\n",
       "      <td>19</td>\n",
       "      <td>1217</td>\n",
       "      <td>6</td>\n",
       "      <td>1431</td>\n",
       "      <td>1</td>\n",
       "      <td>1</td>\n",
       "      <td>202206071622</td>\n",
       "      <td>-1</td>\n",
       "      <td>-1</td>\n",
       "      <td>0</td>\n",
       "    </tr>\n",
       "    <tr>\n",
       "      <th>2</th>\n",
       "      <td>758562</td>\n",
       "      <td>0</td>\n",
       "      <td>152172</td>\n",
       "      <td>3</td>\n",
       "      <td>2</td>\n",
       "      <td>46</td>\n",
       "      <td>138</td>\n",
       "      <td>2</td>\n",
       "      <td>24</td>\n",
       "      <td>2</td>\n",
       "      <td>23</td>\n",
       "      <td>311</td>\n",
       "      <td>1134</td>\n",
       "      <td>7</td>\n",
       "      <td>12814</td>\n",
       "      <td>15050</td>\n",
       "      <td>10</td>\n",
       "      <td>1562</td>\n",
       "      <td>4</td>\n",
       "      <td>16</td>\n",
       "      <td>152</td>\n",
       "      <td>49</td>\n",
       "      <td>17</td>\n",
       "      <td>10.0</td>\n",
       "      <td>34099^13546^24949^21493^30157</td>\n",
       "      <td>1036^1482^1105^2066^1633</td>\n",
       "      <td>312^257^306^114^162</td>\n",
       "      <td>24107</td>\n",
       "      <td>1218</td>\n",
       "      <td>173</td>\n",
       "      <td>202206050707</td>\n",
       "      <td>78^98^98^86^98</td>\n",
       "      <td>6</td>\n",
       "      <td>17</td>\n",
       "      <td>152172</td>\n",
       "      <td>16</td>\n",
       "      <td>17</td>\n",
       "      <td>10</td>\n",
       "      <td>17</td>\n",
       "      <td>6</td>\n",
       "      <td>98^98^98^86^112</td>\n",
       "      <td>0</td>\n",
       "      <td>78^109^98^98^112</td>\n",
       "      <td>197^17^112^100^102</td>\n",
       "      <td>e624404378e9d97ef78b6eb6da811314a4ca3f5e</td>\n",
       "      <td>32821a20916400e7432f2284a15af0143e2c0150</td>\n",
       "      <td>0</td>\n",
       "      <td>50</td>\n",
       "      <td>NaN</td>\n",
       "      <td>9</td>\n",
       "      <td>9</td>\n",
       "      <td>11</td>\n",
       "      <td>19</td>\n",
       "      <td>1217</td>\n",
       "      <td>4</td>\n",
       "      <td>1116</td>\n",
       "      <td>2</td>\n",
       "      <td>0</td>\n",
       "      <td>202206052119</td>\n",
       "      <td>-1</td>\n",
       "      <td>-1</td>\n",
       "      <td>0</td>\n",
       "    </tr>\n",
       "    <tr>\n",
       "      <th>3</th>\n",
       "      <td>758562</td>\n",
       "      <td>0</td>\n",
       "      <td>152172</td>\n",
       "      <td>3</td>\n",
       "      <td>2</td>\n",
       "      <td>46</td>\n",
       "      <td>138</td>\n",
       "      <td>2</td>\n",
       "      <td>24</td>\n",
       "      <td>2</td>\n",
       "      <td>23</td>\n",
       "      <td>311</td>\n",
       "      <td>1134</td>\n",
       "      <td>7</td>\n",
       "      <td>12814</td>\n",
       "      <td>15050</td>\n",
       "      <td>10</td>\n",
       "      <td>1562</td>\n",
       "      <td>4</td>\n",
       "      <td>16</td>\n",
       "      <td>152</td>\n",
       "      <td>49</td>\n",
       "      <td>17</td>\n",
       "      <td>10.0</td>\n",
       "      <td>34099^13546^24949^21493^30157</td>\n",
       "      <td>1036^1482^1105^2066^1633</td>\n",
       "      <td>312^257^306^114^162</td>\n",
       "      <td>24107</td>\n",
       "      <td>1218</td>\n",
       "      <td>173</td>\n",
       "      <td>202206050707</td>\n",
       "      <td>78^98^98^86^98</td>\n",
       "      <td>6</td>\n",
       "      <td>17</td>\n",
       "      <td>152172</td>\n",
       "      <td>16</td>\n",
       "      <td>17</td>\n",
       "      <td>10</td>\n",
       "      <td>17</td>\n",
       "      <td>6</td>\n",
       "      <td>98^98^98^86^78</td>\n",
       "      <td>0</td>\n",
       "      <td>98^71^218^94^78</td>\n",
       "      <td>98^94^71^218^65</td>\n",
       "      <td>512546f35e013ed7c2af32c3902c11a1c0d4ec01</td>\n",
       "      <td>8bfd032b50b89d2eaa8c957052a757c6739d1438</td>\n",
       "      <td>0</td>\n",
       "      <td>98</td>\n",
       "      <td>a194a902ef5c00c1160c38c54a800ad0bd61601ad5ff5b...</td>\n",
       "      <td>0</td>\n",
       "      <td>0</td>\n",
       "      <td>11</td>\n",
       "      <td>19</td>\n",
       "      <td>1217</td>\n",
       "      <td>6</td>\n",
       "      <td>1431</td>\n",
       "      <td>1</td>\n",
       "      <td>1</td>\n",
       "      <td>202206071622</td>\n",
       "      <td>-1</td>\n",
       "      <td>-1</td>\n",
       "      <td>0</td>\n",
       "    </tr>\n",
       "    <tr>\n",
       "      <th>4</th>\n",
       "      <td>766198</td>\n",
       "      <td>0</td>\n",
       "      <td>152172</td>\n",
       "      <td>3</td>\n",
       "      <td>2</td>\n",
       "      <td>46</td>\n",
       "      <td>138</td>\n",
       "      <td>2</td>\n",
       "      <td>24</td>\n",
       "      <td>2</td>\n",
       "      <td>23</td>\n",
       "      <td>311</td>\n",
       "      <td>1667</td>\n",
       "      <td>6</td>\n",
       "      <td>35264</td>\n",
       "      <td>16799</td>\n",
       "      <td>8</td>\n",
       "      <td>1173</td>\n",
       "      <td>5</td>\n",
       "      <td>17</td>\n",
       "      <td>162</td>\n",
       "      <td>47</td>\n",
       "      <td>14</td>\n",
       "      <td>10.0</td>\n",
       "      <td>22697^34099^13546^24949^21493</td>\n",
       "      <td>1369^1036^1482^1105^2066</td>\n",
       "      <td>162^312^257^306^114</td>\n",
       "      <td>24107</td>\n",
       "      <td>1218</td>\n",
       "      <td>173</td>\n",
       "      <td>202206060231</td>\n",
       "      <td>78^86^98^98^197</td>\n",
       "      <td>6</td>\n",
       "      <td>17</td>\n",
       "      <td>152172</td>\n",
       "      <td>16</td>\n",
       "      <td>17</td>\n",
       "      <td>10</td>\n",
       "      <td>17</td>\n",
       "      <td>6</td>\n",
       "      <td>98^98^98^86^112</td>\n",
       "      <td>0</td>\n",
       "      <td>78^109^98^98^112</td>\n",
       "      <td>197^17^112^100^102</td>\n",
       "      <td>e624404378e9d97ef78b6eb6da811314a4ca3f5e</td>\n",
       "      <td>32821a20916400e7432f2284a15af0143e2c0150</td>\n",
       "      <td>0</td>\n",
       "      <td>50</td>\n",
       "      <td>NaN</td>\n",
       "      <td>9</td>\n",
       "      <td>9</td>\n",
       "      <td>11</td>\n",
       "      <td>19</td>\n",
       "      <td>1217</td>\n",
       "      <td>4</td>\n",
       "      <td>1116</td>\n",
       "      <td>2</td>\n",
       "      <td>0</td>\n",
       "      <td>202206052119</td>\n",
       "      <td>-1</td>\n",
       "      <td>-1</td>\n",
       "      <td>0</td>\n",
       "    </tr>\n",
       "  </tbody>\n",
       "</table>\n",
       "</div>"
      ],
      "text/plain": [
       "   log_id  label_x  user_id  age  gender  residence  city  city_rank  \\\n",
       "0  758591        0   152172    3       2         46   138          2   \n",
       "1  758591        0   152172    3       2         46   138          2   \n",
       "2  758562        0   152172    3       2         46   138          2   \n",
       "3  758562        0   152172    3       2         46   138          2   \n",
       "4  766198        0   152172    3       2         46   138          2   \n",
       "\n",
       "   series_dev  series_group  emui_dev  device_name  device_size  net_type  \\\n",
       "0          24             2        23          311         1134         6   \n",
       "1          24             2        23          311         1134         6   \n",
       "2          24             2        23          311         1134         7   \n",
       "3          24             2        23          311         1134         7   \n",
       "4          24             2        23          311         1667         6   \n",
       "\n",
       "   task_id  adv_id  creat_type_cd  adv_prim_id  inter_type_cd  slot_id  \\\n",
       "0    35264   16799              8         1173              5       38   \n",
       "1    35264   16799              8         1173              5       38   \n",
       "2    12814   15050             10         1562              4       16   \n",
       "3    12814   15050             10         1562              4       16   \n",
       "4    35264   16799              8         1173              5       17   \n",
       "\n",
       "   spread_app_id  hispace_app_tags  app_second_class  app_score  \\\n",
       "0            162                47                14       10.0   \n",
       "1            162                47                14       10.0   \n",
       "2            152                49                17       10.0   \n",
       "3            152                49                17       10.0   \n",
       "4            162                47                14       10.0   \n",
       "\n",
       "              ad_click_list_v001        ad_click_list_v002  \\\n",
       "0  34099^13546^24949^21493^30157  1036^1482^1105^2066^1633   \n",
       "1  34099^13546^24949^21493^30157  1036^1482^1105^2066^1633   \n",
       "2  34099^13546^24949^21493^30157  1036^1482^1105^2066^1633   \n",
       "3  34099^13546^24949^21493^30157  1036^1482^1105^2066^1633   \n",
       "4  22697^34099^13546^24949^21493  1369^1036^1482^1105^2066   \n",
       "\n",
       "    ad_click_list_v003 ad_close_list_v001 ad_close_list_v002  \\\n",
       "0  312^257^306^114^162              24107               1218   \n",
       "1  312^257^306^114^162              24107               1218   \n",
       "2  312^257^306^114^162              24107               1218   \n",
       "3  312^257^306^114^162              24107               1218   \n",
       "4  162^312^257^306^114              24107               1218   \n",
       "\n",
       "  ad_close_list_v003          pt_d u_newsCatInterestsST_x  u_refreshTimes_x  \\\n",
       "0                173  202206051153         78^98^98^86^98                 6   \n",
       "1                173  202206051153         78^98^98^86^98                 6   \n",
       "2                173  202206050707         78^98^98^86^98                 6   \n",
       "3                173  202206050707         78^98^98^86^98                 6   \n",
       "4                173  202206060231        78^86^98^98^197                 6   \n",
       "\n",
       "   u_feedLifeCycle_x  u_userId  u_phonePrice  u_browserLifeCycle  \\\n",
       "0                 17    152172            16                  17   \n",
       "1                 17    152172            16                  17   \n",
       "2                 17    152172            16                  17   \n",
       "3                 17    152172            16                  17   \n",
       "4                 17    152172            16                  17   \n",
       "\n",
       "   u_browserMode  u_feedLifeCycle_y  u_refreshTimes_y u_newsCatInterests  \\\n",
       "0             10                 17                 6    98^98^98^86^112   \n",
       "1             10                 17                 6     98^98^98^86^78   \n",
       "2             10                 17                 6    98^98^98^86^112   \n",
       "3             10                 17                 6     98^98^98^86^78   \n",
       "4             10                 17                 6    98^98^98^86^112   \n",
       "\n",
       "  u_newsCatDislike u_newsCatInterestsST_y    u_click_ca2_news  \\\n",
       "0                0       78^109^98^98^112  197^17^112^100^102   \n",
       "1                0        98^71^218^94^78     98^94^71^218^65   \n",
       "2                0       78^109^98^98^112  197^17^112^100^102   \n",
       "3                0        98^71^218^94^78     98^94^71^218^65   \n",
       "4                0       78^109^98^98^112  197^17^112^100^102   \n",
       "\n",
       "                                    i_docId  \\\n",
       "0  e624404378e9d97ef78b6eb6da811314a4ca3f5e   \n",
       "1  512546f35e013ed7c2af32c3902c11a1c0d4ec01   \n",
       "2  e624404378e9d97ef78b6eb6da811314a4ca3f5e   \n",
       "3  512546f35e013ed7c2af32c3902c11a1c0d4ec01   \n",
       "4  e624404378e9d97ef78b6eb6da811314a4ca3f5e   \n",
       "\n",
       "                               i_s_sourceId  i_regionEntity  i_cat  \\\n",
       "0  32821a20916400e7432f2284a15af0143e2c0150               0     50   \n",
       "1  8bfd032b50b89d2eaa8c957052a757c6739d1438               0     98   \n",
       "2  32821a20916400e7432f2284a15af0143e2c0150               0     50   \n",
       "3  8bfd032b50b89d2eaa8c957052a757c6739d1438               0     98   \n",
       "4  32821a20916400e7432f2284a15af0143e2c0150               0     50   \n",
       "\n",
       "                                          i_entities  i_dislikeTimes  \\\n",
       "0                                                NaN               9   \n",
       "1  a194a902ef5c00c1160c38c54a800ad0bd61601ad5ff5b...               0   \n",
       "2                                                NaN               9   \n",
       "3  a194a902ef5c00c1160c38c54a800ad0bd61601ad5ff5b...               0   \n",
       "4                                                NaN               9   \n",
       "\n",
       "   i_upTimes  i_dtype  e_ch   e_m  e_po  e_pl  e_rn  e_section          e_et  \\\n",
       "0          9       11    19  1217     4  1116     2          0  202206052119   \n",
       "1          0       11    19  1217     6  1431     1          1  202206071622   \n",
       "2          9       11    19  1217     4  1116     2          0  202206052119   \n",
       "3          0       11    19  1217     6  1431     1          1  202206071622   \n",
       "4          9       11    19  1217     4  1116     2          0  202206052119   \n",
       "\n",
       "   label_y  cillabel  pro  \n",
       "0       -1        -1    0  \n",
       "1       -1        -1    0  \n",
       "2       -1        -1    0  \n",
       "3       -1        -1    0  \n",
       "4       -1        -1    0  "
      ]
     },
     "execution_count": 11,
     "metadata": {},
     "output_type": "execute_result"
    }
   ],
   "source": [
    "df.head(5)"
   ]
  },
  {
   "cell_type": "code",
   "execution_count": 15,
   "metadata": {},
   "outputs": [
    {
     "data": {
      "text/plain": [
       "log_id                    False\n",
       "label_x                   False\n",
       "user_id                   False\n",
       "age                       False\n",
       "gender                    False\n",
       "residence                 False\n",
       "city                      False\n",
       "city_rank                 False\n",
       "series_dev                False\n",
       "series_group              False\n",
       "emui_dev                  False\n",
       "device_name               False\n",
       "device_size               False\n",
       "net_type                  False\n",
       "task_id                   False\n",
       "adv_id                    False\n",
       "creat_type_cd             False\n",
       "adv_prim_id               False\n",
       "inter_type_cd             False\n",
       "slot_id                   False\n",
       "spread_app_id             False\n",
       "hispace_app_tags          False\n",
       "app_second_class          False\n",
       "app_score                 False\n",
       "ad_click_list_v001        False\n",
       "ad_click_list_v002        False\n",
       "ad_click_list_v003        False\n",
       "ad_close_list_v001        False\n",
       "ad_close_list_v002        False\n",
       "ad_close_list_v003        False\n",
       "pt_d                      False\n",
       "u_newsCatInterestsST_x    False\n",
       "u_refreshTimes_x          False\n",
       "u_feedLifeCycle_x         False\n",
       "u_userId                  False\n",
       "u_phonePrice              False\n",
       "u_browserLifeCycle        False\n",
       "u_browserMode             False\n",
       "u_feedLifeCycle_y         False\n",
       "u_refreshTimes_y          False\n",
       "u_newsCatInterests        False\n",
       "u_newsCatDislike          False\n",
       "u_newsCatInterestsST_y    False\n",
       "u_click_ca2_news          False\n",
       "i_docId                   False\n",
       "i_s_sourceId              False\n",
       "i_regionEntity            False\n",
       "i_cat                     False\n",
       "i_entities                 True\n",
       "i_dislikeTimes            False\n",
       "i_upTimes                 False\n",
       "i_dtype                   False\n",
       "e_ch                      False\n",
       "e_m                       False\n",
       "e_po                      False\n",
       "e_pl                      False\n",
       "e_rn                      False\n",
       "e_section                 False\n",
       "e_et                      False\n",
       "label_y                   False\n",
       "cillabel                  False\n",
       "pro                       False\n",
       "dtype: bool"
      ]
     },
     "execution_count": 15,
     "metadata": {},
     "output_type": "execute_result"
    }
   ],
   "source": [
    "# check for nan\n",
    "\n",
    "df.isna().any()\n",
    "\n",
    "# i_entities has nan"
   ]
  },
  {
   "cell_type": "code",
   "execution_count": 14,
   "metadata": {},
   "outputs": [
    {
     "name": "stdout",
     "output_type": "stream",
     "text": [
      "<class 'pandas.core.frame.DataFrame'>\n",
      "Int64Index: 294393 entries, 0 to 294392\n",
      "Data columns (total 62 columns):\n",
      " #   Column                  Non-Null Count   Dtype  \n",
      "---  ------                  --------------   -----  \n",
      " 0   log_id                  294393 non-null  int64  \n",
      " 1   label_x                 294393 non-null  int64  \n",
      " 2   user_id                 294393 non-null  int64  \n",
      " 3   age                     294393 non-null  int64  \n",
      " 4   gender                  294393 non-null  int64  \n",
      " 5   residence               294393 non-null  int64  \n",
      " 6   city                    294393 non-null  int64  \n",
      " 7   city_rank               294393 non-null  int64  \n",
      " 8   series_dev              294393 non-null  int64  \n",
      " 9   series_group            294393 non-null  int64  \n",
      " 10  emui_dev                294393 non-null  int64  \n",
      " 11  device_name             294393 non-null  int64  \n",
      " 12  device_size             294393 non-null  int64  \n",
      " 13  net_type                294393 non-null  int64  \n",
      " 14  task_id                 294393 non-null  int64  \n",
      " 15  adv_id                  294393 non-null  int64  \n",
      " 16  creat_type_cd           294393 non-null  int64  \n",
      " 17  adv_prim_id             294393 non-null  int64  \n",
      " 18  inter_type_cd           294393 non-null  int64  \n",
      " 19  slot_id                 294393 non-null  int64  \n",
      " 20  spread_app_id           294393 non-null  int64  \n",
      " 21  hispace_app_tags        294393 non-null  int64  \n",
      " 22  app_second_class        294393 non-null  int64  \n",
      " 23  app_score               294393 non-null  float64\n",
      " 24  ad_click_list_v001      294393 non-null  object \n",
      " 25  ad_click_list_v002      294393 non-null  object \n",
      " 26  ad_click_list_v003      294393 non-null  object \n",
      " 27  ad_close_list_v001      294393 non-null  object \n",
      " 28  ad_close_list_v002      294393 non-null  object \n",
      " 29  ad_close_list_v003      294393 non-null  object \n",
      " 30  pt_d                    294393 non-null  int64  \n",
      " 31  u_newsCatInterestsST_x  294393 non-null  object \n",
      " 32  u_refreshTimes_x        294393 non-null  int64  \n",
      " 33  u_feedLifeCycle_x       294393 non-null  int64  \n",
      " 34  u_userId                294393 non-null  int64  \n",
      " 35  u_phonePrice            294393 non-null  int64  \n",
      " 36  u_browserLifeCycle      294393 non-null  int64  \n",
      " 37  u_browserMode           294393 non-null  int64  \n",
      " 38  u_feedLifeCycle_y       294393 non-null  int64  \n",
      " 39  u_refreshTimes_y        294393 non-null  int64  \n",
      " 40  u_newsCatInterests      294393 non-null  object \n",
      " 41  u_newsCatDislike        294393 non-null  object \n",
      " 42  u_newsCatInterestsST_y  294393 non-null  object \n",
      " 43  u_click_ca2_news        294393 non-null  object \n",
      " 44  i_docId                 294393 non-null  object \n",
      " 45  i_s_sourceId            294393 non-null  object \n",
      " 46  i_regionEntity          294393 non-null  int64  \n",
      " 47  i_cat                   294393 non-null  int64  \n",
      " 48  i_entities              284984 non-null  object \n",
      " 49  i_dislikeTimes          294393 non-null  int64  \n",
      " 50  i_upTimes               294393 non-null  int64  \n",
      " 51  i_dtype                 294393 non-null  int64  \n",
      " 52  e_ch                    294393 non-null  int64  \n",
      " 53  e_m                     294393 non-null  int64  \n",
      " 54  e_po                    294393 non-null  int64  \n",
      " 55  e_pl                    294393 non-null  int64  \n",
      " 56  e_rn                    294393 non-null  int64  \n",
      " 57  e_section               294393 non-null  int64  \n",
      " 58  e_et                    294393 non-null  int64  \n",
      " 59  label_y                 294393 non-null  int64  \n",
      " 60  cillabel                294393 non-null  int64  \n",
      " 61  pro                     294393 non-null  int64  \n",
      "dtypes: float64(1), int64(47), object(14)\n",
      "memory usage: 141.5+ MB\n"
     ]
    }
   ],
   "source": [
    "# check for datatype\n",
    "\n",
    "df.info()"
   ]
  },
  {
   "cell_type": "code",
   "execution_count": 16,
   "metadata": {},
   "outputs": [],
   "source": [
    "df_num = df.select_dtypes(include=['int64','float64'])"
   ]
  },
  {
   "cell_type": "code",
   "execution_count": 17,
   "metadata": {},
   "outputs": [],
   "source": [
    "df_num.drop(columns=['pt_d','e_et','u_userId'], inplace=True)"
   ]
  },
  {
   "cell_type": "code",
   "execution_count": 18,
   "metadata": {},
   "outputs": [
    {
     "data": {
      "text/plain": [
       "Index(['log_id', 'label_x', 'user_id', 'age', 'gender', 'residence', 'city',\n",
       "       'city_rank', 'series_dev', 'series_group', 'emui_dev', 'device_name',\n",
       "       'device_size', 'net_type', 'task_id', 'adv_id', 'creat_type_cd',\n",
       "       'adv_prim_id', 'inter_type_cd', 'slot_id', 'spread_app_id',\n",
       "       'hispace_app_tags', 'app_second_class', 'app_score', 'u_refreshTimes_x',\n",
       "       'u_feedLifeCycle_x', 'u_phonePrice', 'u_browserLifeCycle',\n",
       "       'u_browserMode', 'u_feedLifeCycle_y', 'u_refreshTimes_y',\n",
       "       'i_regionEntity', 'i_cat', 'i_dislikeTimes', 'i_upTimes', 'i_dtype',\n",
       "       'e_ch', 'e_m', 'e_po', 'e_pl', 'e_rn', 'e_section', 'label_y',\n",
       "       'cillabel', 'pro'],\n",
       "      dtype='object')"
      ]
     },
     "execution_count": 18,
     "metadata": {},
     "output_type": "execute_result"
    }
   ],
   "source": [
    "df_num.columns"
   ]
  },
  {
   "cell_type": "code",
   "execution_count": 19,
   "metadata": {},
   "outputs": [],
   "source": [
    "df_num = df_num.rename(columns = {'label_x':'label'})"
   ]
  },
  {
   "cell_type": "markdown",
   "metadata": {},
   "source": [
    "### EXPORT FOR NEURAL NETWORK"
   ]
  },
  {
   "cell_type": "code",
   "execution_count": 21,
   "metadata": {},
   "outputs": [],
   "source": [
    "# export the simple subset for baseline\n",
    "df_num.to_csv(r'D:\\VIVY_LEARNING\\Flatiron\\DS_P3_CTR_Prediction\\Output_Data\\subset_300k_baseline.csv', index = False)"
   ]
  },
  {
   "cell_type": "code",
   "execution_count": null,
   "metadata": {},
   "outputs": [],
   "source": []
  },
  {
   "cell_type": "markdown",
   "metadata": {},
   "source": [
    "# CHECK OUT THE FEATURES"
   ]
  },
  {
   "cell_type": "markdown",
   "metadata": {},
   "source": [
    "### log_id"
   ]
  },
  {
   "cell_type": "code",
   "execution_count": null,
   "metadata": {},
   "outputs": [],
   "source": [
    "df['log_id'].value_counts()"
   ]
  },
  {
   "cell_type": "markdown",
   "metadata": {},
   "source": [
    "### age"
   ]
  },
  {
   "cell_type": "code",
   "execution_count": null,
   "metadata": {},
   "outputs": [
    {
     "data": {
      "text/plain": [
       "8    0.211386\n",
       "7    0.201288\n",
       "3    0.190323\n",
       "2    0.123245\n",
       "6    0.118895\n",
       "5    0.114315\n",
       "4    0.022630\n",
       "9    0.017917\n",
       "Name: age, dtype: float64"
      ]
     },
     "execution_count": 14,
     "metadata": {},
     "output_type": "execute_result"
    }
   ],
   "source": [
    "df['age'].value_counts(normalize=True)\n",
    "\n",
    "# seems like it's been divived into different groups"
   ]
  },
  {
   "cell_type": "code",
   "execution_count": null,
   "metadata": {},
   "outputs": [
    {
     "data": {
      "text/plain": [
       "<AxesSubplot:xlabel='age', ylabel='Count'>"
      ]
     },
     "execution_count": 7,
     "metadata": {},
     "output_type": "execute_result"
    },
    {
     "data": {
      "image/png": "[encoded data removed]",
      "text/plain": [
       "<Figure size 720x432 with 1 Axes>"
      ]
     },
     "metadata": {
      "needs_background": "light"
     },
     "output_type": "display_data"
    }
   ],
   "source": [
    "fig,ax = plt.subplots(figsize=(10,6))\n",
    "\n",
    "sns.histplot(data = df, x = 'age', hue= 'label', bins=8, palette='Dark2', kde=True, ax = ax)\n"
   ]
  },
  {
   "cell_type": "code",
   "execution_count": null,
   "metadata": {},
   "outputs": [
    {
     "data": {
      "image/png": "[encoded data removed]",
      "text/plain": [
       "<Figure size 1008x576 with 1 Axes>"
      ]
     },
     "metadata": {
      "needs_background": "light"
     },
     "output_type": "display_data"
    }
   ],
   "source": [
    "fig,ax = plt.subplots(figsize=(14,8))\n",
    "\n",
    "sns.countplot(data=df, x=\"age\",hue='gender', ax=ax)\n",
    "\n",
    "plt.title('age x gender | label',fontsize=15)\n",
    "ax.set_xlabel('age')\n",
    "ax.set_ylabel('gender');\n",
    "\n",
    "\n",
    "# there are 3 gender\n",
    "# may be female, male, unknown"
   ]
  },
  {
   "cell_type": "code",
   "execution_count": null,
   "metadata": {},
   "outputs": [
    {
     "data": {
      "text/plain": [
       "35"
      ]
     },
     "execution_count": 36,
     "metadata": {},
     "output_type": "execute_result"
    }
   ],
   "source": [
    "len(df.residence.unique())"
   ]
  },
  {
   "cell_type": "code",
   "execution_count": null,
   "metadata": {},
   "outputs": [
    {
     "data": {
      "text/plain": [
       "<AxesSubplot:xlabel='residence', ylabel='Count'>"
      ]
     },
     "execution_count": 40,
     "metadata": {},
     "output_type": "execute_result"
    },
    {
     "data": {
      "image/png": "[encoded data removed]",
      "text/plain": [
       "<Figure size 720x432 with 1 Axes>"
      ]
     },
     "metadata": {
      "needs_background": "light"
     },
     "output_type": "display_data"
    }
   ],
   "source": [
    "fig,ax = plt.subplots(figsize=(10,6))\n",
    "\n",
    "sns.histplot(data = df, x = 'residence', hue= 'label', bins=35, palette='Dark2', ax = ax)"
   ]
  },
  {
   "cell_type": "code",
   "execution_count": null,
   "metadata": {},
   "outputs": [
    {
     "data": {
      "text/plain": [
       "Text(0.5, 1.0, 'age x residence | label')"
      ]
     },
     "execution_count": 45,
     "metadata": {},
     "output_type": "execute_result"
    },
    {
     "data": {
      "image/png": "[encoded data removed]",
      "text/plain": [
       "<Figure size 1440x720 with 1 Axes>"
      ]
     },
     "metadata": {
      "needs_background": "light"
     },
     "output_type": "display_data"
    }
   ],
   "source": [
    "fig,ax = plt.subplots(figsize=(20,10))\n",
    "\n",
    "sns.countplot(data=df, x=\"residence\",hue='age', ax=ax)\n",
    "\n",
    "plt.title('age x residence | label',fontsize=15)"
   ]
  },
  {
   "cell_type": "code",
   "execution_count": null,
   "metadata": {},
   "outputs": [],
   "source": []
  },
  {
   "cell_type": "code",
   "execution_count": null,
   "metadata": {},
   "outputs": [],
   "source": []
  }
 ],
 "metadata": {
  "kernelspec": {
   "display_name": "Python 3.9.12 ('base')",
   "language": "python",
   "name": "python3"
  },
  "language_info": {
   "codemirror_mode": {
    "name": "ipython",
    "version": 3
   },
   "file_extension": ".py",
   "mimetype": "text/x-python",
   "name": "python",
   "nbconvert_exporter": "python",
   "pygments_lexer": "ipython3",
   "version": "3.9.12"
  },
  "orig_nbformat": 4,
  "vscode": {
   "interpreter": {
    "hash": "c738c5dbbe27c39534afaf60a228761ec99c842d673ea0c5f841b81d59c4efd4"
   }
  }
 },
 "nbformat": 4,
 "nbformat_minor": 2
}
